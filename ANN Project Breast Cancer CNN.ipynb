{
  "nbformat": 4,
  "nbformat_minor": 0,
  "metadata": {
    "colab": {
      "name": "ANN - Project Breast Cancer.ipynb",
      "provenance": [],
      "collapsed_sections": [
        "LJ5cFgT64ANA"
      ]
    },
    "kernelspec": {
      "name": "python3",
      "display_name": "Python 3"
    },
    "accelerator": "GPU"
  },
  "cells": [
    {
      "cell_type": "markdown",
      "metadata": {
        "id": "lm5D-XRxumeS"
      },
      "source": [
        "# CLASIFICACIÓN DE IMÁGENES HISTOPATOLÓGICAS DE CÁNCER DE MAMA USANDO REDES NEURONALES CONVOLUCIONALES\n",
        "\n",
        "## Artificial Neural Networks - 2020-2\n",
        "\n",
        "* Gantiva, S esgantivar@unal.edu.co\n",
        "* Carrillo, E eccarrilloe@unal.edu.co\n",
        "* Garzón, E egarzonv@unal.edu.co\n",
        "* Velásquez, D arvelasqueza@unal.edu.co"
      ]
    },
    {
      "cell_type": "markdown",
      "metadata": {
        "id": "v-YzxgFFts7S"
      },
      "source": [
        "Mount Google Drive"
      ]
    },
    {
      "cell_type": "code",
      "metadata": {
        "id": "zkgAz3yXO9Y7",
        "colab": {
          "base_uri": "https://localhost:8080/"
        },
        "outputId": "55534de4-0869-48b4-fbe2-d11a1489b769"
      },
      "source": [
        "from google.colab import drive\n",
        "drive.mount('/content/drive')"
      ],
      "execution_count": 1,
      "outputs": [
        {
          "output_type": "stream",
          "text": [
            "Drive already mounted at /content/drive; to attempt to forcibly remount, call drive.mount(\"/content/drive\", force_remount=True).\n"
          ],
          "name": "stdout"
        }
      ]
    },
    {
      "cell_type": "markdown",
      "metadata": {
        "id": "g8BUGiDitv8S"
      },
      "source": [
        "Copy h5py datasets"
      ]
    },
    {
      "cell_type": "code",
      "metadata": {
        "id": "-X4_cv7Ot5OS"
      },
      "source": [
        "!cp '/content/drive/Shared drives/Redes Neuronales/Proyecto - RN/datasets/breakhis_40PX_96.hdf5' .\n",
        "!cp '/content/drive/Shared drives/Redes Neuronales/Proyecto - RN/datasets/breakhis_100PX_96.hdf5' .\n",
        "!cp '/content/drive/Shared drives/Redes Neuronales/Proyecto - RN/datasets/breakhis_200PX_96.hdf5' .\n",
        "!cp '/content/drive/Shared drives/Redes Neuronales/Proyecto - RN/datasets/breakhis_400PX_96.hdf5' ."
      ],
      "execution_count": 2,
      "outputs": []
    },
    {
      "cell_type": "markdown",
      "metadata": {
        "id": "hlY6UXDdtynb"
      },
      "source": [
        "Install additional libraries"
      ]
    },
    {
      "cell_type": "code",
      "metadata": {
        "id": "6i4W1o6bQFjp",
        "colab": {
          "base_uri": "https://localhost:8080/"
        },
        "outputId": "b34635ab-52cb-44ea-c905-49c2df445749"
      },
      "source": [
        "!pip install fuel -q"
      ],
      "execution_count": 3,
      "outputs": [
        {
          "output_type": "stream",
          "text": [
            "\u001b[?25l\r\u001b[K     |█▊                              | 10kB 23.4MB/s eta 0:00:01\r\u001b[K     |███▌                            | 20kB 18.0MB/s eta 0:00:01\r\u001b[K     |█████▎                          | 30kB 15.1MB/s eta 0:00:01\r\u001b[K     |███████                         | 40kB 15.6MB/s eta 0:00:01\r\u001b[K     |████████▉                       | 51kB 12.6MB/s eta 0:00:01\r\u001b[K     |██████████▋                     | 61kB 12.5MB/s eta 0:00:01\r\u001b[K     |████████████▍                   | 71kB 12.0MB/s eta 0:00:01\r\u001b[K     |██████████████▏                 | 81kB 13.1MB/s eta 0:00:01\r\u001b[K     |████████████████                | 92kB 12.6MB/s eta 0:00:01\r\u001b[K     |█████████████████▊              | 102kB 13.6MB/s eta 0:00:01\r\u001b[K     |███████████████████▌            | 112kB 13.6MB/s eta 0:00:01\r\u001b[K     |█████████████████████▎          | 122kB 13.6MB/s eta 0:00:01\r\u001b[K     |███████████████████████         | 133kB 13.6MB/s eta 0:00:01\r\u001b[K     |████████████████████████▉       | 143kB 13.6MB/s eta 0:00:01\r\u001b[K     |██████████████████████████▋     | 153kB 13.6MB/s eta 0:00:01\r\u001b[K     |████████████████████████████▍   | 163kB 13.6MB/s eta 0:00:01\r\u001b[K     |██████████████████████████████▏ | 174kB 13.6MB/s eta 0:00:01\r\u001b[K     |████████████████████████████████| 184kB 13.6MB/s eta 0:00:01\r\u001b[K     |████████████████████████████████| 194kB 13.6MB/s \n",
            "\u001b[?25h  Building wheel for fuel (setup.py) ... \u001b[?25l\u001b[?25hdone\n",
            "  Building wheel for picklable-itertools (setup.py) ... \u001b[?25l\u001b[?25hdone\n"
          ],
          "name": "stdout"
        }
      ]
    },
    {
      "cell_type": "markdown",
      "metadata": {
        "id": "zzwK4bFQuSTJ"
      },
      "source": [
        "Load libraries"
      ]
    },
    {
      "cell_type": "code",
      "metadata": {
        "id": "SU1tuXa8Pb-_"
      },
      "source": [
        "import numpy as np\n",
        "import pandas as pd\n",
        "import tensorflow as tf\n",
        "\n",
        "from tensorflow import keras\n",
        "from tensorflow.keras.models import Sequential, Model, load_model\n",
        "from tensorflow.keras.layers import Activation, Dense, Flatten, BatchNormalization, Conv2D, MaxPool2D, Dropout, GlobalAveragePooling2D\n",
        "from tensorflow.keras.optimizers import Adam\n",
        "from tensorflow.keras.callbacks import EarlyStopping\n",
        "from sklearn.metrics import confusion_matrix\n",
        "from sklearn.decomposition import PCA\n",
        "from tqdm import tqdm\n",
        "from keras.applications.mobilenet_v2 import MobileNetV2, preprocess_input, decode_predictions"
      ],
      "execution_count": 18,
      "outputs": []
    },
    {
      "cell_type": "code",
      "metadata": {
        "id": "zW049WnXQD6k"
      },
      "source": [
        "from fuel.datasets import H5PYDataset"
      ],
      "execution_count": 3,
      "outputs": []
    },
    {
      "cell_type": "code",
      "metadata": {
        "id": "EFV_Y36cd4Vn"
      },
      "source": [
        "import matplotlib.pyplot as plt\n",
        "import itertools"
      ],
      "execution_count": 4,
      "outputs": []
    },
    {
      "cell_type": "markdown",
      "metadata": {
        "id": "bPfzzmpfmYMi"
      },
      "source": [
        "## Utils Functions"
      ]
    },
    {
      "cell_type": "code",
      "metadata": {
        "id": "bfKsEnCKbk-k"
      },
      "source": [
        "class ReturnBestEarlyStopping(EarlyStopping):\n",
        "    def __init__(self, **kwargs):\n",
        "        super(ReturnBestEarlyStopping, self).__init__(**kwargs)\n",
        "\n",
        "    def on_train_end(self, logs=None):\n",
        "        if self.stopped_epoch > 0:\n",
        "            if self.verbose > 0:\n",
        "                print(f'\\nEpoch {self.stopped_epoch + 1}: early stopping')\n",
        "        elif self.restore_best_weights:\n",
        "            if self.verbose > 0:\n",
        "                print('Restoring model weights from the end of the best epoch.')\n",
        "            self.model.set_weights(self.best_weights)"
      ],
      "execution_count": 81,
      "outputs": []
    },
    {
      "cell_type": "code",
      "metadata": {
        "id": "PQGbsj_9v6Cz"
      },
      "source": [
        "def plot_metric(history, metric, init=0, title='Training and validation', path='/notebooks/storage', save=False, ext='pdf'):\n",
        "  train_metrics = history[metric][init:]\n",
        "  val_metrics = history['val_'+metric][init:]\n",
        "  epochs = [i for i in range(init + 1, len(train_metrics) + 1 + init)]\n",
        "  plt.style.use(\"seaborn\")\n",
        "  plt.plot(epochs, train_metrics, 'bo--')\n",
        "  plt.plot(epochs, val_metrics, 'ro-')\n",
        "  plt.title(title)\n",
        "  plt.xlabel(\"Epochs\")\n",
        "  plt.ylabel(metric)\n",
        "  plt.legend([\"train_\"+metric, 'val_'+metric])\n",
        "  if save:\n",
        "    plt.savefig(f\"{path}/{title}.{ext}\")\n",
        "  plt.show()"
      ],
      "execution_count": 5,
      "outputs": []
    },
    {
      "cell_type": "code",
      "metadata": {
        "id": "hfEVnRCcyYVQ"
      },
      "source": [
        "def save_history(history, name, path='/notebooks/storage/histories'):\n",
        "    '''\n",
        "        history: Generated from training process\n",
        "        name: Name to persist the history on storage\n",
        "    '''\n",
        "    hist_df = pd.DataFrame(history.history) \n",
        "    hist_json_file = f'{path}/{name}.json' \n",
        "    with open(hist_json_file, mode='w') as f:\n",
        "        hist_df.to_json(f)"
      ],
      "execution_count": 6,
      "outputs": []
    },
    {
      "cell_type": "code",
      "metadata": {
        "id": "ALHTGnQjyyIx"
      },
      "source": [
        "def load_history(name, path='/notebooks/storage/histories'):    \n",
        "    '''\n",
        "        name: Name to find and load history\n",
        "    '''\n",
        "    return pd.read_json(f'{path}/{name}.json')"
      ],
      "execution_count": 7,
      "outputs": []
    },
    {
      "cell_type": "code",
      "metadata": {
        "id": "y4UXh-HQzekg"
      },
      "source": [
        "def save_model_utils(model, path='/notebooks/storage/models'):\n",
        "    model.save(f'{path}/{model.name}.h5')\n",
        "    print(f'saved as: {model.name}')"
      ],
      "execution_count": 8,
      "outputs": []
    },
    {
      "cell_type": "code",
      "metadata": {
        "id": "U8XVGtrHze52"
      },
      "source": [
        "def load_model_utils(name, path='/notebooks/storage/models'):\n",
        "    print(f'{path}/{name}.h5')\n",
        "    return load_model(f'{path}/{name}.h5')"
      ],
      "execution_count": 9,
      "outputs": []
    },
    {
      "cell_type": "code",
      "metadata": {
        "id": "LlAGqsF_6kY6"
      },
      "source": [
        "def plot_confusion_matrix(cm, classes,\n",
        "                        normalize=False,\n",
        "                        title='Confusion matrix',\n",
        "                        cmap=plt.cm.Blues,\n",
        "                        save=False,\n",
        "                        path='/content',\n",
        "                        ext='pdf'):\n",
        "    \"\"\"\n",
        "    This function prints and plots the confusion matrix.\n",
        "    Normalization can be applied by setting `normalize=True`.\n",
        "    \"\"\"\n",
        "    plt.imshow(cm, interpolation='nearest', cmap=cmap)\n",
        "    plt.title(title)\n",
        "    plt.colorbar()\n",
        "    tick_marks = np.arange(len(classes))\n",
        "    plt.xticks(tick_marks, classes, rotation=45)\n",
        "    plt.yticks(tick_marks, classes)\n",
        "\n",
        "    if normalize:\n",
        "        cm = cm.astype('float') / cm.sum(axis=1)[:, np.newaxis]\n",
        "        #print(\"Normalized confusion matrix\")\n",
        "\n",
        "    # print(cm)\n",
        "\n",
        "    thresh = cm.max() / 2.\n",
        "    for i, j in itertools.product(range(cm.shape[0]), range(cm.shape[1])):\n",
        "        plt.text(j, i, cm[i, j],\n",
        "            horizontalalignment=\"center\",\n",
        "            color=\"white\" if cm[i, j] > thresh else \"black\")\n",
        "\n",
        "    plt.tight_layout()\n",
        "    plt.ylabel('True label')\n",
        "    plt.xlabel('Predicted label')\n",
        "    if save:\n",
        "      plt.savefig(f\"{path}/{title}.{ext}\")"
      ],
      "execution_count": 10,
      "outputs": []
    },
    {
      "cell_type": "markdown",
      "metadata": {
        "id": "vhtiJZD5mK8U"
      },
      "source": [
        "## Proposed Model Artificial Neural Network"
      ]
    },
    {
      "cell_type": "code",
      "metadata": {
        "id": "ToQQbgAWGuX8"
      },
      "source": [
        "lr = 0.0001"
      ],
      "execution_count": null,
      "outputs": []
    },
    {
      "cell_type": "code",
      "metadata": {
        "id": "1tWnS9HVGfQ3",
        "colab": {
          "base_uri": "https://localhost:8080/"
        },
        "outputId": "ba3a39d4-afc3-47f6-a80d-4b7e2950daef"
      },
      "source": [
        "for px in [40]:\n",
        "  model = Sequential(name=f'{px}PX_96_shallow')\n",
        "  model.add(Conv2D(input_shape=(96,96,3),filters=64,kernel_size=(3,3),padding=\"same\", activation=\"relu\"))\n",
        "  model.add(Conv2D(filters=64,kernel_size=(4,4),padding=\"same\", activation=\"relu\"))\n",
        "  model.add(MaxPool2D(pool_size=(2,2),strides=(2,2)))\n",
        "  model.add(Conv2D(filters=128, kernel_size=(3,3), padding=\"same\", activation=\"relu\"))\n",
        "  model.add(Conv2D(filters=128, kernel_size=(3,3), padding=\"same\", activation=\"relu\"))\n",
        "  model.add(MaxPool2D(pool_size=(2,2),strides=(2,2)))\n",
        "  model.add(Dropout(0.5))\n",
        "  model.add(Conv2D(filters=256, kernel_size=(3,3), padding=\"same\", activation=\"relu\"))\n",
        "  model.add(Conv2D(filters=256, kernel_size=(3,3), padding=\"same\", activation=\"relu\"))\n",
        "  model.add(MaxPool2D(pool_size=(2,2),strides=(2,2)))\n",
        "  model.add(Dropout(0.5))\n",
        "  model.add(Flatten())\n",
        "  model.add(Dense(units=4096,activation=\"relu\"))\n",
        "  model.add(Dense(units=4096,activation=\"relu\"))\n",
        "  model.add(Dense(units=2, activation=\"softmax\"))\n",
        "\n",
        "  model.summary()\n",
        "\n",
        "  earlyStopping = ReturnBestEarlyStopping(monitor='val_accuracy', \n",
        "                                          patience=50, \n",
        "                                          verbose=1, \n",
        "                                          mode='max', \n",
        "                                          restore_best_weights=True)\n",
        "  callback_list = [earlyStopping]\n",
        "\n",
        "  model.compile(optimizer=Adam(learning_rate=lr), \n",
        "                loss='categorical_crossentropy', \n",
        "                metrics=['accuracy'])\n",
        "  \n",
        "  x_train = H5PYDataset(f'breakhis_{px}PX_96.hdf5', which_sets=('train',), sources = ['images'], load_in_memory=True).data_sources[0]\n",
        "  y_train = H5PYDataset(f'breakhis_{px}PX_96.hdf5', which_sets=('train',), sources = ['labels'], load_in_memory=True).data_sources[0]\n",
        "  y_train = tf.keras.utils.to_categorical(y_train, 2)\n",
        "  print('train', x_train.shape, y_train.shape)\n",
        "\n",
        "  x_dev = H5PYDataset(f'breakhis_{px}PX_96.hdf5', which_sets=('dev',), sources = ['images'], load_in_memory=True).data_sources[0]\n",
        "  y_dev = H5PYDataset(f'breakhis_{px}PX_96.hdf5', which_sets=('dev',), sources = ['labels'], load_in_memory=True).data_sources[0]\n",
        "  y_dev = tf.keras.utils.to_categorical(y_dev, 2)\n",
        "  print('dev', x_dev.shape, y_dev.shape)\n",
        "\n",
        "  history = model.fit(x_train, \n",
        "                      y_train, \n",
        "                      epochs=50,\n",
        "                      verbose=1,\n",
        "                      batch_size=64, \n",
        "                      callbacks=callback_list,\n",
        "                      validation_data=(x_dev, y_dev))\n",
        "  \n",
        "  save_model_utils(model, path='/content')\n",
        "  save_history(history, f'{px}PX_shallow', path='/content')\n",
        "\n",
        "  x_test = H5PYDataset(f'breakhis_{px}PX_96.hdf5', which_sets=('test',), sources = ['images'], load_in_memory=True).data_sources[0]\n",
        "  y_test = H5PYDataset(f'breakhis_{px}PX_96.hdf5', which_sets=('test',), sources = ['labels'], load_in_memory=True).data_sources[0]\n",
        "  y_true = H5PYDataset(f'breakhis_{px}PX_96.hdf5', which_sets=('test',), sources = ['labels'], load_in_memory=True).data_sources[0]\n",
        "  y_test = tf.keras.utils.to_categorical(y_test, 2)\n",
        "  print('test', x_test.shape, y_test.shape)\n",
        "\n",
        "  score_train = model.evaluate(x_train, y_train, verbose=0)\n",
        "  print('train', score_train)\n",
        "  score_dev = model.evaluate(x_dev, y_dev, verbose=0)\n",
        "  print('dev', score_dev)\n",
        "  score_test = model.evaluate(x_test, y_test, verbose=0)\n",
        "  print('test', score_test)"
      ],
      "execution_count": null,
      "outputs": [
        {
          "output_type": "stream",
          "text": [
            "Model: \"40PX_96_shallow\"\n",
            "_________________________________________________________________\n",
            "Layer (type)                 Output Shape              Param #   \n",
            "=================================================================\n",
            "conv2d_18 (Conv2D)           (None, 96, 96, 64)        1792      \n",
            "_________________________________________________________________\n",
            "conv2d_19 (Conv2D)           (None, 96, 96, 64)        65600     \n",
            "_________________________________________________________________\n",
            "max_pooling2d_9 (MaxPooling2 (None, 48, 48, 64)        0         \n",
            "_________________________________________________________________\n",
            "conv2d_20 (Conv2D)           (None, 48, 48, 128)       73856     \n",
            "_________________________________________________________________\n",
            "conv2d_21 (Conv2D)           (None, 48, 48, 128)       147584    \n",
            "_________________________________________________________________\n",
            "max_pooling2d_10 (MaxPooling (None, 24, 24, 128)       0         \n",
            "_________________________________________________________________\n",
            "dropout_6 (Dropout)          (None, 24, 24, 128)       0         \n",
            "_________________________________________________________________\n",
            "conv2d_22 (Conv2D)           (None, 24, 24, 256)       295168    \n",
            "_________________________________________________________________\n",
            "conv2d_23 (Conv2D)           (None, 24, 24, 256)       590080    \n",
            "_________________________________________________________________\n",
            "max_pooling2d_11 (MaxPooling (None, 12, 12, 256)       0         \n",
            "_________________________________________________________________\n",
            "dropout_7 (Dropout)          (None, 12, 12, 256)       0         \n",
            "_________________________________________________________________\n",
            "flatten_3 (Flatten)          (None, 36864)             0         \n",
            "_________________________________________________________________\n",
            "dense_9 (Dense)              (None, 4096)              150999040 \n",
            "_________________________________________________________________\n",
            "dense_10 (Dense)             (None, 4096)              16781312  \n",
            "_________________________________________________________________\n",
            "dense_11 (Dense)             (None, 2)                 8194      \n",
            "=================================================================\n",
            "Total params: 168,962,626\n",
            "Trainable params: 168,962,626\n",
            "Non-trainable params: 0\n",
            "_________________________________________________________________\n",
            "train (998, 96, 96, 3) (998, 2)\n",
            "dev (399, 96, 96, 3) (399, 2)\n",
            "Epoch 1/50\n",
            " 2/16 [==>...........................] - ETA: 1s - loss: 33.8598 - accuracy: 0.5547WARNING:tensorflow:Callbacks method `on_train_batch_end` is slow compared to the batch time (batch time: 0.0577s vs `on_train_batch_end` time: 0.1272s). Check your callbacks.\n",
            "16/16 [==============================] - 4s 279ms/step - loss: 25.3576 - accuracy: 0.5772 - val_loss: 0.8437 - val_accuracy: 0.2982\n",
            "Epoch 2/50\n",
            "16/16 [==============================] - 3s 202ms/step - loss: 0.7668 - accuracy: 0.5972 - val_loss: 0.6893 - val_accuracy: 0.4862\n",
            "Epoch 3/50\n",
            "16/16 [==============================] - 3s 201ms/step - loss: 0.5959 - accuracy: 0.6814 - val_loss: 0.6034 - val_accuracy: 0.7970\n",
            "Epoch 4/50\n",
            "16/16 [==============================] - 3s 200ms/step - loss: 0.5466 - accuracy: 0.7345 - val_loss: 0.5051 - val_accuracy: 0.8321\n",
            "Epoch 5/50\n",
            "16/16 [==============================] - 3s 177ms/step - loss: 0.5049 - accuracy: 0.7956 - val_loss: 0.4991 - val_accuracy: 0.8020\n",
            "Epoch 6/50\n",
            "16/16 [==============================] - 3s 178ms/step - loss: 0.4762 - accuracy: 0.7986 - val_loss: 0.4758 - val_accuracy: 0.8246\n",
            "Epoch 7/50\n",
            "16/16 [==============================] - 3s 179ms/step - loss: 0.4740 - accuracy: 0.7886 - val_loss: 0.5213 - val_accuracy: 0.7945\n",
            "Epoch 8/50\n",
            "16/16 [==============================] - 3s 181ms/step - loss: 0.4791 - accuracy: 0.7906 - val_loss: 0.5172 - val_accuracy: 0.7945\n",
            "Epoch 9/50\n",
            "16/16 [==============================] - 3s 182ms/step - loss: 0.4772 - accuracy: 0.7936 - val_loss: 0.4675 - val_accuracy: 0.8296\n",
            "Epoch 10/50\n",
            "16/16 [==============================] - 3s 184ms/step - loss: 0.4843 - accuracy: 0.8006 - val_loss: 0.4836 - val_accuracy: 0.8145\n",
            "Epoch 11/50\n",
            "16/16 [==============================] - 3s 185ms/step - loss: 0.4964 - accuracy: 0.7735 - val_loss: 0.4768 - val_accuracy: 0.8195\n",
            "Epoch 12/50\n",
            "16/16 [==============================] - 3s 187ms/step - loss: 0.4551 - accuracy: 0.8146 - val_loss: 0.5027 - val_accuracy: 0.8045\n",
            "Epoch 13/50\n",
            "16/16 [==============================] - 3s 188ms/step - loss: 0.4405 - accuracy: 0.8166 - val_loss: 0.4952 - val_accuracy: 0.8221\n",
            "Epoch 14/50\n",
            "16/16 [==============================] - 3s 213ms/step - loss: 0.4487 - accuracy: 0.8186 - val_loss: 0.4882 - val_accuracy: 0.8396\n",
            "Epoch 15/50\n",
            "16/16 [==============================] - 3s 188ms/step - loss: 0.4309 - accuracy: 0.8226 - val_loss: 0.5212 - val_accuracy: 0.7970\n",
            "Epoch 16/50\n",
            "16/16 [==============================] - 3s 189ms/step - loss: 0.4250 - accuracy: 0.8267 - val_loss: 0.4587 - val_accuracy: 0.8120\n",
            "Epoch 17/50\n",
            "16/16 [==============================] - 3s 186ms/step - loss: 0.4410 - accuracy: 0.8156 - val_loss: 0.5321 - val_accuracy: 0.8070\n",
            "Epoch 18/50\n",
            "16/16 [==============================] - 3s 183ms/step - loss: 0.4192 - accuracy: 0.8206 - val_loss: 0.5315 - val_accuracy: 0.8070\n",
            "Epoch 19/50\n",
            "16/16 [==============================] - 3s 183ms/step - loss: 0.4362 - accuracy: 0.8186 - val_loss: 0.5035 - val_accuracy: 0.8045\n",
            "Epoch 20/50\n",
            "16/16 [==============================] - 3s 181ms/step - loss: 0.4173 - accuracy: 0.8206 - val_loss: 0.5018 - val_accuracy: 0.8145\n",
            "Epoch 21/50\n",
            "16/16 [==============================] - 3s 180ms/step - loss: 0.4014 - accuracy: 0.8307 - val_loss: 0.5570 - val_accuracy: 0.7970\n",
            "Epoch 22/50\n",
            "16/16 [==============================] - 3s 179ms/step - loss: 0.4060 - accuracy: 0.8287 - val_loss: 0.4800 - val_accuracy: 0.7995\n",
            "Epoch 23/50\n",
            "16/16 [==============================] - 3s 179ms/step - loss: 0.3865 - accuracy: 0.8347 - val_loss: 0.4533 - val_accuracy: 0.8296\n",
            "Epoch 24/50\n",
            "16/16 [==============================] - 3s 178ms/step - loss: 0.4723 - accuracy: 0.8016 - val_loss: 0.4936 - val_accuracy: 0.8095\n",
            "Epoch 25/50\n",
            "16/16 [==============================] - 3s 179ms/step - loss: 0.4315 - accuracy: 0.8257 - val_loss: 0.4725 - val_accuracy: 0.8145\n",
            "Epoch 26/50\n",
            "16/16 [==============================] - 3s 178ms/step - loss: 0.4252 - accuracy: 0.8196 - val_loss: 0.4988 - val_accuracy: 0.8020\n",
            "Epoch 27/50\n",
            "16/16 [==============================] - 3s 179ms/step - loss: 0.4282 - accuracy: 0.8226 - val_loss: 0.4706 - val_accuracy: 0.8296\n",
            "Epoch 28/50\n",
            "16/16 [==============================] - 3s 179ms/step - loss: 0.4741 - accuracy: 0.7986 - val_loss: 0.5023 - val_accuracy: 0.8045\n",
            "Epoch 29/50\n",
            "16/16 [==============================] - 3s 179ms/step - loss: 0.4396 - accuracy: 0.8026 - val_loss: 0.4156 - val_accuracy: 0.8221\n",
            "Epoch 30/50\n",
            "16/16 [==============================] - 3s 179ms/step - loss: 0.3918 - accuracy: 0.8367 - val_loss: 0.4756 - val_accuracy: 0.7920\n",
            "Epoch 31/50\n",
            "16/16 [==============================] - 3s 180ms/step - loss: 0.4135 - accuracy: 0.8066 - val_loss: 0.4622 - val_accuracy: 0.8296\n",
            "Epoch 32/50\n",
            "16/16 [==============================] - 3s 182ms/step - loss: 0.4047 - accuracy: 0.8377 - val_loss: 0.4389 - val_accuracy: 0.8170\n",
            "Epoch 33/50\n",
            "16/16 [==============================] - 3s 183ms/step - loss: 0.3865 - accuracy: 0.8417 - val_loss: 0.4483 - val_accuracy: 0.8045\n",
            "Epoch 34/50\n",
            "16/16 [==============================] - 3s 185ms/step - loss: 0.3896 - accuracy: 0.8387 - val_loss: 0.5401 - val_accuracy: 0.7368\n",
            "Epoch 35/50\n",
            "16/16 [==============================] - 3s 184ms/step - loss: 0.3565 - accuracy: 0.8527 - val_loss: 0.4150 - val_accuracy: 0.8195\n",
            "Epoch 36/50\n",
            "16/16 [==============================] - 3s 185ms/step - loss: 0.3536 - accuracy: 0.8567 - val_loss: 0.4684 - val_accuracy: 0.7644\n",
            "Epoch 37/50\n",
            "16/16 [==============================] - 3s 184ms/step - loss: 0.3867 - accuracy: 0.8257 - val_loss: 0.4391 - val_accuracy: 0.8120\n",
            "Epoch 38/50\n",
            "16/16 [==============================] - 3s 185ms/step - loss: 0.3375 - accuracy: 0.8557 - val_loss: 0.4128 - val_accuracy: 0.8296\n",
            "Epoch 39/50\n",
            "16/16 [==============================] - 3s 185ms/step - loss: 0.3539 - accuracy: 0.8527 - val_loss: 0.3942 - val_accuracy: 0.8246\n",
            "Epoch 40/50\n",
            "16/16 [==============================] - 3s 184ms/step - loss: 0.3209 - accuracy: 0.8557 - val_loss: 0.3749 - val_accuracy: 0.8396\n",
            "Epoch 41/50\n",
            "16/16 [==============================] - 3s 208ms/step - loss: 0.3812 - accuracy: 0.8397 - val_loss: 0.4083 - val_accuracy: 0.8421\n",
            "Epoch 42/50\n",
            "16/16 [==============================] - 3s 184ms/step - loss: 0.3441 - accuracy: 0.8597 - val_loss: 0.3713 - val_accuracy: 0.8421\n",
            "Epoch 43/50\n",
            "16/16 [==============================] - 3s 182ms/step - loss: 0.3243 - accuracy: 0.8607 - val_loss: 0.3718 - val_accuracy: 0.8321\n",
            "Epoch 44/50\n",
            "16/16 [==============================] - 3s 183ms/step - loss: 0.3537 - accuracy: 0.8497 - val_loss: 0.4066 - val_accuracy: 0.8296\n",
            "Epoch 45/50\n",
            "16/16 [==============================] - 3s 183ms/step - loss: 0.3247 - accuracy: 0.8617 - val_loss: 0.4281 - val_accuracy: 0.8296\n",
            "Epoch 46/50\n",
            "16/16 [==============================] - 3s 182ms/step - loss: 0.3068 - accuracy: 0.8707 - val_loss: 0.4047 - val_accuracy: 0.8221\n",
            "Epoch 47/50\n",
            "16/16 [==============================] - 3s 182ms/step - loss: 0.3033 - accuracy: 0.8788 - val_loss: 0.4172 - val_accuracy: 0.8095\n",
            "Epoch 48/50\n",
            "16/16 [==============================] - 3s 207ms/step - loss: 0.3867 - accuracy: 0.8347 - val_loss: 0.3990 - val_accuracy: 0.8446\n",
            "Epoch 49/50\n",
            "16/16 [==============================] - 3s 180ms/step - loss: 0.4017 - accuracy: 0.8056 - val_loss: 0.4795 - val_accuracy: 0.7970\n",
            "Epoch 50/50\n",
            "16/16 [==============================] - 3s 180ms/step - loss: 0.3154 - accuracy: 0.8737 - val_loss: 0.3837 - val_accuracy: 0.8396\n",
            "Restoring model weights from the end of the best epoch.\n",
            "saved as: 40PX_96_shallow\n",
            "test (598, 96, 96, 3) (598, 2)\n",
            "train [0.33471864461898804, 0.8947895765304565]\n",
            "dev [0.3989861011505127, 0.8446115255355835]\n",
            "test [0.4351772964000702, 0.8244147300720215]\n"
          ],
          "name": "stdout"
        }
      ]
    },
    {
      "cell_type": "code",
      "metadata": {
        "id": "UPFTun7WMJZn"
      },
      "source": [
        "!mv '/content/40PX_96_shallow.h5' '/content/drive/Shared drives/Redes Neuronales/Proyecto - RN/models'\n",
        "!mv '/content/100PX_96_shallow.h5' '/content/drive/Shared drives/Redes Neuronales/Proyecto - RN/models'\n",
        "!mv '/content/200PX_96_shallow.h5' '/content/drive/Shared drives/Redes Neuronales/Proyecto - RN/models'\n",
        "!mv '/content/400PX_96_shallow.h5' '/content/drive/Shared drives/Redes Neuronales/Proyecto - RN/models'\n",
        "\n",
        "!mv '/content/40PX_shallow.json' '/content/drive/Shared drives/Redes Neuronales/Proyecto - RN/histories'\n",
        "!mv '/content/100PX_shallow.json' '/content/drive/Shared drives/Redes Neuronales/Proyecto - RN/histories'\n",
        "!mv '/content/200PX_shallow.json' '/content/drive/Shared drives/Redes Neuronales/Proyecto - RN/histories'\n",
        "!mv '/content/400PX_shallow.json' '/content/drive/Shared drives/Redes Neuronales/Proyecto - RN/histories'"
      ],
      "execution_count": null,
      "outputs": []
    },
    {
      "cell_type": "markdown",
      "metadata": {
        "id": "JIEhto8_Dxq7"
      },
      "source": [
        "### Evaluate"
      ]
    },
    {
      "cell_type": "code",
      "metadata": {
        "id": "Lue4CdpQPafC"
      },
      "source": [
        "PX = 40"
      ],
      "execution_count": null,
      "outputs": []
    },
    {
      "cell_type": "code",
      "metadata": {
        "id": "se_Mhe4J0civ",
        "colab": {
          "base_uri": "https://localhost:8080/"
        },
        "outputId": "d82a69a8-dcd1-4910-cf09-05628ca10724"
      },
      "source": [
        "model_load = load_model_utils(f'{PX}PX_96_shallow', path='/content/drive/Shared drives/Redes Neuronales/Proyecto - RN/models')"
      ],
      "execution_count": null,
      "outputs": [
        {
          "output_type": "stream",
          "text": [
            "/content/drive/Shared drives/Redes Neuronales/Proyecto - RN/models/40PX_96_shallow.h5\n"
          ],
          "name": "stdout"
        }
      ]
    },
    {
      "cell_type": "code",
      "metadata": {
        "id": "Ad8rWBOLECyG",
        "colab": {
          "base_uri": "https://localhost:8080/"
        },
        "outputId": "8277b1fe-349c-4bb3-e247-9bda12a77670"
      },
      "source": [
        "x_test = H5PYDataset(f'breakhis_{PX}PX_96.hdf5', which_sets=('test',), sources = ['images'], load_in_memory=True).data_sources[0]\n",
        "y_test = H5PYDataset(f'breakhis_{PX}PX_96.hdf5', which_sets=('test',), sources = ['labels'], load_in_memory=True).data_sources[0]\n",
        "y_true = H5PYDataset(f'breakhis_{PX}PX_96.hdf5', which_sets=('test',), sources = ['labels'], load_in_memory=True).data_sources[0]\n",
        "y_test = tf.keras.utils.to_categorical(y_test, 2)\n",
        "x_test.shape, y_test.shape, y_true.shape"
      ],
      "execution_count": null,
      "outputs": [
        {
          "output_type": "execute_result",
          "data": {
            "text/plain": [
              "((598, 96, 96, 3), (598, 2), (598,))"
            ]
          },
          "metadata": {
            "tags": []
          },
          "execution_count": 17
        }
      ]
    },
    {
      "cell_type": "code",
      "metadata": {
        "id": "kxDwCAvNEYh5",
        "colab": {
          "base_uri": "https://localhost:8080/"
        },
        "outputId": "b2a9aca7-8db9-4c0b-ed13-a09d8905842f"
      },
      "source": [
        "y_pred = model_load.predict(x_test)\n",
        "y_pred = np.argmax(y_pred, axis=1)\n",
        "cm = confusion_matrix(y_true=y_true,\n",
        "                      y_pred=y_pred)\n",
        "cm"
      ],
      "execution_count": null,
      "outputs": [
        {
          "output_type": "execute_result",
          "data": {
            "text/plain": [
              "array([[107,  80],\n",
              "       [ 25, 386]])"
            ]
          },
          "metadata": {
            "tags": []
          },
          "execution_count": 18
        }
      ]
    },
    {
      "cell_type": "code",
      "metadata": {
        "id": "pPMA2IQ0QCyf"
      },
      "source": [
        "ext = 'png'"
      ],
      "execution_count": null,
      "outputs": []
    },
    {
      "cell_type": "code",
      "metadata": {
        "id": "_TBE6Bm2y7Y4",
        "colab": {
          "base_uri": "https://localhost:8080/",
          "height": 295
        },
        "outputId": "c9232064-209c-43f1-e476-2feb27babb22"
      },
      "source": [
        "plot_metric(load_history(f'{PX}PX_shallow', path='/content/drive/Shared drives/Redes Neuronales/Proyecto - RN/histories'), \n",
        "            'accuracy', \n",
        "            title=f'Training and Validation Accuracy - {PX}PX', \n",
        "            path='/content', \n",
        "            save=True,\n",
        "            ext=ext)"
      ],
      "execution_count": null,
      "outputs": [
        {
          "output_type": "display_data",
          "data": {
            "image/png": "[encoded data removed]",
            "text/plain": [
              "<Figure size 432x288 with 1 Axes>"
            ]
          },
          "metadata": {
            "tags": [],
            "needs_background": "light"
          }
        }
      ]
    },
    {
      "cell_type": "code",
      "metadata": {
        "id": "7Mg5WPyfzOfm",
        "colab": {
          "base_uri": "https://localhost:8080/",
          "height": 295
        },
        "outputId": "d4976afc-8681-4e83-a34d-0625a4d1823e"
      },
      "source": [
        "plot_metric(load_history(f'{PX}PX_shallow', path='/content/drive/Shared drives/Redes Neuronales/Proyecto - RN/histories'), \n",
        "            'loss', \n",
        "            init=1,\n",
        "            title=f'Training and Validation Loss - {PX}PX', \n",
        "            path='/content', \n",
        "            save=True,\n",
        "            ext=ext)"
      ],
      "execution_count": null,
      "outputs": [
        {
          "output_type": "display_data",
          "data": {
            "image/png": "[encoded data removed]",
            "text/plain": [
              "<Figure size 432x288 with 1 Axes>"
            ]
          },
          "metadata": {
            "tags": [],
            "needs_background": "light"
          }
        }
      ]
    },
    {
      "cell_type": "code",
      "metadata": {
        "id": "gS0UHKEC4zRH"
      },
      "source": [
        "cm_plot_labels = ['bening','malignant']"
      ],
      "execution_count": null,
      "outputs": []
    },
    {
      "cell_type": "code",
      "metadata": {
        "id": "KSau7Nk3Xwwf"
      },
      "source": [
        "cm_plot_labels = ['bening','malignant']\n",
        "plot_confusion_matrix(cm=cm, \n",
        "                      classes=cm_plot_labels, \n",
        "                      title=f'Confusion Matrix {PX}PX', \n",
        "                      save=True,\n",
        "                      ext=ext)"
      ],
      "execution_count": null,
      "outputs": []
    },
    {
      "cell_type": "code",
      "metadata": {
        "id": "-Y6_7p--5JdO",
        "colab": {
          "base_uri": "https://localhost:8080/",
          "height": 311
        },
        "outputId": "83240ce1-3ce5-4796-bffe-084b0f33923a"
      },
      "source": [
        "plot_confusion_matrix(cm=cm, \n",
        "                      classes=cm_plot_labels, \n",
        "                      title=f'Confusion Matrix {PX}PX', \n",
        "                      save=True,\n",
        "                      ext=ext)"
      ],
      "execution_count": null,
      "outputs": [
        {
          "output_type": "display_data",
          "data": {
            "image/png": "[encoded data removed]",
            "text/plain": [
              "<Figure size 432x288 with 2 Axes>"
            ]
          },
          "metadata": {
            "tags": [],
            "needs_background": "light"
          }
        }
      ]
    },
    {
      "cell_type": "code",
      "metadata": {
        "id": "SgKfrdF1yLuk"
      },
      "source": [
        "from sklearn.decomposition import PCA\n",
        "import matplotlib.pyplot as plt"
      ],
      "execution_count": 43,
      "outputs": []
    },
    {
      "cell_type": "markdown",
      "metadata": {
        "id": "02clKhQS219W"
      },
      "source": [
        "## Example of Use PCA to extract features on MNIST"
      ]
    },
    {
      "cell_type": "code",
      "metadata": {
        "colab": {
          "base_uri": "https://localhost:8080/"
        },
        "id": "PcoYmLJAyQSr",
        "outputId": "e678bc02-d312-4a2d-995f-ee6a5e81dba2"
      },
      "source": [
        "(x_train, y_train), (x_test, y_test) = tf.keras.datasets.mnist.load_data()\n",
        "x_train = x_train.reshape((x_train.shape[0], x_train.shape[1] * x_train.shape[2])) / 255.0\n",
        "x_test = x_test.reshape((x_test.shape[0], x_test.shape[1] * x_test.shape[2])) / 255.0\n",
        "y_train = tf.keras.utils.to_categorical(y_train)\n",
        "y_test = tf.keras.utils.to_categorical(y_test)\n",
        "\n",
        "x_train.shape, y_train.shape, x_test.shape, y_test.shape"
      ],
      "execution_count": 56,
      "outputs": [
        {
          "output_type": "execute_result",
          "data": {
            "text/plain": [
              "((60000, 784), (60000, 10), (10000, 784), (10000, 10))"
            ]
          },
          "metadata": {
            "tags": []
          },
          "execution_count": 56
        }
      ]
    },
    {
      "cell_type": "code",
      "metadata": {
        "colab": {
          "base_uri": "https://localhost:8080/"
        },
        "id": "uuGqbom5ypK7",
        "outputId": "326fb4bf-d4fb-417f-b08b-a2a380b7583f"
      },
      "source": [
        "pca = PCA(n_components=10)\n",
        "pca.fit(x_train)"
      ],
      "execution_count": 57,
      "outputs": [
        {
          "output_type": "execute_result",
          "data": {
            "text/plain": [
              "PCA(copy=True, iterated_power='auto', n_components=10, random_state=None,\n",
              "    svd_solver='auto', tol=0.0, whiten=False)"
            ]
          },
          "metadata": {
            "tags": []
          },
          "execution_count": 57
        }
      ]
    },
    {
      "cell_type": "code",
      "metadata": {
        "colab": {
          "base_uri": "https://localhost:8080/"
        },
        "id": "z6pFVCXvyu9e",
        "outputId": "23f71546-51d5-4b1d-9068-88a7fd1793c3"
      },
      "source": [
        "x_train_pca = pca.transform(x_train)\n",
        "x_test_pca = pca.transform(x_test)\n",
        "\n",
        "x_train_pca.shape, x_test_pca.shape"
      ],
      "execution_count": 58,
      "outputs": [
        {
          "output_type": "execute_result",
          "data": {
            "text/plain": [
              "((60000, 10), (10000, 10))"
            ]
          },
          "metadata": {
            "tags": []
          },
          "execution_count": 58
        }
      ]
    },
    {
      "cell_type": "code",
      "metadata": {
        "id": "oq4NAF7V0dLM"
      },
      "source": [
        "model = Sequential()\n",
        "model.add(Dense(units=10,activation=\"relu\"))\n",
        "#model.add(Dropout(0.5))\n",
        "#model.add(Dense(units=100,activation=\"relu\"))\n",
        "model.add(Dense(units=10, activation=\"softmax\"))"
      ],
      "execution_count": 59,
      "outputs": []
    },
    {
      "cell_type": "code",
      "metadata": {
        "id": "tehZnHYe1Qra"
      },
      "source": [
        "model.compile(optimizer=Adam(learning_rate=0.001), \n",
        "              loss='categorical_crossentropy', \n",
        "              metrics=['accuracy'])"
      ],
      "execution_count": 60,
      "outputs": []
    },
    {
      "cell_type": "code",
      "metadata": {
        "colab": {
          "base_uri": "https://localhost:8080/"
        },
        "id": "6LmOjEkD28U0",
        "outputId": "80240c44-d834-4ef1-91ac-f1d2d843d280"
      },
      "source": [
        "model.summary()"
      ],
      "execution_count": 62,
      "outputs": [
        {
          "output_type": "stream",
          "text": [
            "Model: \"sequential_4\"\n",
            "_________________________________________________________________\n",
            "Layer (type)                 Output Shape              Param #   \n",
            "=================================================================\n",
            "dense_11 (Dense)             (None, 10)                110       \n",
            "_________________________________________________________________\n",
            "dense_12 (Dense)             (None, 10)                110       \n",
            "=================================================================\n",
            "Total params: 220\n",
            "Trainable params: 220\n",
            "Non-trainable params: 0\n",
            "_________________________________________________________________\n"
          ],
          "name": "stdout"
        }
      ]
    },
    {
      "cell_type": "code",
      "metadata": {
        "colab": {
          "base_uri": "https://localhost:8080/"
        },
        "id": "766tOrhB009-",
        "outputId": "36f9a2bd-5870-4d6f-d32b-8c2beb58f109"
      },
      "source": [
        "history_pca_mnist = model.fit(\n",
        "    x=x_train_pca,\n",
        "    y=y_train,\n",
        "    batch_size=128,\n",
        "    epochs=20,\n",
        "    verbose=1,\n",
        "    validation_data=(x_test_pca, y_test)\n",
        ")"
      ],
      "execution_count": 61,
      "outputs": [
        {
          "output_type": "stream",
          "text": [
            "Epoch 1/20\n",
            "469/469 [==============================] - 1s 3ms/step - loss: 1.5987 - accuracy: 0.4716 - val_loss: 1.0212 - val_accuracy: 0.6718\n",
            "Epoch 2/20\n",
            "469/469 [==============================] - 1s 2ms/step - loss: 0.8514 - accuracy: 0.7265 - val_loss: 0.7188 - val_accuracy: 0.7710\n",
            "Epoch 3/20\n",
            "469/469 [==============================] - 1s 2ms/step - loss: 0.6761 - accuracy: 0.7796 - val_loss: 0.6235 - val_accuracy: 0.7964\n",
            "Epoch 4/20\n",
            "469/469 [==============================] - 1s 3ms/step - loss: 0.6088 - accuracy: 0.7995 - val_loss: 0.5797 - val_accuracy: 0.8098\n",
            "Epoch 5/20\n",
            "469/469 [==============================] - 1s 3ms/step - loss: 0.5736 - accuracy: 0.8115 - val_loss: 0.5538 - val_accuracy: 0.8188\n",
            "Epoch 6/20\n",
            "469/469 [==============================] - 1s 3ms/step - loss: 0.5521 - accuracy: 0.8184 - val_loss: 0.5374 - val_accuracy: 0.8268\n",
            "Epoch 7/20\n",
            "469/469 [==============================] - 1s 3ms/step - loss: 0.5382 - accuracy: 0.8237 - val_loss: 0.5282 - val_accuracy: 0.8276\n",
            "Epoch 8/20\n",
            "469/469 [==============================] - 1s 3ms/step - loss: 0.5286 - accuracy: 0.8267 - val_loss: 0.5202 - val_accuracy: 0.8314\n",
            "Epoch 9/20\n",
            "469/469 [==============================] - 1s 3ms/step - loss: 0.5213 - accuracy: 0.8296 - val_loss: 0.5150 - val_accuracy: 0.8345\n",
            "Epoch 10/20\n",
            "469/469 [==============================] - 1s 3ms/step - loss: 0.5152 - accuracy: 0.8325 - val_loss: 0.5088 - val_accuracy: 0.8368\n",
            "Epoch 11/20\n",
            "469/469 [==============================] - 1s 3ms/step - loss: 0.5107 - accuracy: 0.8335 - val_loss: 0.5081 - val_accuracy: 0.8391\n",
            "Epoch 12/20\n",
            "469/469 [==============================] - 1s 3ms/step - loss: 0.5064 - accuracy: 0.8357 - val_loss: 0.5041 - val_accuracy: 0.8398\n",
            "Epoch 13/20\n",
            "469/469 [==============================] - 1s 3ms/step - loss: 0.5028 - accuracy: 0.8367 - val_loss: 0.5018 - val_accuracy: 0.8412\n",
            "Epoch 14/20\n",
            "469/469 [==============================] - 1s 2ms/step - loss: 0.4991 - accuracy: 0.8384 - val_loss: 0.4985 - val_accuracy: 0.8434\n",
            "Epoch 15/20\n",
            "469/469 [==============================] - 1s 3ms/step - loss: 0.4961 - accuracy: 0.8400 - val_loss: 0.4958 - val_accuracy: 0.8429\n",
            "Epoch 16/20\n",
            "469/469 [==============================] - 1s 3ms/step - loss: 0.4928 - accuracy: 0.8407 - val_loss: 0.4918 - val_accuracy: 0.8456\n",
            "Epoch 17/20\n",
            "469/469 [==============================] - 1s 2ms/step - loss: 0.4898 - accuracy: 0.8418 - val_loss: 0.4902 - val_accuracy: 0.8463\n",
            "Epoch 18/20\n",
            "469/469 [==============================] - 1s 3ms/step - loss: 0.4866 - accuracy: 0.8443 - val_loss: 0.4888 - val_accuracy: 0.8485\n",
            "Epoch 19/20\n",
            "469/469 [==============================] - 1s 3ms/step - loss: 0.4839 - accuracy: 0.8450 - val_loss: 0.4861 - val_accuracy: 0.8487\n",
            "Epoch 20/20\n",
            "469/469 [==============================] - 1s 2ms/step - loss: 0.4812 - accuracy: 0.8456 - val_loss: 0.4824 - val_accuracy: 0.8501\n"
          ],
          "name": "stdout"
        }
      ]
    },
    {
      "cell_type": "code",
      "metadata": {
        "colab": {
          "base_uri": "https://localhost:8080/",
          "height": 691
        },
        "id": "olAx_SNY3WFM",
        "outputId": "987bea2c-4248-4ec9-e33d-c37f801df986"
      },
      "source": [
        "plt.style.use(\"seaborn\")\n",
        "fig, (ax1, ax2) = plt.subplots(2, 1, figsize=(6, 9))\n",
        "\n",
        "ax1.plot(history_pca_mnist.history[\"val_accuracy\"], \"-ob\")\n",
        "ax1.set_ylabel(\"Accuracy\")\n",
        "# ax1.set_ylim([0, 1])\n",
        "ax1.set_xlabel(\"Epoch\")\n",
        "ax1.legend()\n",
        "\n",
        "ax2.plot(history_pca_mnist.history[\"val_loss\"], \"-ob\")\n",
        "ax2.set_ylabel(\"Loss\")\n",
        "#ax2.set_ylim(top=2.5)\n",
        "ax2.set_xlabel(\"Epoch\")\n",
        "ax2.legend()\n",
        "plt.tight_layout()\n",
        "plt.show()"
      ],
      "execution_count": 49,
      "outputs": [
        {
          "output_type": "stream",
          "text": [
            "No handles with labels found to put in legend.\n",
            "No handles with labels found to put in legend.\n"
          ],
          "name": "stderr"
        },
        {
          "output_type": "display_data",
          "data": {
            "image/png": "[encoded data removed]",
            "text/plain": [
              "<Figure size 432x648 with 2 Axes>"
            ]
          },
          "metadata": {
            "tags": []
          }
        }
      ]
    },
    {
      "cell_type": "markdown",
      "metadata": {
        "id": "LJ5cFgT64ANA"
      },
      "source": [
        "## PCA on Breakhis"
      ]
    },
    {
      "cell_type": "code",
      "metadata": {
        "colab": {
          "base_uri": "https://localhost:8080/"
        },
        "id": "TnFlKLky4DSh",
        "outputId": "5b424692-b692-4fdc-fa04-458d4a6df480"
      },
      "source": [
        "px = 40\n",
        "x_train = H5PYDataset(f'breakhis_{px}PX_96.hdf5', which_sets=('train',), sources = ['images'], load_in_memory=True).data_sources[0]\n",
        "y_train = H5PYDataset(f'breakhis_{px}PX_96.hdf5', which_sets=('train',), sources = ['labels'], load_in_memory=True).data_sources[0]\n",
        "y_train = tf.keras.utils.to_categorical(y_train, 2)\n",
        "print('train', x_train.shape, y_train.shape)\n",
        "\n",
        "x_dev = H5PYDataset(f'breakhis_{px}PX_96.hdf5', which_sets=('dev',), sources = ['images'], load_in_memory=True).data_sources[0]\n",
        "y_dev = H5PYDataset(f'breakhis_{px}PX_96.hdf5', which_sets=('dev',), sources = ['labels'], load_in_memory=True).data_sources[0]\n",
        "y_dev = tf.keras.utils.to_categorical(y_dev, 2)\n",
        "print('dev', x_dev.shape, y_dev.shape)"
      ],
      "execution_count": 65,
      "outputs": [
        {
          "output_type": "stream",
          "text": [
            "train (998, 96, 96, 3) (998, 2)\n",
            "dev (399, 96, 96, 3) (399, 2)\n"
          ],
          "name": "stdout"
        }
      ]
    },
    {
      "cell_type": "code",
      "metadata": {
        "id": "wdmbHiw16Sxj"
      },
      "source": [
        "pca_40x_r = PCA(n_components=100)\n",
        "pca_40x_g = PCA(n_components=100)\n",
        "pca_40x_b = PCA(n_components=100)"
      ],
      "execution_count": 77,
      "outputs": []
    },
    {
      "cell_type": "code",
      "metadata": {
        "colab": {
          "base_uri": "https://localhost:8080/"
        },
        "id": "V1BCnk1j6ZB_",
        "outputId": "7dec9f9e-7df6-47b1-debc-2393f9c45569"
      },
      "source": [
        "x_train_r = (x_train[:,:,:,0]).reshape(x_train.shape[0],x_train.shape[1] * x_train.shape[2])\n",
        "x_train_g = (x_train[:,:,:,1]).reshape(x_train.shape[0],x_train.shape[1] * x_train.shape[2])\n",
        "x_train_b = (x_train[:,:,:,2]).reshape(x_train.shape[0],x_train.shape[1] * x_train.shape[2])\n",
        "\n",
        "x_dev_r  = (x_dev[:,:,:,0]).reshape(x_dev.shape[0],x_dev.shape[1] * x_dev.shape[2])\n",
        "x_dev_g  = (x_dev[:,:,:,1]).reshape(x_dev.shape[0],x_dev.shape[1] * x_dev.shape[2])\n",
        "x_dev_b  = (x_dev[:,:,:,2]).reshape(x_dev.shape[0],x_dev.shape[1] * x_dev.shape[2])\n",
        "\n",
        "x_train_r.shape, x_train_g.shape, x_train_b.shape, x_dev_r.shape, x_dev_g.shape, x_dev_b.shape"
      ],
      "execution_count": 76,
      "outputs": [
        {
          "output_type": "execute_result",
          "data": {
            "text/plain": [
              "((998, 9216), (998, 9216), (998, 9216), (399, 9216), (399, 9216), (399, 9216))"
            ]
          },
          "metadata": {
            "tags": []
          },
          "execution_count": 76
        }
      ]
    },
    {
      "cell_type": "code",
      "metadata": {
        "colab": {
          "base_uri": "https://localhost:8080/"
        },
        "id": "g7D1B_3j7qtS",
        "outputId": "fa38c2c9-6091-4275-ebd6-dbe27ff5a3b6"
      },
      "source": [
        "pca_40x_r.fit(x_train_r)\n",
        "pca_40x_g.fit(x_train_g)\n",
        "pca_40x_b.fit(x_train_b)"
      ],
      "execution_count": 78,
      "outputs": [
        {
          "output_type": "execute_result",
          "data": {
            "text/plain": [
              "PCA(copy=True, iterated_power='auto', n_components=100, random_state=None,\n",
              "    svd_solver='auto', tol=0.0, whiten=False)"
            ]
          },
          "metadata": {
            "tags": []
          },
          "execution_count": 78
        }
      ]
    },
    {
      "cell_type": "code",
      "metadata": {
        "colab": {
          "base_uri": "https://localhost:8080/"
        },
        "id": "AAEmkPQk8G0M",
        "outputId": "97e4d2a6-651f-465c-9fad-06ba966721aa"
      },
      "source": [
        "x_train_pca = np.concatenate((pca_40x_r.transform(x_train_r), pca_40x_g.transform(x_train_g), pca_40x_b.transform(x_train_b)), axis=1)\n",
        "x_dev_pca = np.concatenate((pca_40x_r.transform(x_dev_r), pca_40x_g.transform(x_dev_g), pca_40x_b.transform(x_dev_b)), axis=1)\n",
        "\n",
        "x_train_pca.shape, x_dev_pca.shape"
      ],
      "execution_count": 96,
      "outputs": [
        {
          "output_type": "execute_result",
          "data": {
            "text/plain": [
              "((998, 300), (399, 300))"
            ]
          },
          "metadata": {
            "tags": []
          },
          "execution_count": 96
        }
      ]
    },
    {
      "cell_type": "code",
      "metadata": {
        "id": "OOmKyKNL8Dig"
      },
      "source": [
        "def perceptron(units=300):\n",
        "  model = Sequential()\n",
        "  model.add(Dense(units=units,activation=\"relu\"))\n",
        "  # model.add(Dropout(0.5))\n",
        "  # model.add(Dense(units=100,activation=\"relu\"))\n",
        "  model.add(Dense(units=2, activation=\"softmax\"))\n",
        "  return model"
      ],
      "execution_count": 16,
      "outputs": []
    },
    {
      "cell_type": "code",
      "metadata": {
        "id": "rDQQ3-4M94Lw"
      },
      "source": [
        "model.compile(optimizer=Adam(learning_rate=0.001), \n",
        "              loss='categorical_crossentropy', \n",
        "              metrics=['accuracy'])"
      ],
      "execution_count": 109,
      "outputs": []
    },
    {
      "cell_type": "code",
      "metadata": {
        "colab": {
          "base_uri": "https://localhost:8080/"
        },
        "id": "yvyVZBKK97oV",
        "outputId": "a0014ac5-53b2-4e61-8b25-1e49d39c8921"
      },
      "source": [
        "history_pca_mnist = model.fit(\n",
        "    x=x_train_pca,\n",
        "    y=y_train,\n",
        "    batch_size=128,\n",
        "    epochs=100,\n",
        "    verbose=1,\n",
        "    validation_data=(x_dev_pca, y_dev)\n",
        ")"
      ],
      "execution_count": 110,
      "outputs": [
        {
          "output_type": "stream",
          "text": [
            "Epoch 1/100\n",
            "8/8 [==============================] - 0s 19ms/step - loss: 88.9103 - accuracy: 0.6212 - val_loss: 30.9616 - val_accuracy: 0.8120\n",
            "Epoch 2/100\n",
            "8/8 [==============================] - 0s 5ms/step - loss: 34.3249 - accuracy: 0.7886 - val_loss: 32.5272 - val_accuracy: 0.7419\n",
            "Epoch 3/100\n",
            "8/8 [==============================] - 0s 5ms/step - loss: 15.1538 - accuracy: 0.8527 - val_loss: 15.9663 - val_accuracy: 0.7744\n",
            "Epoch 4/100\n",
            "8/8 [==============================] - 0s 5ms/step - loss: 6.7226 - accuracy: 0.8737 - val_loss: 13.3334 - val_accuracy: 0.7744\n",
            "Epoch 5/100\n",
            "8/8 [==============================] - 0s 4ms/step - loss: 3.5811 - accuracy: 0.9038 - val_loss: 11.8117 - val_accuracy: 0.8045\n",
            "Epoch 6/100\n",
            "8/8 [==============================] - 0s 5ms/step - loss: 1.7374 - accuracy: 0.9429 - val_loss: 10.1697 - val_accuracy: 0.8095\n",
            "Epoch 7/100\n",
            "8/8 [==============================] - 0s 5ms/step - loss: 0.4506 - accuracy: 0.9729 - val_loss: 10.0312 - val_accuracy: 0.8321\n",
            "Epoch 8/100\n",
            "8/8 [==============================] - 0s 5ms/step - loss: 0.3534 - accuracy: 0.9780 - val_loss: 9.4127 - val_accuracy: 0.8296\n",
            "Epoch 9/100\n",
            "8/8 [==============================] - 0s 5ms/step - loss: 0.1476 - accuracy: 0.9860 - val_loss: 9.7182 - val_accuracy: 0.8421\n",
            "Epoch 10/100\n",
            "8/8 [==============================] - 0s 5ms/step - loss: 0.0264 - accuracy: 0.9960 - val_loss: 10.1829 - val_accuracy: 0.8296\n",
            "Epoch 11/100\n",
            "8/8 [==============================] - 0s 5ms/step - loss: 0.0260 - accuracy: 0.9980 - val_loss: 9.9790 - val_accuracy: 0.8346\n",
            "Epoch 12/100\n",
            "8/8 [==============================] - 0s 4ms/step - loss: 0.0032 - accuracy: 0.9990 - val_loss: 10.0137 - val_accuracy: 0.8371\n",
            "Epoch 13/100\n",
            "8/8 [==============================] - 0s 4ms/step - loss: 1.4194e-04 - accuracy: 1.0000 - val_loss: 9.9904 - val_accuracy: 0.8421\n",
            "Epoch 14/100\n",
            "8/8 [==============================] - 0s 4ms/step - loss: 5.1707e-06 - accuracy: 1.0000 - val_loss: 10.0063 - val_accuracy: 0.8371\n",
            "Epoch 15/100\n",
            "8/8 [==============================] - 0s 4ms/step - loss: 2.2931e-06 - accuracy: 1.0000 - val_loss: 10.0154 - val_accuracy: 0.8371\n",
            "Epoch 16/100\n",
            "8/8 [==============================] - 0s 5ms/step - loss: 1.7947e-06 - accuracy: 1.0000 - val_loss: 10.0195 - val_accuracy: 0.8371\n",
            "Epoch 17/100\n",
            "8/8 [==============================] - 0s 4ms/step - loss: 1.6929e-06 - accuracy: 1.0000 - val_loss: 10.0212 - val_accuracy: 0.8371\n",
            "Epoch 18/100\n",
            "8/8 [==============================] - 0s 4ms/step - loss: 1.6129e-06 - accuracy: 1.0000 - val_loss: 10.0219 - val_accuracy: 0.8371\n",
            "Epoch 19/100\n",
            "8/8 [==============================] - 0s 4ms/step - loss: 1.5699e-06 - accuracy: 1.0000 - val_loss: 10.0220 - val_accuracy: 0.8371\n",
            "Epoch 20/100\n",
            "8/8 [==============================] - 0s 4ms/step - loss: 1.5309e-06 - accuracy: 1.0000 - val_loss: 10.0219 - val_accuracy: 0.8371\n",
            "Epoch 21/100\n",
            "8/8 [==============================] - 0s 4ms/step - loss: 1.5064e-06 - accuracy: 1.0000 - val_loss: 10.0218 - val_accuracy: 0.8371\n",
            "Epoch 22/100\n",
            "8/8 [==============================] - 0s 4ms/step - loss: 1.4781e-06 - accuracy: 1.0000 - val_loss: 10.0216 - val_accuracy: 0.8371\n",
            "Epoch 23/100\n",
            "8/8 [==============================] - 0s 4ms/step - loss: 1.4549e-06 - accuracy: 1.0000 - val_loss: 10.0215 - val_accuracy: 0.8371\n",
            "Epoch 24/100\n",
            "8/8 [==============================] - 0s 5ms/step - loss: 1.4345e-06 - accuracy: 1.0000 - val_loss: 10.0212 - val_accuracy: 0.8371\n",
            "Epoch 25/100\n",
            "8/8 [==============================] - 0s 5ms/step - loss: 1.4062e-06 - accuracy: 1.0000 - val_loss: 10.0210 - val_accuracy: 0.8371\n",
            "Epoch 26/100\n",
            "8/8 [==============================] - 0s 4ms/step - loss: 1.3832e-06 - accuracy: 1.0000 - val_loss: 10.0208 - val_accuracy: 0.8371\n",
            "Epoch 27/100\n",
            "8/8 [==============================] - 0s 5ms/step - loss: 1.3635e-06 - accuracy: 1.0000 - val_loss: 10.0206 - val_accuracy: 0.8371\n",
            "Epoch 28/100\n",
            "8/8 [==============================] - 0s 4ms/step - loss: 1.3409e-06 - accuracy: 1.0000 - val_loss: 10.0204 - val_accuracy: 0.8371\n",
            "Epoch 29/100\n",
            "8/8 [==============================] - 0s 4ms/step - loss: 1.3210e-06 - accuracy: 1.0000 - val_loss: 10.0202 - val_accuracy: 0.8371\n",
            "Epoch 30/100\n",
            "8/8 [==============================] - 0s 6ms/step - loss: 1.2976e-06 - accuracy: 1.0000 - val_loss: 10.0200 - val_accuracy: 0.8371\n",
            "Epoch 31/100\n",
            "8/8 [==============================] - 0s 5ms/step - loss: 1.2802e-06 - accuracy: 1.0000 - val_loss: 10.0198 - val_accuracy: 0.8371\n",
            "Epoch 32/100\n",
            "8/8 [==============================] - 0s 5ms/step - loss: 1.2596e-06 - accuracy: 1.0000 - val_loss: 10.0196 - val_accuracy: 0.8371\n",
            "Epoch 33/100\n",
            "8/8 [==============================] - 0s 4ms/step - loss: 1.2454e-06 - accuracy: 1.0000 - val_loss: 10.0194 - val_accuracy: 0.8371\n",
            "Epoch 34/100\n",
            "8/8 [==============================] - 0s 4ms/step - loss: 1.2270e-06 - accuracy: 1.0000 - val_loss: 10.0192 - val_accuracy: 0.8371\n",
            "Epoch 35/100\n",
            "8/8 [==============================] - 0s 4ms/step - loss: 1.2081e-06 - accuracy: 1.0000 - val_loss: 10.0190 - val_accuracy: 0.8346\n",
            "Epoch 36/100\n",
            "8/8 [==============================] - 0s 4ms/step - loss: 1.1912e-06 - accuracy: 1.0000 - val_loss: 10.0188 - val_accuracy: 0.8346\n",
            "Epoch 37/100\n",
            "8/8 [==============================] - 0s 5ms/step - loss: 1.1719e-06 - accuracy: 1.0000 - val_loss: 10.0186 - val_accuracy: 0.8346\n",
            "Epoch 38/100\n",
            "8/8 [==============================] - 0s 5ms/step - loss: 1.1546e-06 - accuracy: 1.0000 - val_loss: 10.0184 - val_accuracy: 0.8346\n",
            "Epoch 39/100\n",
            "8/8 [==============================] - 0s 4ms/step - loss: 1.1435e-06 - accuracy: 1.0000 - val_loss: 10.0182 - val_accuracy: 0.8346\n",
            "Epoch 40/100\n",
            "8/8 [==============================] - 0s 4ms/step - loss: 1.1232e-06 - accuracy: 1.0000 - val_loss: 10.0180 - val_accuracy: 0.8346\n",
            "Epoch 41/100\n",
            "8/8 [==============================] - 0s 5ms/step - loss: 1.1131e-06 - accuracy: 1.0000 - val_loss: 10.0178 - val_accuracy: 0.8346\n",
            "Epoch 42/100\n",
            "8/8 [==============================] - 0s 5ms/step - loss: 1.0930e-06 - accuracy: 1.0000 - val_loss: 10.0177 - val_accuracy: 0.8346\n",
            "Epoch 43/100\n",
            "8/8 [==============================] - 0s 5ms/step - loss: 1.0791e-06 - accuracy: 1.0000 - val_loss: 10.0175 - val_accuracy: 0.8346\n",
            "Epoch 44/100\n",
            "8/8 [==============================] - 0s 4ms/step - loss: 1.0652e-06 - accuracy: 1.0000 - val_loss: 10.0173 - val_accuracy: 0.8346\n",
            "Epoch 45/100\n",
            "8/8 [==============================] - 0s 4ms/step - loss: 1.0552e-06 - accuracy: 1.0000 - val_loss: 10.0170 - val_accuracy: 0.8346\n",
            "Epoch 46/100\n",
            "8/8 [==============================] - 0s 5ms/step - loss: 1.0349e-06 - accuracy: 1.0000 - val_loss: 10.0168 - val_accuracy: 0.8346\n",
            "Epoch 47/100\n",
            "8/8 [==============================] - 0s 5ms/step - loss: 1.0249e-06 - accuracy: 1.0000 - val_loss: 10.0166 - val_accuracy: 0.8346\n",
            "Epoch 48/100\n",
            "8/8 [==============================] - 0s 5ms/step - loss: 1.0096e-06 - accuracy: 1.0000 - val_loss: 10.0165 - val_accuracy: 0.8346\n",
            "Epoch 49/100\n",
            "8/8 [==============================] - 0s 5ms/step - loss: 9.9995e-07 - accuracy: 1.0000 - val_loss: 10.0162 - val_accuracy: 0.8346\n",
            "Epoch 50/100\n",
            "8/8 [==============================] - 0s 5ms/step - loss: 9.8276e-07 - accuracy: 1.0000 - val_loss: 10.0161 - val_accuracy: 0.8346\n",
            "Epoch 51/100\n",
            "8/8 [==============================] - 0s 5ms/step - loss: 9.7248e-07 - accuracy: 1.0000 - val_loss: 10.0159 - val_accuracy: 0.8346\n",
            "Epoch 52/100\n",
            "8/8 [==============================] - 0s 5ms/step - loss: 9.6090e-07 - accuracy: 1.0000 - val_loss: 10.0157 - val_accuracy: 0.8346\n",
            "Epoch 53/100\n",
            "8/8 [==============================] - 0s 5ms/step - loss: 9.4752e-07 - accuracy: 1.0000 - val_loss: 10.0155 - val_accuracy: 0.8346\n",
            "Epoch 54/100\n",
            "8/8 [==============================] - 0s 5ms/step - loss: 9.4036e-07 - accuracy: 1.0000 - val_loss: 10.0153 - val_accuracy: 0.8346\n",
            "Epoch 55/100\n",
            "8/8 [==============================] - 0s 5ms/step - loss: 9.2662e-07 - accuracy: 1.0000 - val_loss: 10.0151 - val_accuracy: 0.8346\n",
            "Epoch 56/100\n",
            "8/8 [==============================] - 0s 5ms/step - loss: 9.1277e-07 - accuracy: 1.0000 - val_loss: 10.0150 - val_accuracy: 0.8346\n",
            "Epoch 57/100\n",
            "8/8 [==============================] - 0s 5ms/step - loss: 9.0322e-07 - accuracy: 1.0000 - val_loss: 10.0149 - val_accuracy: 0.8346\n",
            "Epoch 58/100\n",
            "8/8 [==============================] - 0s 5ms/step - loss: 8.9378e-07 - accuracy: 1.0000 - val_loss: 10.0147 - val_accuracy: 0.8346\n",
            "Epoch 59/100\n",
            "8/8 [==============================] - 0s 5ms/step - loss: 8.8434e-07 - accuracy: 1.0000 - val_loss: 10.0145 - val_accuracy: 0.8346\n",
            "Epoch 60/100\n",
            "8/8 [==============================] - 0s 5ms/step - loss: 8.7216e-07 - accuracy: 1.0000 - val_loss: 10.0144 - val_accuracy: 0.8346\n",
            "Epoch 61/100\n",
            "8/8 [==============================] - 0s 5ms/step - loss: 8.6368e-07 - accuracy: 1.0000 - val_loss: 10.0142 - val_accuracy: 0.8346\n",
            "Epoch 62/100\n",
            "8/8 [==============================] - 0s 4ms/step - loss: 8.5341e-07 - accuracy: 1.0000 - val_loss: 10.0140 - val_accuracy: 0.8346\n",
            "Epoch 63/100\n",
            "8/8 [==============================] - 0s 5ms/step - loss: 8.4230e-07 - accuracy: 1.0000 - val_loss: 10.0139 - val_accuracy: 0.8346\n",
            "Epoch 64/100\n",
            "8/8 [==============================] - 0s 5ms/step - loss: 8.3394e-07 - accuracy: 1.0000 - val_loss: 10.0137 - val_accuracy: 0.8346\n",
            "Epoch 65/100\n",
            "8/8 [==============================] - 0s 5ms/step - loss: 8.2546e-07 - accuracy: 1.0000 - val_loss: 10.0136 - val_accuracy: 0.8346\n",
            "Epoch 66/100\n",
            "8/8 [==============================] - 0s 5ms/step - loss: 8.1555e-07 - accuracy: 1.0000 - val_loss: 10.0134 - val_accuracy: 0.8346\n",
            "Epoch 67/100\n",
            "8/8 [==============================] - 0s 4ms/step - loss: 8.0803e-07 - accuracy: 1.0000 - val_loss: 10.0132 - val_accuracy: 0.8346\n",
            "Epoch 68/100\n",
            "8/8 [==============================] - 0s 5ms/step - loss: 7.9692e-07 - accuracy: 1.0000 - val_loss: 10.0130 - val_accuracy: 0.8346\n",
            "Epoch 69/100\n",
            "8/8 [==============================] - 0s 5ms/step - loss: 7.8796e-07 - accuracy: 1.0000 - val_loss: 10.0128 - val_accuracy: 0.8346\n",
            "Epoch 70/100\n",
            "8/8 [==============================] - 0s 5ms/step - loss: 7.7912e-07 - accuracy: 1.0000 - val_loss: 10.0127 - val_accuracy: 0.8346\n",
            "Epoch 71/100\n",
            "8/8 [==============================] - 0s 5ms/step - loss: 7.7267e-07 - accuracy: 1.0000 - val_loss: 10.0125 - val_accuracy: 0.8346\n",
            "Epoch 72/100\n",
            "8/8 [==============================] - 0s 5ms/step - loss: 7.6396e-07 - accuracy: 1.0000 - val_loss: 10.0124 - val_accuracy: 0.8346\n",
            "Epoch 73/100\n",
            "8/8 [==============================] - 0s 4ms/step - loss: 7.5488e-07 - accuracy: 1.0000 - val_loss: 10.0122 - val_accuracy: 0.8346\n",
            "Epoch 74/100\n",
            "8/8 [==============================] - 0s 5ms/step - loss: 7.4819e-07 - accuracy: 1.0000 - val_loss: 10.0121 - val_accuracy: 0.8346\n",
            "Epoch 75/100\n",
            "8/8 [==============================] - 0s 5ms/step - loss: 7.3959e-07 - accuracy: 1.0000 - val_loss: 10.0119 - val_accuracy: 0.8346\n",
            "Epoch 76/100\n",
            "8/8 [==============================] - 0s 5ms/step - loss: 7.3266e-07 - accuracy: 1.0000 - val_loss: 10.0117 - val_accuracy: 0.8346\n",
            "Epoch 77/100\n",
            "8/8 [==============================] - 0s 6ms/step - loss: 7.2406e-07 - accuracy: 1.0000 - val_loss: 10.0116 - val_accuracy: 0.8346\n",
            "Epoch 78/100\n",
            "8/8 [==============================] - 0s 5ms/step - loss: 7.1738e-07 - accuracy: 1.0000 - val_loss: 10.0115 - val_accuracy: 0.8346\n",
            "Epoch 79/100\n",
            "8/8 [==============================] - 0s 5ms/step - loss: 7.1105e-07 - accuracy: 1.0000 - val_loss: 10.0113 - val_accuracy: 0.8346\n",
            "Epoch 80/100\n",
            "8/8 [==============================] - 0s 5ms/step - loss: 7.0185e-07 - accuracy: 1.0000 - val_loss: 10.0112 - val_accuracy: 0.8346\n",
            "Epoch 81/100\n",
            "8/8 [==============================] - 0s 5ms/step - loss: 6.9444e-07 - accuracy: 1.0000 - val_loss: 10.0110 - val_accuracy: 0.8346\n",
            "Epoch 82/100\n",
            "8/8 [==============================] - 0s 5ms/step - loss: 6.8955e-07 - accuracy: 1.0000 - val_loss: 10.0109 - val_accuracy: 0.8346\n",
            "Epoch 83/100\n",
            "8/8 [==============================] - 0s 6ms/step - loss: 6.8274e-07 - accuracy: 1.0000 - val_loss: 10.0107 - val_accuracy: 0.8346\n",
            "Epoch 84/100\n",
            "8/8 [==============================] - 0s 5ms/step - loss: 6.7426e-07 - accuracy: 1.0000 - val_loss: 10.0106 - val_accuracy: 0.8346\n",
            "Epoch 85/100\n",
            "8/8 [==============================] - 0s 5ms/step - loss: 6.6853e-07 - accuracy: 1.0000 - val_loss: 10.0104 - val_accuracy: 0.8346\n",
            "Epoch 86/100\n",
            "8/8 [==============================] - 0s 5ms/step - loss: 6.6196e-07 - accuracy: 1.0000 - val_loss: 10.0103 - val_accuracy: 0.8346\n",
            "Epoch 87/100\n",
            "8/8 [==============================] - 0s 5ms/step - loss: 6.5455e-07 - accuracy: 1.0000 - val_loss: 10.0102 - val_accuracy: 0.8346\n",
            "Epoch 88/100\n",
            "8/8 [==============================] - 0s 5ms/step - loss: 6.4954e-07 - accuracy: 1.0000 - val_loss: 10.0101 - val_accuracy: 0.8346\n",
            "Epoch 89/100\n",
            "8/8 [==============================] - 0s 5ms/step - loss: 6.4321e-07 - accuracy: 1.0000 - val_loss: 10.0099 - val_accuracy: 0.8346\n",
            "Epoch 90/100\n",
            "8/8 [==============================] - 0s 5ms/step - loss: 6.3759e-07 - accuracy: 1.0000 - val_loss: 10.0097 - val_accuracy: 0.8346\n",
            "Epoch 91/100\n",
            "8/8 [==============================] - 0s 5ms/step - loss: 6.3150e-07 - accuracy: 1.0000 - val_loss: 10.0096 - val_accuracy: 0.8346\n",
            "Epoch 92/100\n",
            "8/8 [==============================] - 0s 5ms/step - loss: 6.2505e-07 - accuracy: 1.0000 - val_loss: 10.0095 - val_accuracy: 0.8346\n",
            "Epoch 93/100\n",
            "8/8 [==============================] - 0s 4ms/step - loss: 6.1980e-07 - accuracy: 1.0000 - val_loss: 10.0093 - val_accuracy: 0.8346\n",
            "Epoch 94/100\n",
            "8/8 [==============================] - 0s 5ms/step - loss: 6.1275e-07 - accuracy: 1.0000 - val_loss: 10.0093 - val_accuracy: 0.8346\n",
            "Epoch 95/100\n",
            "8/8 [==============================] - 0s 5ms/step - loss: 6.0893e-07 - accuracy: 1.0000 - val_loss: 10.0091 - val_accuracy: 0.8346\n",
            "Epoch 96/100\n",
            "8/8 [==============================] - 0s 5ms/step - loss: 6.0152e-07 - accuracy: 1.0000 - val_loss: 10.0090 - val_accuracy: 0.8346\n",
            "Epoch 97/100\n",
            "8/8 [==============================] - 0s 7ms/step - loss: 5.9710e-07 - accuracy: 1.0000 - val_loss: 10.0088 - val_accuracy: 0.8346\n",
            "Epoch 98/100\n",
            "8/8 [==============================] - 0s 5ms/step - loss: 5.9173e-07 - accuracy: 1.0000 - val_loss: 10.0087 - val_accuracy: 0.8346\n",
            "Epoch 99/100\n",
            "8/8 [==============================] - 0s 5ms/step - loss: 5.8599e-07 - accuracy: 1.0000 - val_loss: 10.0086 - val_accuracy: 0.8346\n",
            "Epoch 100/100\n",
            "8/8 [==============================] - 0s 4ms/step - loss: 5.8122e-07 - accuracy: 1.0000 - val_loss: 10.0084 - val_accuracy: 0.8346\n"
          ],
          "name": "stdout"
        }
      ]
    },
    {
      "cell_type": "code",
      "metadata": {
        "colab": {
          "base_uri": "https://localhost:8080/"
        },
        "id": "v7ddXplqLVcs",
        "outputId": "1a0e71e2-6edf-4a3b-e2b0-fda0b4cb30bd"
      },
      "source": [
        "results = {}\n",
        "for px in [40, 100, 200, 400]:\n",
        "  x_train = H5PYDataset(f'breakhis_{px}PX_96.hdf5', which_sets=('train',), sources = ['images'], load_in_memory=True).data_sources[0]\n",
        "  y_train = H5PYDataset(f'breakhis_{px}PX_96.hdf5', which_sets=('train',), sources = ['labels'], load_in_memory=True).data_sources[0]\n",
        "  y_train = tf.keras.utils.to_categorical(y_train, 2)\n",
        "\n",
        "  x_dev = H5PYDataset(f'breakhis_{px}PX_96.hdf5', which_sets=('dev',), sources = ['images'], load_in_memory=True).data_sources[0]\n",
        "  y_dev = H5PYDataset(f'breakhis_{px}PX_96.hdf5', which_sets=('dev',), sources = ['labels'], load_in_memory=True).data_sources[0]\n",
        "  y_dev = tf.keras.utils.to_categorical(y_dev, 2)\n",
        "\n",
        "  x_train_r = (x_train[:,:,:,0]).reshape(x_train.shape[0],x_train.shape[1] * x_train.shape[2]) / 255.0\n",
        "  x_train_g = (x_train[:,:,:,1]).reshape(x_train.shape[0],x_train.shape[1] * x_train.shape[2]) / 255.0\n",
        "  x_train_b = (x_train[:,:,:,2]).reshape(x_train.shape[0],x_train.shape[1] * x_train.shape[2]) / 255.0\n",
        "\n",
        "  x_dev_r  = (x_dev[:,:,:,0]).reshape(x_dev.shape[0],x_dev.shape[1] * x_dev.shape[2]) / 255.0\n",
        "  x_dev_g  = (x_dev[:,:,:,1]).reshape(x_dev.shape[0],x_dev.shape[1] * x_dev.shape[2]) / 255.0\n",
        "  x_dev_b  = (x_dev[:,:,:,2]).reshape(x_dev.shape[0],x_dev.shape[1] * x_dev.shape[2]) / 255.0\n",
        "  results[f'{px}'] = {\n",
        "      'train': [],\n",
        "      'dev': [],\n",
        "      'test': []\n",
        "  }\n",
        "  for cmpt in [2,4,8,16,32,64,128]:\n",
        "    pca_r = PCA(n_components=cmpt)\n",
        "    pca_g = PCA(n_components=cmpt)\n",
        "    pca_b = PCA(n_components=cmpt)\n",
        "\n",
        "    pca_r.fit(x_train_r)\n",
        "    pca_g.fit(x_train_g)\n",
        "    pca_b.fit(x_train_b)\n",
        "\n",
        "    x_train_pca = np.concatenate((pca_r.transform(x_train_r), pca_g.transform(x_train_g), pca_b.transform(x_train_b)), axis=1)\n",
        "    x_dev_pca = np.concatenate((pca_r.transform(x_dev_r), pca_g.transform(x_dev_g), pca_b.transform(x_dev_b)), axis=1)\n",
        "\n",
        "    model = perceptron(cmpt)\n",
        "    model.compile(optimizer=Adam(learning_rate=0.001), \n",
        "                  loss='categorical_crossentropy', \n",
        "                  metrics=['accuracy'])\n",
        "    earlyStopping = ReturnBestEarlyStopping(monitor='val_accuracy', \n",
        "                                          patience=50, \n",
        "                                          verbose=1, \n",
        "                                          mode='max', \n",
        "                                          restore_best_weights=True)\n",
        "    callback_list = [earlyStopping]\n",
        "    history = model.fit(\n",
        "        x=x_train_pca,\n",
        "        y=y_train,\n",
        "        batch_size=128,\n",
        "        epochs=50,\n",
        "        callbacks=callback_list,\n",
        "        verbose=0,\n",
        "        validation_data=(x_dev_pca, y_dev)\n",
        "    )\n",
        "\n",
        "    x_test = H5PYDataset(f'breakhis_{px}PX_96.hdf5', which_sets=('test',), sources = ['images'], load_in_memory=True).data_sources[0]\n",
        "    y_test = H5PYDataset(f'breakhis_{px}PX_96.hdf5', which_sets=('test',), sources = ['labels'], load_in_memory=True).data_sources[0]\n",
        "    y_true = H5PYDataset(f'breakhis_{px}PX_96.hdf5', which_sets=('test',), sources = ['labels'], load_in_memory=True).data_sources[0]\n",
        "    y_test = tf.keras.utils.to_categorical(y_test, 2)\n",
        "\n",
        "    x_test_r = (x_test[:,:,:,0]).reshape(x_test.shape[0],x_test.shape[1] * x_test.shape[2]) / 255.0\n",
        "    x_test_g = (x_test[:,:,:,1]).reshape(x_test.shape[0],x_test.shape[1] * x_test.shape[2]) / 255.0\n",
        "    x_test_b = (x_test[:,:,:,2]).reshape(x_test.shape[0],x_test.shape[1] * x_test.shape[2]) / 255.0\n",
        "\n",
        "    x_test_pca = np.concatenate((pca_r.transform(x_test_r), pca_g.transform(x_test_g), pca_b.transform(x_test_b)), axis=1)\n",
        "    \n",
        "    score_train = model.evaluate(x_train_pca, y_train, verbose=0)\n",
        "    score_dev = model.evaluate(x_dev_pca, y_dev, verbose=0)\n",
        "    score_test = model.evaluate(x_test_pca, y_test, verbose=0)\n",
        "\n",
        "    results[f'{px}']['train'].append(score_train[1])\n",
        "    results[f'{px}']['dev'].append(score_dev[1])\n",
        "    results[f'{px}']['test'].append(score_test[1])"
      ],
      "execution_count": 21,
      "outputs": [
        {
          "output_type": "stream",
          "text": [
            "Restoring model weights from the end of the best epoch.\n",
            "px 40 pca 2 train [0.6452270746231079, 0.671342670917511]\n",
            "px 40 pca 2 dev [0.6177812814712524, 0.6741854548454285]\n",
            "px 40 pca 2 test [0.6244971752166748, 0.6655518412590027]\n",
            "Restoring model weights from the end of the best epoch.\n",
            "px 40 pca 4 train [0.5381472110748291, 0.7595190405845642]\n",
            "px 40 pca 4 dev [0.5383269786834717, 0.7268170714378357]\n",
            "px 40 pca 4 test [0.5531472563743591, 0.7441471815109253]\n",
            "Restoring model weights from the end of the best epoch.\n",
            "px 40 pca 8 train [0.4266926348209381, 0.8086172342300415]\n",
            "px 40 pca 8 dev [0.44912102818489075, 0.8070175647735596]\n",
            "px 40 pca 8 test [0.47052595019340515, 0.7926421165466309]\n",
            "Restoring model weights from the end of the best epoch.\n",
            "px 40 pca 16 train [0.31583791971206665, 0.8717435002326965]\n",
            "px 40 pca 16 dev [0.35909533500671387, 0.8496240377426147]\n",
            "px 40 pca 16 test [0.37984904646873474, 0.8428093791007996]\n",
            "Restoring model weights from the end of the best epoch.\n",
            "px 40 pca 32 train [0.21519134938716888, 0.9258517026901245]\n",
            "px 40 pca 32 dev [0.3498613238334656, 0.8571428656578064]\n",
            "px 40 pca 32 test [0.3815058767795563, 0.8461538553237915]\n",
            "Restoring model weights from the end of the best epoch.\n",
            "px 40 pca 64 train [0.09984390437602997, 0.9859719276428223]\n",
            "px 40 pca 64 dev [0.36459729075431824, 0.8621553778648376]\n",
            "px 40 pca 64 test [0.38763293623924255, 0.8528428077697754]\n",
            "Restoring model weights from the end of the best epoch.\n",
            "px 40 pca 128 train [0.21709352731704712, 0.9308617115020752]\n",
            "px 40 pca 128 dev [0.3848651647567749, 0.8446115255355835]\n",
            "px 40 pca 128 test [0.42252838611602783, 0.8026756048202515]\n",
            "Restoring model weights from the end of the best epoch.\n",
            "px 100 pca 2 train [0.5255568027496338, 0.7636887431144714]\n",
            "px 100 pca 2 dev [0.5593395233154297, 0.754807710647583]\n",
            "px 100 pca 2 test [0.5426597595214844, 0.7772436141967773]\n",
            "Restoring model weights from the end of the best epoch.\n",
            "px 100 pca 4 train [0.46528202295303345, 0.8242074847221375]\n",
            "px 100 pca 4 dev [0.4819263219833374, 0.8004807829856873]\n",
            "px 100 pca 4 test [0.4953995645046234, 0.8060897588729858]\n",
            "Restoring model weights from the end of the best epoch.\n",
            "px 100 pca 8 train [0.4355924725532532, 0.8040345907211304]\n",
            "px 100 pca 8 dev [0.49622806906700134, 0.78125]\n",
            "px 100 pca 8 test [0.4669375717639923, 0.8157051205635071]\n",
            "Restoring model weights from the end of the best epoch.\n",
            "px 100 pca 16 train [0.3521118462085724, 0.8491834998130798]\n",
            "px 100 pca 16 dev [0.470481276512146, 0.7932692170143127]\n",
            "px 100 pca 16 test [0.4522569477558136, 0.8141025900840759]\n",
            "Restoring model weights from the end of the best epoch.\n",
            "px 100 pca 32 train [0.23433545231819153, 0.910662829875946]\n",
            "px 100 pca 32 dev [0.4515361189842224, 0.8004807829856873]\n",
            "px 100 pca 32 test [0.43106070160865784, 0.8237179517745972]\n",
            "Restoring model weights from the end of the best epoch.\n",
            "px 100 pca 64 train [0.20842738449573517, 0.9356387853622437]\n",
            "px 100 pca 64 dev [0.45791399478912354, 0.8100961446762085]\n",
            "px 100 pca 64 test [0.416582852602005, 0.8253205418586731]\n",
            "Restoring model weights from the end of the best epoch.\n",
            "px 100 pca 128 train [0.10973477363586426, 0.9769452214241028]\n",
            "px 100 pca 128 dev [0.49685347080230713, 0.8028846383094788]\n",
            "px 100 pca 128 test [0.46993288397789, 0.8141025900840759]\n",
            "Restoring model weights from the end of the best epoch.\n",
            "px 200 pca 2 train [0.5509156584739685, 0.7976190447807312]\n",
            "px 200 pca 2 dev [0.5482439398765564, 0.7960199117660522]\n",
            "px 200 pca 2 test [0.5779370069503784, 0.8109452724456787]\n",
            "Restoring model weights from the end of the best epoch.\n",
            "px 200 pca 4 train [0.4971344470977783, 0.7509920597076416]\n",
            "px 200 pca 4 dev [0.4716522693634033, 0.7935323119163513]\n",
            "px 200 pca 4 test [0.5047816038131714, 0.7529021501541138]\n",
            "Restoring model weights from the end of the best epoch.\n",
            "px 200 pca 8 train [0.4656253159046173, 0.807539701461792]\n",
            "px 200 pca 8 dev [0.3989708125591278, 0.8432835936546326]\n",
            "px 200 pca 8 test [0.4664692282676697, 0.8126036524772644]\n",
            "Restoring model weights from the end of the best epoch.\n",
            "px 200 pca 16 train [0.2670513391494751, 0.8938491940498352]\n",
            "px 200 pca 16 dev [0.3418574929237366, 0.8731343150138855]\n",
            "px 200 pca 16 test [0.34057551622390747, 0.8606964945793152]\n",
            "Restoring model weights from the end of the best epoch.\n",
            "px 200 pca 32 train [0.13258440792560577, 0.9603174328804016]\n",
            "px 200 pca 32 dev [0.35279712080955505, 0.8731343150138855]\n",
            "px 200 pca 32 test [0.38976535201072693, 0.8457711338996887]\n",
            "Restoring model weights from the end of the best epoch.\n",
            "px 200 pca 64 train [0.07881610095500946, 0.9871031641960144]\n",
            "px 200 pca 64 dev [0.32905781269073486, 0.888059675693512]\n",
            "px 200 pca 64 test [0.37521669268608093, 0.8540630340576172]\n",
            "Restoring model weights from the end of the best epoch.\n",
            "px 200 pca 128 train [0.009905057959258556, 1.0]\n",
            "px 200 pca 128 dev [0.43963584303855896, 0.8706467747688293]\n",
            "px 200 pca 128 test [0.48548415303230286, 0.8507462739944458]\n",
            "Restoring model weights from the end of the best epoch.\n",
            "px 400 pca 2 train [0.5152584910392761, 0.803296685218811]\n",
            "px 400 pca 2 dev [0.6198933124542236, 0.7884615659713745]\n",
            "px 400 pca 2 test [0.47401848435401917, 0.8296703100204468]\n",
            "Restoring model weights from the end of the best epoch.\n",
            "px 400 pca 4 train [0.5491990447044373, 0.79340660572052]\n",
            "px 400 pca 4 dev [0.5466515421867371, 0.7829670310020447]\n",
            "px 400 pca 4 test [0.5217097401618958, 0.8260073065757751]\n",
            "Restoring model weights from the end of the best epoch.\n",
            "px 400 pca 8 train [0.4364607334136963, 0.8153846263885498]\n",
            "px 400 pca 8 dev [0.5437206625938416, 0.7527472376823425]\n",
            "px 400 pca 8 test [0.43481355905532837, 0.831501841545105]\n",
            "Restoring model weights from the end of the best epoch.\n",
            "px 400 pca 16 train [0.3290514051914215, 0.8714285492897034]\n",
            "px 400 pca 16 dev [0.4678652286529541, 0.7939560413360596]\n",
            "px 400 pca 16 test [0.37959134578704834, 0.8443223237991333]\n",
            "Restoring model weights from the end of the best epoch.\n",
            "px 400 pca 32 train [0.306108683347702, 0.8758241534233093]\n",
            "px 400 pca 32 dev [0.5035272240638733, 0.8159340620040894]\n",
            "px 400 pca 32 test [0.40193670988082886, 0.83699631690979]\n",
            "Restoring model weights from the end of the best epoch.\n",
            "px 400 pca 64 train [0.2418380081653595, 0.9230769276618958]\n",
            "px 400 pca 64 dev [0.544546365737915, 0.8131868243217468]\n",
            "px 400 pca 64 test [0.4335922598838806, 0.8205128312110901]\n",
            "Restoring model weights from the end of the best epoch.\n",
            "px 400 pca 128 train [0.06796693056821823, 0.9945054650306702]\n",
            "px 400 pca 128 dev [0.6396915912628174, 0.791208803653717]\n",
            "px 400 pca 128 test [0.4381236135959625, 0.8461538553237915]\n"
          ],
          "name": "stdout"
        }
      ]
    },
    {
      "cell_type": "code",
      "metadata": {
        "colab": {
          "base_uri": "https://localhost:8080/",
          "height": 297
        },
        "id": "fg2Xt9fDYLfG",
        "outputId": "ab8d0d84-ff46-4584-c89f-2f1173159eca"
      },
      "source": [
        "px = f'{400}'\n",
        "plt.style.use(\"seaborn\")\n",
        "fig, (ax1) = plt.subplots(1, 1, figsize=(6, 4))\n",
        "\n",
        "ax1.plot([2,4,8,16,32,64,128],results[px]['train'], \"-or\", label='Train dataset')\n",
        "ax1.plot([2,4,8,16,32,64,128],results[px]['dev'], \"-og\", label='Val dataset')\n",
        "ax1.plot([2,4,8,16,32,64,128],results[px]['test'], \"-ob\", label='Test dataset')\n",
        "ax1.set_ylabel(\"Accuracy\")\n",
        "# ax1.set_ylim([0, 1])\n",
        "ax1.set_xlabel(\"PCA Components\")\n",
        "ax1.legend()\n",
        "'''\n",
        "ax2.plot(history_pca_mnist.history[\"val_loss\"], \"-ob\")\n",
        "ax2.set_ylabel(\"Loss\")\n",
        "#ax2.set_ylim(top=2.5)\n",
        "ax2.set_xlabel(\"Epoch\")\n",
        "ax2.legend()\n",
        "'''\n",
        "plt.title(f'Accuracy Using PCA on Breakhis {px}X')\n",
        "plt.tight_layout()\n",
        "plt.savefig(f\"/content/acc-pca-{px}.png\")\n",
        "plt.show()"
      ],
      "execution_count": 67,
      "outputs": [
        {
          "output_type": "display_data",
          "data": {
            "image/png": "[encoded data removed]",
            "text/plain": [
              "<Figure size 432x288 with 1 Axes>"
            ]
          },
          "metadata": {
            "tags": []
          }
        }
      ]
    },
    {
      "cell_type": "code",
      "metadata": {
        "colab": {
          "base_uri": "https://localhost:8080/"
        },
        "id": "RM4ucTHqa4_y",
        "outputId": "7626887e-e068-4ba4-bda2-185835000913"
      },
      "source": [
        "px = f'{400}'\n",
        "comps = [2 ** i for i in range(1, 8)]\n",
        "\n",
        "for idx, val in enumerate(comps):\n",
        "  print(val , '&', round(results[px]['train'][idx] * 100, 2), '&', round(results[px]['dev'][idx] * 100, 2), '&',round(results[px]['test'][idx] * 100, 2), '\\\\\\\\ \\hline')"
      ],
      "execution_count": 63,
      "outputs": [
        {
          "output_type": "stream",
          "text": [
            "2 & 80.33 & 78.85 & 82.97 \\\\ \\hline\n",
            "4 & 79.34 & 78.3 & 82.6 \\\\ \\hline\n",
            "8 & 81.54 & 75.27 & 83.15 \\\\ \\hline\n",
            "16 & 87.14 & 79.4 & 84.43 \\\\ \\hline\n",
            "32 & 87.58 & 81.59 & 83.7 \\\\ \\hline\n",
            "64 & 92.31 & 81.32 & 82.05 \\\\ \\hline\n",
            "128 & 99.45 & 79.12 & 84.62 \\\\ \\hline\n"
          ],
          "name": "stdout"
        }
      ]
    },
    {
      "cell_type": "markdown",
      "metadata": {
        "id": "UStBRoFcATWn"
      },
      "source": [
        "## Transfer Learning"
      ]
    },
    {
      "cell_type": "code",
      "metadata": {
        "colab": {
          "base_uri": "https://localhost:8080/"
        },
        "id": "B4lGvvwrAgs-",
        "outputId": "cc79485c-6b52-43e1-e869-fba25eb29932"
      },
      "source": [
        "model = MobileNetV2()\n",
        "model.summary()"
      ],
      "execution_count": 16,
      "outputs": [
        {
          "output_type": "stream",
          "text": [
            "Downloading data from https://storage.googleapis.com/tensorflow/keras-applications/mobilenet_v2/mobilenet_v2_weights_tf_dim_ordering_tf_kernels_1.0_224.h5\n",
            "14540800/14536120 [==============================] - 0s 0us/step\n",
            "Model: \"mobilenetv2_1.00_224\"\n",
            "__________________________________________________________________________________________________\n",
            "Layer (type)                    Output Shape         Param #     Connected to                     \n",
            "==================================================================================================\n",
            "input_2 (InputLayer)            [(None, 224, 224, 3) 0                                            \n",
            "__________________________________________________________________________________________________\n",
            "Conv1_pad (ZeroPadding2D)       (None, 225, 225, 3)  0           input_2[0][0]                    \n",
            "__________________________________________________________________________________________________\n",
            "Conv1 (Conv2D)                  (None, 112, 112, 32) 864         Conv1_pad[0][0]                  \n",
            "__________________________________________________________________________________________________\n",
            "bn_Conv1 (BatchNormalization)   (None, 112, 112, 32) 128         Conv1[0][0]                      \n",
            "__________________________________________________________________________________________________\n",
            "Conv1_relu (ReLU)               (None, 112, 112, 32) 0           bn_Conv1[0][0]                   \n",
            "__________________________________________________________________________________________________\n",
            "expanded_conv_depthwise (Depthw (None, 112, 112, 32) 288         Conv1_relu[0][0]                 \n",
            "__________________________________________________________________________________________________\n",
            "expanded_conv_depthwise_BN (Bat (None, 112, 112, 32) 128         expanded_conv_depthwise[0][0]    \n",
            "__________________________________________________________________________________________________\n",
            "expanded_conv_depthwise_relu (R (None, 112, 112, 32) 0           expanded_conv_depthwise_BN[0][0] \n",
            "__________________________________________________________________________________________________\n",
            "expanded_conv_project (Conv2D)  (None, 112, 112, 16) 512         expanded_conv_depthwise_relu[0][0\n",
            "__________________________________________________________________________________________________\n",
            "expanded_conv_project_BN (Batch (None, 112, 112, 16) 64          expanded_conv_project[0][0]      \n",
            "__________________________________________________________________________________________________\n",
            "block_1_expand (Conv2D)         (None, 112, 112, 96) 1536        expanded_conv_project_BN[0][0]   \n",
            "__________________________________________________________________________________________________\n",
            "block_1_expand_BN (BatchNormali (None, 112, 112, 96) 384         block_1_expand[0][0]             \n",
            "__________________________________________________________________________________________________\n",
            "block_1_expand_relu (ReLU)      (None, 112, 112, 96) 0           block_1_expand_BN[0][0]          \n",
            "__________________________________________________________________________________________________\n",
            "block_1_pad (ZeroPadding2D)     (None, 113, 113, 96) 0           block_1_expand_relu[0][0]        \n",
            "__________________________________________________________________________________________________\n",
            "block_1_depthwise (DepthwiseCon (None, 56, 56, 96)   864         block_1_pad[0][0]                \n",
            "__________________________________________________________________________________________________\n",
            "block_1_depthwise_BN (BatchNorm (None, 56, 56, 96)   384         block_1_depthwise[0][0]          \n",
            "__________________________________________________________________________________________________\n",
            "block_1_depthwise_relu (ReLU)   (None, 56, 56, 96)   0           block_1_depthwise_BN[0][0]       \n",
            "__________________________________________________________________________________________________\n",
            "block_1_project (Conv2D)        (None, 56, 56, 24)   2304        block_1_depthwise_relu[0][0]     \n",
            "__________________________________________________________________________________________________\n",
            "block_1_project_BN (BatchNormal (None, 56, 56, 24)   96          block_1_project[0][0]            \n",
            "__________________________________________________________________________________________________\n",
            "block_2_expand (Conv2D)         (None, 56, 56, 144)  3456        block_1_project_BN[0][0]         \n",
            "__________________________________________________________________________________________________\n",
            "block_2_expand_BN (BatchNormali (None, 56, 56, 144)  576         block_2_expand[0][0]             \n",
            "__________________________________________________________________________________________________\n",
            "block_2_expand_relu (ReLU)      (None, 56, 56, 144)  0           block_2_expand_BN[0][0]          \n",
            "__________________________________________________________________________________________________\n",
            "block_2_depthwise (DepthwiseCon (None, 56, 56, 144)  1296        block_2_expand_relu[0][0]        \n",
            "__________________________________________________________________________________________________\n",
            "block_2_depthwise_BN (BatchNorm (None, 56, 56, 144)  576         block_2_depthwise[0][0]          \n",
            "__________________________________________________________________________________________________\n",
            "block_2_depthwise_relu (ReLU)   (None, 56, 56, 144)  0           block_2_depthwise_BN[0][0]       \n",
            "__________________________________________________________________________________________________\n",
            "block_2_project (Conv2D)        (None, 56, 56, 24)   3456        block_2_depthwise_relu[0][0]     \n",
            "__________________________________________________________________________________________________\n",
            "block_2_project_BN (BatchNormal (None, 56, 56, 24)   96          block_2_project[0][0]            \n",
            "__________________________________________________________________________________________________\n",
            "block_2_add (Add)               (None, 56, 56, 24)   0           block_1_project_BN[0][0]         \n",
            "                                                                 block_2_project_BN[0][0]         \n",
            "__________________________________________________________________________________________________\n",
            "block_3_expand (Conv2D)         (None, 56, 56, 144)  3456        block_2_add[0][0]                \n",
            "__________________________________________________________________________________________________\n",
            "block_3_expand_BN (BatchNormali (None, 56, 56, 144)  576         block_3_expand[0][0]             \n",
            "__________________________________________________________________________________________________\n",
            "block_3_expand_relu (ReLU)      (None, 56, 56, 144)  0           block_3_expand_BN[0][0]          \n",
            "__________________________________________________________________________________________________\n",
            "block_3_pad (ZeroPadding2D)     (None, 57, 57, 144)  0           block_3_expand_relu[0][0]        \n",
            "__________________________________________________________________________________________________\n",
            "block_3_depthwise (DepthwiseCon (None, 28, 28, 144)  1296        block_3_pad[0][0]                \n",
            "__________________________________________________________________________________________________\n",
            "block_3_depthwise_BN (BatchNorm (None, 28, 28, 144)  576         block_3_depthwise[0][0]          \n",
            "__________________________________________________________________________________________________\n",
            "block_3_depthwise_relu (ReLU)   (None, 28, 28, 144)  0           block_3_depthwise_BN[0][0]       \n",
            "__________________________________________________________________________________________________\n",
            "block_3_project (Conv2D)        (None, 28, 28, 32)   4608        block_3_depthwise_relu[0][0]     \n",
            "__________________________________________________________________________________________________\n",
            "block_3_project_BN (BatchNormal (None, 28, 28, 32)   128         block_3_project[0][0]            \n",
            "__________________________________________________________________________________________________\n",
            "block_4_expand (Conv2D)         (None, 28, 28, 192)  6144        block_3_project_BN[0][0]         \n",
            "__________________________________________________________________________________________________\n",
            "block_4_expand_BN (BatchNormali (None, 28, 28, 192)  768         block_4_expand[0][0]             \n",
            "__________________________________________________________________________________________________\n",
            "block_4_expand_relu (ReLU)      (None, 28, 28, 192)  0           block_4_expand_BN[0][0]          \n",
            "__________________________________________________________________________________________________\n",
            "block_4_depthwise (DepthwiseCon (None, 28, 28, 192)  1728        block_4_expand_relu[0][0]        \n",
            "__________________________________________________________________________________________________\n",
            "block_4_depthwise_BN (BatchNorm (None, 28, 28, 192)  768         block_4_depthwise[0][0]          \n",
            "__________________________________________________________________________________________________\n",
            "block_4_depthwise_relu (ReLU)   (None, 28, 28, 192)  0           block_4_depthwise_BN[0][0]       \n",
            "__________________________________________________________________________________________________\n",
            "block_4_project (Conv2D)        (None, 28, 28, 32)   6144        block_4_depthwise_relu[0][0]     \n",
            "__________________________________________________________________________________________________\n",
            "block_4_project_BN (BatchNormal (None, 28, 28, 32)   128         block_4_project[0][0]            \n",
            "__________________________________________________________________________________________________\n",
            "block_4_add (Add)               (None, 28, 28, 32)   0           block_3_project_BN[0][0]         \n",
            "                                                                 block_4_project_BN[0][0]         \n",
            "__________________________________________________________________________________________________\n",
            "block_5_expand (Conv2D)         (None, 28, 28, 192)  6144        block_4_add[0][0]                \n",
            "__________________________________________________________________________________________________\n",
            "block_5_expand_BN (BatchNormali (None, 28, 28, 192)  768         block_5_expand[0][0]             \n",
            "__________________________________________________________________________________________________\n",
            "block_5_expand_relu (ReLU)      (None, 28, 28, 192)  0           block_5_expand_BN[0][0]          \n",
            "__________________________________________________________________________________________________\n",
            "block_5_depthwise (DepthwiseCon (None, 28, 28, 192)  1728        block_5_expand_relu[0][0]        \n",
            "__________________________________________________________________________________________________\n",
            "block_5_depthwise_BN (BatchNorm (None, 28, 28, 192)  768         block_5_depthwise[0][0]          \n",
            "__________________________________________________________________________________________________\n",
            "block_5_depthwise_relu (ReLU)   (None, 28, 28, 192)  0           block_5_depthwise_BN[0][0]       \n",
            "__________________________________________________________________________________________________\n",
            "block_5_project (Conv2D)        (None, 28, 28, 32)   6144        block_5_depthwise_relu[0][0]     \n",
            "__________________________________________________________________________________________________\n",
            "block_5_project_BN (BatchNormal (None, 28, 28, 32)   128         block_5_project[0][0]            \n",
            "__________________________________________________________________________________________________\n",
            "block_5_add (Add)               (None, 28, 28, 32)   0           block_4_add[0][0]                \n",
            "                                                                 block_5_project_BN[0][0]         \n",
            "__________________________________________________________________________________________________\n",
            "block_6_expand (Conv2D)         (None, 28, 28, 192)  6144        block_5_add[0][0]                \n",
            "__________________________________________________________________________________________________\n",
            "block_6_expand_BN (BatchNormali (None, 28, 28, 192)  768         block_6_expand[0][0]             \n",
            "__________________________________________________________________________________________________\n",
            "block_6_expand_relu (ReLU)      (None, 28, 28, 192)  0           block_6_expand_BN[0][0]          \n",
            "__________________________________________________________________________________________________\n",
            "block_6_pad (ZeroPadding2D)     (None, 29, 29, 192)  0           block_6_expand_relu[0][0]        \n",
            "__________________________________________________________________________________________________\n",
            "block_6_depthwise (DepthwiseCon (None, 14, 14, 192)  1728        block_6_pad[0][0]                \n",
            "__________________________________________________________________________________________________\n",
            "block_6_depthwise_BN (BatchNorm (None, 14, 14, 192)  768         block_6_depthwise[0][0]          \n",
            "__________________________________________________________________________________________________\n",
            "block_6_depthwise_relu (ReLU)   (None, 14, 14, 192)  0           block_6_depthwise_BN[0][0]       \n",
            "__________________________________________________________________________________________________\n",
            "block_6_project (Conv2D)        (None, 14, 14, 64)   12288       block_6_depthwise_relu[0][0]     \n",
            "__________________________________________________________________________________________________\n",
            "block_6_project_BN (BatchNormal (None, 14, 14, 64)   256         block_6_project[0][0]            \n",
            "__________________________________________________________________________________________________\n",
            "block_7_expand (Conv2D)         (None, 14, 14, 384)  24576       block_6_project_BN[0][0]         \n",
            "__________________________________________________________________________________________________\n",
            "block_7_expand_BN (BatchNormali (None, 14, 14, 384)  1536        block_7_expand[0][0]             \n",
            "__________________________________________________________________________________________________\n",
            "block_7_expand_relu (ReLU)      (None, 14, 14, 384)  0           block_7_expand_BN[0][0]          \n",
            "__________________________________________________________________________________________________\n",
            "block_7_depthwise (DepthwiseCon (None, 14, 14, 384)  3456        block_7_expand_relu[0][0]        \n",
            "__________________________________________________________________________________________________\n",
            "block_7_depthwise_BN (BatchNorm (None, 14, 14, 384)  1536        block_7_depthwise[0][0]          \n",
            "__________________________________________________________________________________________________\n",
            "block_7_depthwise_relu (ReLU)   (None, 14, 14, 384)  0           block_7_depthwise_BN[0][0]       \n",
            "__________________________________________________________________________________________________\n",
            "block_7_project (Conv2D)        (None, 14, 14, 64)   24576       block_7_depthwise_relu[0][0]     \n",
            "__________________________________________________________________________________________________\n",
            "block_7_project_BN (BatchNormal (None, 14, 14, 64)   256         block_7_project[0][0]            \n",
            "__________________________________________________________________________________________________\n",
            "block_7_add (Add)               (None, 14, 14, 64)   0           block_6_project_BN[0][0]         \n",
            "                                                                 block_7_project_BN[0][0]         \n",
            "__________________________________________________________________________________________________\n",
            "block_8_expand (Conv2D)         (None, 14, 14, 384)  24576       block_7_add[0][0]                \n",
            "__________________________________________________________________________________________________\n",
            "block_8_expand_BN (BatchNormali (None, 14, 14, 384)  1536        block_8_expand[0][0]             \n",
            "__________________________________________________________________________________________________\n",
            "block_8_expand_relu (ReLU)      (None, 14, 14, 384)  0           block_8_expand_BN[0][0]          \n",
            "__________________________________________________________________________________________________\n",
            "block_8_depthwise (DepthwiseCon (None, 14, 14, 384)  3456        block_8_expand_relu[0][0]        \n",
            "__________________________________________________________________________________________________\n",
            "block_8_depthwise_BN (BatchNorm (None, 14, 14, 384)  1536        block_8_depthwise[0][0]          \n",
            "__________________________________________________________________________________________________\n",
            "block_8_depthwise_relu (ReLU)   (None, 14, 14, 384)  0           block_8_depthwise_BN[0][0]       \n",
            "__________________________________________________________________________________________________\n",
            "block_8_project (Conv2D)        (None, 14, 14, 64)   24576       block_8_depthwise_relu[0][0]     \n",
            "__________________________________________________________________________________________________\n",
            "block_8_project_BN (BatchNormal (None, 14, 14, 64)   256         block_8_project[0][0]            \n",
            "__________________________________________________________________________________________________\n",
            "block_8_add (Add)               (None, 14, 14, 64)   0           block_7_add[0][0]                \n",
            "                                                                 block_8_project_BN[0][0]         \n",
            "__________________________________________________________________________________________________\n",
            "block_9_expand (Conv2D)         (None, 14, 14, 384)  24576       block_8_add[0][0]                \n",
            "__________________________________________________________________________________________________\n",
            "block_9_expand_BN (BatchNormali (None, 14, 14, 384)  1536        block_9_expand[0][0]             \n",
            "__________________________________________________________________________________________________\n",
            "block_9_expand_relu (ReLU)      (None, 14, 14, 384)  0           block_9_expand_BN[0][0]          \n",
            "__________________________________________________________________________________________________\n",
            "block_9_depthwise (DepthwiseCon (None, 14, 14, 384)  3456        block_9_expand_relu[0][0]        \n",
            "__________________________________________________________________________________________________\n",
            "block_9_depthwise_BN (BatchNorm (None, 14, 14, 384)  1536        block_9_depthwise[0][0]          \n",
            "__________________________________________________________________________________________________\n",
            "block_9_depthwise_relu (ReLU)   (None, 14, 14, 384)  0           block_9_depthwise_BN[0][0]       \n",
            "__________________________________________________________________________________________________\n",
            "block_9_project (Conv2D)        (None, 14, 14, 64)   24576       block_9_depthwise_relu[0][0]     \n",
            "__________________________________________________________________________________________________\n",
            "block_9_project_BN (BatchNormal (None, 14, 14, 64)   256         block_9_project[0][0]            \n",
            "__________________________________________________________________________________________________\n",
            "block_9_add (Add)               (None, 14, 14, 64)   0           block_8_add[0][0]                \n",
            "                                                                 block_9_project_BN[0][0]         \n",
            "__________________________________________________________________________________________________\n",
            "block_10_expand (Conv2D)        (None, 14, 14, 384)  24576       block_9_add[0][0]                \n",
            "__________________________________________________________________________________________________\n",
            "block_10_expand_BN (BatchNormal (None, 14, 14, 384)  1536        block_10_expand[0][0]            \n",
            "__________________________________________________________________________________________________\n",
            "block_10_expand_relu (ReLU)     (None, 14, 14, 384)  0           block_10_expand_BN[0][0]         \n",
            "__________________________________________________________________________________________________\n",
            "block_10_depthwise (DepthwiseCo (None, 14, 14, 384)  3456        block_10_expand_relu[0][0]       \n",
            "__________________________________________________________________________________________________\n",
            "block_10_depthwise_BN (BatchNor (None, 14, 14, 384)  1536        block_10_depthwise[0][0]         \n",
            "__________________________________________________________________________________________________\n",
            "block_10_depthwise_relu (ReLU)  (None, 14, 14, 384)  0           block_10_depthwise_BN[0][0]      \n",
            "__________________________________________________________________________________________________\n",
            "block_10_project (Conv2D)       (None, 14, 14, 96)   36864       block_10_depthwise_relu[0][0]    \n",
            "__________________________________________________________________________________________________\n",
            "block_10_project_BN (BatchNorma (None, 14, 14, 96)   384         block_10_project[0][0]           \n",
            "__________________________________________________________________________________________________\n",
            "block_11_expand (Conv2D)        (None, 14, 14, 576)  55296       block_10_project_BN[0][0]        \n",
            "__________________________________________________________________________________________________\n",
            "block_11_expand_BN (BatchNormal (None, 14, 14, 576)  2304        block_11_expand[0][0]            \n",
            "__________________________________________________________________________________________________\n",
            "block_11_expand_relu (ReLU)     (None, 14, 14, 576)  0           block_11_expand_BN[0][0]         \n",
            "__________________________________________________________________________________________________\n",
            "block_11_depthwise (DepthwiseCo (None, 14, 14, 576)  5184        block_11_expand_relu[0][0]       \n",
            "__________________________________________________________________________________________________\n",
            "block_11_depthwise_BN (BatchNor (None, 14, 14, 576)  2304        block_11_depthwise[0][0]         \n",
            "__________________________________________________________________________________________________\n",
            "block_11_depthwise_relu (ReLU)  (None, 14, 14, 576)  0           block_11_depthwise_BN[0][0]      \n",
            "__________________________________________________________________________________________________\n",
            "block_11_project (Conv2D)       (None, 14, 14, 96)   55296       block_11_depthwise_relu[0][0]    \n",
            "__________________________________________________________________________________________________\n",
            "block_11_project_BN (BatchNorma (None, 14, 14, 96)   384         block_11_project[0][0]           \n",
            "__________________________________________________________________________________________________\n",
            "block_11_add (Add)              (None, 14, 14, 96)   0           block_10_project_BN[0][0]        \n",
            "                                                                 block_11_project_BN[0][0]        \n",
            "__________________________________________________________________________________________________\n",
            "block_12_expand (Conv2D)        (None, 14, 14, 576)  55296       block_11_add[0][0]               \n",
            "__________________________________________________________________________________________________\n",
            "block_12_expand_BN (BatchNormal (None, 14, 14, 576)  2304        block_12_expand[0][0]            \n",
            "__________________________________________________________________________________________________\n",
            "block_12_expand_relu (ReLU)     (None, 14, 14, 576)  0           block_12_expand_BN[0][0]         \n",
            "__________________________________________________________________________________________________\n",
            "block_12_depthwise (DepthwiseCo (None, 14, 14, 576)  5184        block_12_expand_relu[0][0]       \n",
            "__________________________________________________________________________________________________\n",
            "block_12_depthwise_BN (BatchNor (None, 14, 14, 576)  2304        block_12_depthwise[0][0]         \n",
            "__________________________________________________________________________________________________\n",
            "block_12_depthwise_relu (ReLU)  (None, 14, 14, 576)  0           block_12_depthwise_BN[0][0]      \n",
            "__________________________________________________________________________________________________\n",
            "block_12_project (Conv2D)       (None, 14, 14, 96)   55296       block_12_depthwise_relu[0][0]    \n",
            "__________________________________________________________________________________________________\n",
            "block_12_project_BN (BatchNorma (None, 14, 14, 96)   384         block_12_project[0][0]           \n",
            "__________________________________________________________________________________________________\n",
            "block_12_add (Add)              (None, 14, 14, 96)   0           block_11_add[0][0]               \n",
            "                                                                 block_12_project_BN[0][0]        \n",
            "__________________________________________________________________________________________________\n",
            "block_13_expand (Conv2D)        (None, 14, 14, 576)  55296       block_12_add[0][0]               \n",
            "__________________________________________________________________________________________________\n",
            "block_13_expand_BN (BatchNormal (None, 14, 14, 576)  2304        block_13_expand[0][0]            \n",
            "__________________________________________________________________________________________________\n",
            "block_13_expand_relu (ReLU)     (None, 14, 14, 576)  0           block_13_expand_BN[0][0]         \n",
            "__________________________________________________________________________________________________\n",
            "block_13_pad (ZeroPadding2D)    (None, 15, 15, 576)  0           block_13_expand_relu[0][0]       \n",
            "__________________________________________________________________________________________________\n",
            "block_13_depthwise (DepthwiseCo (None, 7, 7, 576)    5184        block_13_pad[0][0]               \n",
            "__________________________________________________________________________________________________\n",
            "block_13_depthwise_BN (BatchNor (None, 7, 7, 576)    2304        block_13_depthwise[0][0]         \n",
            "__________________________________________________________________________________________________\n",
            "block_13_depthwise_relu (ReLU)  (None, 7, 7, 576)    0           block_13_depthwise_BN[0][0]      \n",
            "__________________________________________________________________________________________________\n",
            "block_13_project (Conv2D)       (None, 7, 7, 160)    92160       block_13_depthwise_relu[0][0]    \n",
            "__________________________________________________________________________________________________\n",
            "block_13_project_BN (BatchNorma (None, 7, 7, 160)    640         block_13_project[0][0]           \n",
            "__________________________________________________________________________________________________\n",
            "block_14_expand (Conv2D)        (None, 7, 7, 960)    153600      block_13_project_BN[0][0]        \n",
            "__________________________________________________________________________________________________\n",
            "block_14_expand_BN (BatchNormal (None, 7, 7, 960)    3840        block_14_expand[0][0]            \n",
            "__________________________________________________________________________________________________\n",
            "block_14_expand_relu (ReLU)     (None, 7, 7, 960)    0           block_14_expand_BN[0][0]         \n",
            "__________________________________________________________________________________________________\n",
            "block_14_depthwise (DepthwiseCo (None, 7, 7, 960)    8640        block_14_expand_relu[0][0]       \n",
            "__________________________________________________________________________________________________\n",
            "block_14_depthwise_BN (BatchNor (None, 7, 7, 960)    3840        block_14_depthwise[0][0]         \n",
            "__________________________________________________________________________________________________\n",
            "block_14_depthwise_relu (ReLU)  (None, 7, 7, 960)    0           block_14_depthwise_BN[0][0]      \n",
            "__________________________________________________________________________________________________\n",
            "block_14_project (Conv2D)       (None, 7, 7, 160)    153600      block_14_depthwise_relu[0][0]    \n",
            "__________________________________________________________________________________________________\n",
            "block_14_project_BN (BatchNorma (None, 7, 7, 160)    640         block_14_project[0][0]           \n",
            "__________________________________________________________________________________________________\n",
            "block_14_add (Add)              (None, 7, 7, 160)    0           block_13_project_BN[0][0]        \n",
            "                                                                 block_14_project_BN[0][0]        \n",
            "__________________________________________________________________________________________________\n",
            "block_15_expand (Conv2D)        (None, 7, 7, 960)    153600      block_14_add[0][0]               \n",
            "__________________________________________________________________________________________________\n",
            "block_15_expand_BN (BatchNormal (None, 7, 7, 960)    3840        block_15_expand[0][0]            \n",
            "__________________________________________________________________________________________________\n",
            "block_15_expand_relu (ReLU)     (None, 7, 7, 960)    0           block_15_expand_BN[0][0]         \n",
            "__________________________________________________________________________________________________\n",
            "block_15_depthwise (DepthwiseCo (None, 7, 7, 960)    8640        block_15_expand_relu[0][0]       \n",
            "__________________________________________________________________________________________________\n",
            "block_15_depthwise_BN (BatchNor (None, 7, 7, 960)    3840        block_15_depthwise[0][0]         \n",
            "__________________________________________________________________________________________________\n",
            "block_15_depthwise_relu (ReLU)  (None, 7, 7, 960)    0           block_15_depthwise_BN[0][0]      \n",
            "__________________________________________________________________________________________________\n",
            "block_15_project (Conv2D)       (None, 7, 7, 160)    153600      block_15_depthwise_relu[0][0]    \n",
            "__________________________________________________________________________________________________\n",
            "block_15_project_BN (BatchNorma (None, 7, 7, 160)    640         block_15_project[0][0]           \n",
            "__________________________________________________________________________________________________\n",
            "block_15_add (Add)              (None, 7, 7, 160)    0           block_14_add[0][0]               \n",
            "                                                                 block_15_project_BN[0][0]        \n",
            "__________________________________________________________________________________________________\n",
            "block_16_expand (Conv2D)        (None, 7, 7, 960)    153600      block_15_add[0][0]               \n",
            "__________________________________________________________________________________________________\n",
            "block_16_expand_BN (BatchNormal (None, 7, 7, 960)    3840        block_16_expand[0][0]            \n",
            "__________________________________________________________________________________________________\n",
            "block_16_expand_relu (ReLU)     (None, 7, 7, 960)    0           block_16_expand_BN[0][0]         \n",
            "__________________________________________________________________________________________________\n",
            "block_16_depthwise (DepthwiseCo (None, 7, 7, 960)    8640        block_16_expand_relu[0][0]       \n",
            "__________________________________________________________________________________________________\n",
            "block_16_depthwise_BN (BatchNor (None, 7, 7, 960)    3840        block_16_depthwise[0][0]         \n",
            "__________________________________________________________________________________________________\n",
            "block_16_depthwise_relu (ReLU)  (None, 7, 7, 960)    0           block_16_depthwise_BN[0][0]      \n",
            "__________________________________________________________________________________________________\n",
            "block_16_project (Conv2D)       (None, 7, 7, 320)    307200      block_16_depthwise_relu[0][0]    \n",
            "__________________________________________________________________________________________________\n",
            "block_16_project_BN (BatchNorma (None, 7, 7, 320)    1280        block_16_project[0][0]           \n",
            "__________________________________________________________________________________________________\n",
            "Conv_1 (Conv2D)                 (None, 7, 7, 1280)   409600      block_16_project_BN[0][0]        \n",
            "__________________________________________________________________________________________________\n",
            "Conv_1_bn (BatchNormalization)  (None, 7, 7, 1280)   5120        Conv_1[0][0]                     \n",
            "__________________________________________________________________________________________________\n",
            "out_relu (ReLU)                 (None, 7, 7, 1280)   0           Conv_1_bn[0][0]                  \n",
            "__________________________________________________________________________________________________\n",
            "global_average_pooling2d_1 (Glo (None, 1280)         0           out_relu[0][0]                   \n",
            "__________________________________________________________________________________________________\n",
            "predictions (Dense)             (None, 1000)         1281000     global_average_pooling2d_1[0][0] \n",
            "==================================================================================================\n",
            "Total params: 3,538,984\n",
            "Trainable params: 3,504,872\n",
            "Non-trainable params: 34,112\n",
            "__________________________________________________________________________________________________\n"
          ],
          "name": "stdout"
        }
      ]
    },
    {
      "cell_type": "code",
      "metadata": {
        "id": "FgD0Mo6MBNDp"
      },
      "source": [
        "base_model = MobileNetV2(include_top=False, weights='imagenet', input_shape=(96, 96, 3))\n",
        "x = base_model.output\n",
        "x = GlobalAveragePooling2D()(x)\n",
        "x = Dense(4096, activation='relu')(x)\n",
        "x = Dropout(0.5)(x)\n",
        "x = Dense(2048, activation='relu')(x)\n",
        "preds = Dense(2, activation='softmax')(x)\n",
        "model = Model(inputs=base_model.input, outputs=preds, name='model_mnv2_breakhis')\n",
        "for layer in model.layers:\n",
        "    layer.trainable = False\n",
        "for layer in model.layers[len(model.layers) - 4:]:\n",
        "    layer.trainable = True\n",
        "earlyStopping = ReturnBestEarlyStopping(monitor='val_accuracy', \n",
        "                                          patience=50, \n",
        "                                          verbose=1, \n",
        "                                          mode='max', \n",
        "                                          restore_best_weights=True)\n",
        "model.compile(loss=tf.keras.losses.CategoricalCrossentropy(), \n",
        "              optimizer=tf.keras.optimizers.Adam(learning_rate=0.001), \n",
        "              metrics=['accuracy']\n",
        "              )"
      ],
      "execution_count": 89,
      "outputs": []
    },
    {
      "cell_type": "code",
      "metadata": {
        "id": "MReSktjOClaT"
      },
      "source": [
        "px = 40\n",
        "x_train = H5PYDataset(f'breakhis_{px}PX_96.hdf5', which_sets=('train',), sources = ['images'], load_in_memory=True).data_sources[0]\n",
        "y_train = H5PYDataset(f'breakhis_{px}PX_96.hdf5', which_sets=('train',), sources = ['labels'], load_in_memory=True).data_sources[0]\n",
        "y_train = tf.keras.utils.to_categorical(y_train, 2)\n",
        "\n",
        "x_dev = H5PYDataset(f'breakhis_{px}PX_96.hdf5', which_sets=('dev',), sources = ['images'], load_in_memory=True).data_sources[0]\n",
        "y_dev = H5PYDataset(f'breakhis_{px}PX_96.hdf5', which_sets=('dev',), sources = ['labels'], load_in_memory=True).data_sources[0]\n",
        "y_dev = tf.keras.utils.to_categorical(y_dev, 2)\n",
        "\n",
        "x_test = H5PYDataset(f'breakhis_{px}PX_96.hdf5', which_sets=('test',), sources = ['images'], load_in_memory=True).data_sources[0]\n",
        "y_test = H5PYDataset(f'breakhis_{px}PX_96.hdf5', which_sets=('test',), sources = ['labels'], load_in_memory=True).data_sources[0]\n",
        "y_test = tf.keras.utils.to_categorical(y_test, 2)"
      ],
      "execution_count": 95,
      "outputs": []
    },
    {
      "cell_type": "code",
      "metadata": {
        "colab": {
          "base_uri": "https://localhost:8080/"
        },
        "id": "yu5XtbgvC9iI",
        "outputId": "2c7301e5-63fc-4328-fad1-b88ac94be21d"
      },
      "source": [
        "x_train.shape, y_train.shape, x_dev.shape, y_dev.shape, x_test.shape, y_test.shape"
      ],
      "execution_count": 96,
      "outputs": [
        {
          "output_type": "execute_result",
          "data": {
            "text/plain": [
              "((998, 96, 96, 3),\n",
              " (998, 2),\n",
              " (399, 96, 96, 3),\n",
              " (399, 2),\n",
              " (598, 96, 96, 3),\n",
              " (598, 2))"
            ]
          },
          "metadata": {
            "tags": []
          },
          "execution_count": 96
        }
      ]
    },
    {
      "cell_type": "code",
      "metadata": {
        "id": "-dIE8MlmGBjQ"
      },
      "source": [
        ""
      ],
      "execution_count": 38,
      "outputs": []
    },
    {
      "cell_type": "code",
      "metadata": {
        "colab": {
          "base_uri": "https://localhost:8080/"
        },
        "id": "UgJKJPunFjFx",
        "outputId": "39a34369-15cb-4e9c-ddde-63c4794974fb"
      },
      "source": [
        "x_train_p = []\n",
        "for i in tqdm(range(x_train.shape[0])):\n",
        "  x_train_p.append(preprocess_input(x_train[i]))\n",
        "x_train_p = np.array(x_train_p)\n",
        "\n",
        "x_dev_p = []\n",
        "for i in tqdm(range(x_dev.shape[0])):\n",
        "  x_dev_p.append(preprocess_input(x_dev[i]))\n",
        "\n",
        "x_dev_p = np.array(x_dev_p)\n",
        "\n",
        "x_test_p = []\n",
        "for i in tqdm(range(x_test.shape[0])):\n",
        "  x_test_p.append(preprocess_input(x_test[i]))\n",
        "\n",
        "x_test_p = np.array(x_test_p)\n",
        "\n",
        "x_train_p.shape, y_train.shape, x_dev_p.shape, y_dev.shape, x_test_p.shape, y_test.shape"
      ],
      "execution_count": 97,
      "outputs": [
        {
          "output_type": "stream",
          "text": [
            "100%|██████████| 998/998 [00:00<00:00, 18534.22it/s]\n",
            "100%|██████████| 399/399 [00:00<00:00, 17826.81it/s]\n",
            "100%|██████████| 598/598 [00:00<00:00, 19250.41it/s]\n"
          ],
          "name": "stderr"
        },
        {
          "output_type": "execute_result",
          "data": {
            "text/plain": [
              "((998, 96, 96, 3),\n",
              " (998, 2),\n",
              " (399, 96, 96, 3),\n",
              " (399, 2),\n",
              " (598, 96, 96, 3),\n",
              " (598, 2))"
            ]
          },
          "metadata": {
            "tags": []
          },
          "execution_count": 97
        }
      ]
    },
    {
      "cell_type": "code",
      "metadata": {
        "colab": {
          "base_uri": "https://localhost:8080/"
        },
        "id": "LdAz0E3_DRMh",
        "outputId": "39bc4c4a-fada-40a8-849c-d6b35e61a067"
      },
      "source": [
        "model.fit(\n",
        "    x_train_p,\n",
        "    y_train,\n",
        "    epochs=100,\n",
        "    batch_size=128,\n",
        "    verbose=0,\n",
        "    validation_data=(x_dev_p, y_dev),\n",
        "    callbacks=[earlyStopping]\n",
        "    )\n",
        "score_train = model.evaluate(x_train_p, y_train, verbose=0)\n",
        "print('train', score_train)\n",
        "score_dev = model.evaluate(x_dev_p, y_dev, verbose=0)\n",
        "print('dev', score_dev)\n",
        "score_test = model.evaluate(x_test_p, y_test, verbose=0)\n",
        "print('test', score_test)"
      ],
      "execution_count": 98,
      "outputs": [
        {
          "output_type": "stream",
          "text": [
            "Restoring model weights from the end of the best epoch.\n",
            "\n",
            "Epoch 58: early stopping\n",
            "train [0.0005232167313806713, 1.0]\n",
            "dev [0.5463960766792297, 0.9047619104385376]\n",
            "test [0.4883361756801605, 0.8979933261871338]\n"
          ],
          "name": "stdout"
        }
      ]
    },
    {
      "cell_type": "code",
      "metadata": {
        "colab": {
          "base_uri": "https://localhost:8080/"
        },
        "id": "0aQGKghePEUB",
        "outputId": "5fa79e9b-f891-4738-d85a-373b347f2f62"
      },
      "source": [
        "results = {}\n",
        "for px in [40, 100, 200, 400]:\n",
        "  x_train = H5PYDataset(f'breakhis_{px}PX_96.hdf5', which_sets=('train',), sources = ['images'], load_in_memory=True).data_sources[0]\n",
        "  y_train = H5PYDataset(f'breakhis_{px}PX_96.hdf5', which_sets=('train',), sources = ['labels'], load_in_memory=True).data_sources[0]\n",
        "  y_train = tf.keras.utils.to_categorical(y_train, 2)\n",
        "\n",
        "  x_dev = H5PYDataset(f'breakhis_{px}PX_96.hdf5', which_sets=('dev',), sources = ['images'], load_in_memory=True).data_sources[0]\n",
        "  y_dev = H5PYDataset(f'breakhis_{px}PX_96.hdf5', which_sets=('dev',), sources = ['labels'], load_in_memory=True).data_sources[0]\n",
        "  y_dev = tf.keras.utils.to_categorical(y_dev, 2)\n",
        "\n",
        "  x_test = H5PYDataset(f'breakhis_{px}PX_96.hdf5', which_sets=('test',), sources = ['images'], load_in_memory=True).data_sources[0]\n",
        "  y_test = H5PYDataset(f'breakhis_{px}PX_96.hdf5', which_sets=('test',), sources = ['labels'], load_in_memory=True).data_sources[0]\n",
        "  y_test = tf.keras.utils.to_categorical(y_test, 2)\n",
        "\n",
        "  x_train_p = []\n",
        "  for i in tqdm(range(x_train.shape[0])):\n",
        "    x_train_p.append(preprocess_input(x_train[i]))\n",
        "  x_train_p = np.array(x_train_p)\n",
        "\n",
        "  x_dev_p = []\n",
        "  for i in tqdm(range(x_dev.shape[0])):\n",
        "    x_dev_p.append(preprocess_input(x_dev[i]))\n",
        "  x_dev_p = np.array(x_dev_p)\n",
        "\n",
        "  x_test_p = []\n",
        "  for i in tqdm(range(x_test.shape[0])):\n",
        "    x_test_p.append(preprocess_input(x_test[i]))\n",
        "  x_test_p = np.array(x_test_p)\n",
        "\n",
        "  base_model = MobileNetV2(include_top=False, weights='imagenet', input_shape=(96, 96, 3))\n",
        "  x = base_model.output\n",
        "  x = GlobalAveragePooling2D()(x)\n",
        "  x = Dense(4096, activation='relu')(x)\n",
        "  x = Dropout(0.5)(x)\n",
        "  x = Dense(2048, activation='relu')(x)\n",
        "  preds = Dense(2, activation='softmax')(x)\n",
        "  model = Model(inputs=base_model.input, outputs=preds, name=f'mbnet_{px}X_breakhis')\n",
        "  for layer in model.layers:\n",
        "      layer.trainable = False\n",
        "  for layer in model.layers[len(model.layers) - 4:]:\n",
        "      layer.trainable = True\n",
        "  earlyStopping = ReturnBestEarlyStopping(monitor='val_accuracy', \n",
        "                                            patience=100, \n",
        "                                            verbose=1, \n",
        "                                            mode='max', \n",
        "                                            restore_best_weights=True)\n",
        "  model.compile(loss=tf.keras.losses.CategoricalCrossentropy(), \n",
        "                optimizer=tf.keras.optimizers.Adam(learning_rate=0.001), \n",
        "                metrics=['accuracy']\n",
        "                )\n",
        "  history = model.fit(\n",
        "    x_train_p,\n",
        "    y_train,\n",
        "    epochs=100,\n",
        "    batch_size=128,\n",
        "    verbose=0,\n",
        "    validation_data=(x_dev_p, y_dev),\n",
        "    callbacks=[earlyStopping]\n",
        "    )\n",
        "  save_model_utils(model, path='/content')\n",
        "  save_history(history, f'{px}X_TL', path='/content')\n",
        "\n",
        "  score_train = model.evaluate(x_train_p, y_train, verbose=0)\n",
        "  score_dev = model.evaluate(x_dev_p, y_dev, verbose=0)\n",
        "  score_test = model.evaluate(x_test_p, y_test, verbose=0)\n",
        "\n",
        "  results[f'{px}'] = {\n",
        "      'train': score_train[1],\n",
        "      'dev': score_dev[1],\n",
        "      'test': score_test[1]\n",
        "  }\n",
        "results"
      ],
      "execution_count": 109,
      "outputs": [
        {
          "output_type": "stream",
          "text": [
            "100%|██████████| 998/998 [00:00<00:00, 18616.56it/s]\n",
            "100%|██████████| 399/399 [00:00<00:00, 18710.96it/s]\n",
            "100%|██████████| 598/598 [00:00<00:00, 18803.74it/s]\n"
          ],
          "name": "stderr"
        },
        {
          "output_type": "stream",
          "text": [
            "Restoring model weights from the end of the best epoch.\n",
            "saved as: mbnet_40X_breakhis\n"
          ],
          "name": "stdout"
        },
        {
          "output_type": "stream",
          "text": [
            "100%|██████████| 1041/1041 [00:00<00:00, 20198.32it/s]\n",
            "100%|██████████| 416/416 [00:00<00:00, 19714.71it/s]\n",
            "100%|██████████| 624/624 [00:00<00:00, 18881.54it/s]\n"
          ],
          "name": "stderr"
        },
        {
          "output_type": "stream",
          "text": [
            "Restoring model weights from the end of the best epoch.\n",
            "saved as: mbnet_100X_breakhis\n"
          ],
          "name": "stdout"
        },
        {
          "output_type": "stream",
          "text": [
            "100%|██████████| 1008/1008 [00:00<00:00, 18799.09it/s]\n",
            "100%|██████████| 402/402 [00:00<00:00, 19694.79it/s]\n",
            "100%|██████████| 603/603 [00:00<00:00, 20915.16it/s]\n"
          ],
          "name": "stderr"
        },
        {
          "output_type": "stream",
          "text": [
            "Restoring model weights from the end of the best epoch.\n",
            "saved as: mbnet_200X_breakhis\n"
          ],
          "name": "stdout"
        },
        {
          "output_type": "stream",
          "text": [
            "100%|██████████| 910/910 [00:00<00:00, 19457.17it/s]\n",
            "100%|██████████| 364/364 [00:00<00:00, 18703.47it/s]\n",
            "100%|██████████| 546/546 [00:00<00:00, 19937.58it/s]\n"
          ],
          "name": "stderr"
        },
        {
          "output_type": "stream",
          "text": [
            "Restoring model weights from the end of the best epoch.\n",
            "saved as: mbnet_400X_breakhis\n"
          ],
          "name": "stdout"
        },
        {
          "output_type": "execute_result",
          "data": {
            "text/plain": [
              "{'100': {'dev': 0.879807710647583, 'test': 0.8605769276618958, 'train': 1.0},\n",
              " '200': {'dev': 0.9154228568077087, 'test': 0.8855721354484558, 'train': 1.0},\n",
              " '40': {'dev': 0.9122806787490845, 'test': 0.9013378024101257, 'train': 1.0},\n",
              " '400': {'dev': 0.8653846383094788, 'test': 0.860805869102478, 'train': 1.0}}"
            ]
          },
          "metadata": {
            "tags": []
          },
          "execution_count": 109
        }
      ]
    },
    {
      "cell_type": "code",
      "metadata": {
        "id": "D29ySQiWYeLy"
      },
      "source": [
        "results['40']"
      ],
      "execution_count": null,
      "outputs": []
    },
    {
      "cell_type": "code",
      "metadata": {
        "id": "2Ufc2wtZVhbo"
      },
      "source": [
        "!cp \"/content/mbnet_40X_breakhis.h5\" \"/content/drive/Shareddrives/Redes Neuronales/Proyecto - RN/TL\"\n",
        "!cp \"/content/mbnet_100X_breakhis.h5\" \"/content/drive/Shareddrives/Redes Neuronales/Proyecto - RN/TL\"\n",
        "!cp \"/content/mbnet_200X_breakhis.h5\" \"/content/drive/Shareddrives/Redes Neuronales/Proyecto - RN/TL\"\n",
        "!cp \"/content/mbnet_400X_breakhis.h5\" \"/content/drive/Shareddrives/Redes Neuronales/Proyecto - RN/TL\""
      ],
      "execution_count": 110,
      "outputs": []
    },
    {
      "cell_type": "code",
      "metadata": {
        "id": "ZqipijeAVwO3"
      },
      "source": [
        "!cp \"/content/40X_TL.json\" \"/content/drive/Shareddrives/Redes Neuronales/Proyecto - RN/TL\"\n",
        "!cp \"/content/100X_TL.json\" \"/content/drive/Shareddrives/Redes Neuronales/Proyecto - RN/TL\"\n",
        "!cp \"/content/200X_TL.json\" \"/content/drive/Shareddrives/Redes Neuronales/Proyecto - RN/TL\"\n",
        "!cp \"/content/400X_TL.json\" \"/content/drive/Shareddrives/Redes Neuronales/Proyecto - RN/TL\""
      ],
      "execution_count": 111,
      "outputs": []
    },
    {
      "cell_type": "code",
      "metadata": {
        "colab": {
          "base_uri": "https://localhost:8080/",
          "height": 735
        },
        "id": "M7JnJVOLWKuc",
        "outputId": "bc37f4e2-6bbc-4453-b04b-d62b2a68368b"
      },
      "source": [
        "PX = 400\n",
        "ext = 'pdf'\n",
        "plot_metric(load_history(f'{PX}X_TL', path='/content/'), \n",
        "            'accuracy', \n",
        "            title=f'Training and Validation Accuracy - {PX}PX', \n",
        "            path='/content', \n",
        "            save=True,\n",
        "            ext=ext)\n",
        "plot_metric(load_history(f'{PX}X_TL', path='/content/'), \n",
        "            'loss', \n",
        "            title=f'Training and Validation Loss - {PX}PX', \n",
        "            path='/content', \n",
        "            save=True,\n",
        "            ext=ext)"
      ],
      "execution_count": 127,
      "outputs": [
        {
          "output_type": "display_data",
          "data": {
            "image/png": "[encoded data removed]",
            "text/plain": [
              "<Figure size 576x396 with 1 Axes>"
            ]
          },
          "metadata": {
            "tags": []
          }
        },
        {
          "output_type": "display_data",
          "data": {
            "image/png": "[encoded data removed]",
            "text/plain": [
              "<Figure size 576x396 with 1 Axes>"
            ]
          },
          "metadata": {
            "tags": []
          }
        }
      ]
    },
    {
      "cell_type": "code",
      "metadata": {
        "id": "Y1mPRNMEZ3Jv"
      },
      "source": [
        "px = 400\n",
        "ext='pdf'"
      ],
      "execution_count": 51,
      "outputs": []
    },
    {
      "cell_type": "code",
      "metadata": {
        "colab": {
          "base_uri": "https://localhost:8080/"
        },
        "id": "12VVQBXsX6-U",
        "outputId": "2418e775-4408-4488-a47c-f5e48cd7fb17"
      },
      "source": [
        "model_load = load_model_utils(f'mbnet_{px}X_breakhis', path='/content')"
      ],
      "execution_count": 52,
      "outputs": [
        {
          "output_type": "stream",
          "text": [
            "/content/mbnet_400X_breakhis.h5\n"
          ],
          "name": "stdout"
        }
      ]
    },
    {
      "cell_type": "code",
      "metadata": {
        "id": "BB51hNx8Ytgu"
      },
      "source": [
        "x_train = H5PYDataset(f'breakhis_{px}PX_96.hdf5', which_sets=('train',), sources = ['images'], load_in_memory=True).data_sources[0]\n",
        "y_train = H5PYDataset(f'breakhis_{px}PX_96.hdf5', which_sets=('train',), sources = ['labels'], load_in_memory=True).data_sources[0]\n",
        "y_train = tf.keras.utils.to_categorical(y_train, 2)\n",
        "\n",
        "x_dev = H5PYDataset(f'breakhis_{px}PX_96.hdf5', which_sets=('dev',), sources = ['images'], load_in_memory=True).data_sources[0]\n",
        "y_dev = H5PYDataset(f'breakhis_{px}PX_96.hdf5', which_sets=('dev',), sources = ['labels'], load_in_memory=True).data_sources[0]\n",
        "y_dev = tf.keras.utils.to_categorical(y_dev, 2)"
      ],
      "execution_count": 53,
      "outputs": []
    },
    {
      "cell_type": "code",
      "metadata": {
        "id": "GSsF1GDNYD9U"
      },
      "source": [
        "x_test = H5PYDataset(f'breakhis_{px}PX_96.hdf5', which_sets=('test',), sources = ['images'], load_in_memory=True).data_sources[0]\n",
        "y_test = H5PYDataset(f'breakhis_{px}PX_96.hdf5', which_sets=('test',), sources = ['labels'], load_in_memory=True).data_sources[0]\n",
        "y_true = H5PYDataset(f'breakhis_{px}PX_96.hdf5', which_sets=('test',), sources = ['labels'], load_in_memory=True).data_sources[0]\n",
        "y_test = tf.keras.utils.to_categorical(y_test, 2)"
      ],
      "execution_count": 54,
      "outputs": []
    },
    {
      "cell_type": "code",
      "metadata": {
        "colab": {
          "base_uri": "https://localhost:8080/"
        },
        "id": "J3x0MdsSYG4_",
        "outputId": "7c2bac2a-1014-4931-a389-7e9bba5f9518"
      },
      "source": [
        "x_train_p = []\n",
        "for i in tqdm(range(x_train.shape[0])):\n",
        "  x_train_p.append(preprocess_input(x_train[i]))\n",
        "x_train_p = np.array(x_train_p)\n",
        "\n",
        "x_dev_p = []\n",
        "for i in tqdm(range(x_dev.shape[0])):\n",
        "  x_dev_p.append(preprocess_input(x_dev[i]))\n",
        "x_dev_p = np.array(x_dev_p)\n",
        "\n",
        "x_test_p = []\n",
        "for i in tqdm(range(x_test.shape[0])):\n",
        "  x_test_p.append(preprocess_input(x_test[i]))\n",
        "x_test_p = np.array(x_test_p)"
      ],
      "execution_count": 55,
      "outputs": [
        {
          "output_type": "stream",
          "text": [
            "100%|██████████| 910/910 [00:00<00:00, 18182.59it/s]\n",
            "100%|██████████| 364/364 [00:00<00:00, 18740.20it/s]\n",
            "100%|██████████| 546/546 [00:00<00:00, 19719.89it/s]\n"
          ],
          "name": "stderr"
        }
      ]
    },
    {
      "cell_type": "code",
      "metadata": {
        "colab": {
          "base_uri": "https://localhost:8080/"
        },
        "id": "GztFf3OAZAre",
        "outputId": "d502ed2f-720e-4341-af2d-19ce475f92af"
      },
      "source": [
        "model_load.evaluate(x_train_p, y_train)"
      ],
      "execution_count": 56,
      "outputs": [
        {
          "output_type": "stream",
          "text": [
            "29/29 [==============================] - 1s 18ms/step - loss: 0.0013 - accuracy: 1.0000\n"
          ],
          "name": "stdout"
        },
        {
          "output_type": "execute_result",
          "data": {
            "text/plain": [
              "[0.0013466947712004185, 1.0]"
            ]
          },
          "metadata": {
            "tags": []
          },
          "execution_count": 56
        }
      ]
    },
    {
      "cell_type": "code",
      "metadata": {
        "colab": {
          "base_uri": "https://localhost:8080/"
        },
        "id": "RiJzb5AXZQy6",
        "outputId": "da50915a-5a37-47b1-bb80-f3af060dec3d"
      },
      "source": [
        "model_load.evaluate(x_dev_p, y_dev)"
      ],
      "execution_count": 57,
      "outputs": [
        {
          "output_type": "stream",
          "text": [
            "12/12 [==============================] - 0s 19ms/step - loss: 0.6764 - accuracy: 0.8654\n"
          ],
          "name": "stdout"
        },
        {
          "output_type": "execute_result",
          "data": {
            "text/plain": [
              "[0.6763752102851868, 0.8653846383094788]"
            ]
          },
          "metadata": {
            "tags": []
          },
          "execution_count": 57
        }
      ]
    },
    {
      "cell_type": "code",
      "metadata": {
        "colab": {
          "base_uri": "https://localhost:8080/"
        },
        "id": "Z33xkH57ZR7y",
        "outputId": "b1c045ce-3b7a-44f5-bb0a-80f77d6ca52d"
      },
      "source": [
        "model_load.evaluate(x_test_p, y_test)"
      ],
      "execution_count": 58,
      "outputs": [
        {
          "output_type": "stream",
          "text": [
            "18/18 [==============================] - 0s 15ms/step - loss: 0.5992 - accuracy: 0.8608\n"
          ],
          "name": "stdout"
        },
        {
          "output_type": "execute_result",
          "data": {
            "text/plain": [
              "[0.5992178916931152, 0.860805869102478]"
            ]
          },
          "metadata": {
            "tags": []
          },
          "execution_count": 58
        }
      ]
    },
    {
      "cell_type": "code",
      "metadata": {
        "colab": {
          "base_uri": "https://localhost:8080/"
        },
        "id": "26DwJBg8XsPB",
        "outputId": "126721ef-845c-44c7-81a5-4d966fefbe99"
      },
      "source": [
        "y_pred = model_load.predict(x_test_p)\n",
        "y_pred = np.argmax(y_pred, axis=1)\n",
        "cm = confusion_matrix(y_true=y_true,\n",
        "                      y_pred=y_pred)\n",
        "cm"
      ],
      "execution_count": 59,
      "outputs": [
        {
          "output_type": "execute_result",
          "data": {
            "text/plain": [
              "array([[114,  47],\n",
              "       [ 29, 356]])"
            ]
          },
          "metadata": {
            "tags": []
          },
          "execution_count": 59
        }
      ]
    },
    {
      "cell_type": "code",
      "metadata": {
        "colab": {
          "base_uri": "https://localhost:8080/",
          "height": 311
        },
        "id": "cG9_o9nyX07o",
        "outputId": "af102b3a-7a11-4300-8c49-57806c8e53b2"
      },
      "source": [
        "cm_plot_labels = ['bening','malignant']\n",
        "plot_confusion_matrix(cm=cm, \n",
        "                      classes=cm_plot_labels, \n",
        "                      title=f'Confusion Matrix using Transfer Learning {px}X', \n",
        "                      save=True,\n",
        "                      ext=ext)"
      ],
      "execution_count": 60,
      "outputs": [
        {
          "output_type": "display_data",
          "data": {
            "image/png": "[encoded data removed]",
            "text/plain": [
              "<Figure size 432x288 with 2 Axes>"
            ]
          },
          "metadata": {
            "tags": [],
            "needs_background": "light"
          }
        }
      ]
    }
  ]
}