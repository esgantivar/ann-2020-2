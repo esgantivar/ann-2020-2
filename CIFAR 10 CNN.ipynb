{
  "nbformat": 4,
  "nbformat_minor": 0,
  "metadata": {
    "colab": {
      "name": "CIFAR-10-CNN.ipynb",
      "provenance": []
    },
    "kernelspec": {
      "name": "python3",
      "display_name": "Python 3"
    },
    "accelerator": "GPU"
  },
  "cells": [
    {
      "cell_type": "code",
      "metadata": {
        "id": "fZMoKczipS5S"
      },
      "source": [
        "import tensorflow as tf\n",
        "from tensorflow.keras.layers import Conv2D, MaxPooling2D, Flatten, Dropout, Dense\n",
        "from tensorflow.keras.models import Sequential\n",
        "from tensorflow.keras.optimizers import Adam\n",
        "from tensorflow.keras.callbacks import EarlyStopping\n",
        "\n",
        "import matplotlib.pyplot as plt"
      ],
      "execution_count": 19,
      "outputs": []
    },
    {
      "cell_type": "code",
      "metadata": {
        "id": "RTR0jrAcqWVW"
      },
      "source": [
        "class ReturnBestEarlyStopping(EarlyStopping):\n",
        "  def __init__(self, **kwargs):\n",
        "    super(ReturnBestEarlyStopping, self).__init__(**kwargs)\n",
        "\n",
        "  def on_train_end(self, logs=None):\n",
        "    if self.stopped_epoch > 0:\n",
        "      if self.verbose > 0:\n",
        "        print(f'\\nEpoch {self.stopped_epoch + 1}: early stopping')\n",
        "    elif self.restore_best_weights:\n",
        "      if self.verbose > 0:\n",
        "        print('Restoring model weights from the end of the best epoch.')\n",
        "      self.model.set_weights(self.best_weights)"
      ],
      "execution_count": 13,
      "outputs": []
    },
    {
      "cell_type": "code",
      "metadata": {
        "id": "Ji4CjlWaq1w9"
      },
      "source": [
        "def plot_metric(history, metric, init=0, title='Training and validation', path='/content', save=False, ext='pdf'):\n",
        "  train_metrics = history[metric][init:]\n",
        "  val_metrics = history['val_'+metric][init:]\n",
        "  epochs = [i for i in range(init + 1, len(train_metrics) + 1 + init)]\n",
        "  with plt.style.context('seaborn'):\n",
        "    plt.plot(epochs, train_metrics, 'bo--')\n",
        "    plt.plot(epochs, val_metrics, 'ro-')\n",
        "    plt.title(title)\n",
        "    plt.xlabel(\"Epochs\")\n",
        "    plt.ylabel(metric)\n",
        "    plt.legend([\"train_\"+metric, 'val_'+metric])\n",
        "    if save:\n",
        "      plt.savefig(f\"{path}/{title}.{ext}\")\n",
        "  plt.show()"
      ],
      "execution_count": 17,
      "outputs": []
    },
    {
      "cell_type": "code",
      "metadata": {
        "colab": {
          "base_uri": "https://localhost:8080/"
        },
        "id": "eu_Rih7BpqG_",
        "outputId": "bdfd370a-a086-4187-fc99-9b6c3c86a7d9"
      },
      "source": [
        "(X_train, Y_train), (X_test, Y_test) = tf.keras.datasets.cifar10.load_data()"
      ],
      "execution_count": 2,
      "outputs": [
        {
          "output_type": "stream",
          "text": [
            "Downloading data from https://www.cs.toronto.edu/~kriz/cifar-10-python.tar.gz\n",
            "170500096/170498071 [==============================] - 4s 0us/step\n"
          ],
          "name": "stdout"
        }
      ]
    },
    {
      "cell_type": "code",
      "metadata": {
        "colab": {
          "base_uri": "https://localhost:8080/"
        },
        "id": "7A79dr6ipteq",
        "outputId": "a6d2c178-f27f-494b-c842-4f4246348af2"
      },
      "source": [
        "X_train.shape, Y_train.shape, X_test.shape, Y_test.shape"
      ],
      "execution_count": 3,
      "outputs": [
        {
          "output_type": "execute_result",
          "data": {
            "text/plain": [
              "((50000, 32, 32, 3), (50000, 1), (10000, 32, 32, 3), (10000, 1))"
            ]
          },
          "metadata": {
            "tags": []
          },
          "execution_count": 3
        }
      ]
    },
    {
      "cell_type": "code",
      "metadata": {
        "id": "l2ETSbpQpvYZ"
      },
      "source": [
        "NUM_CLASSES = 10\n",
        "CIFAR10_CLASSES = [\"airplane\", \"automobile\", \"bird\", \"cat\", \"deer\", \"dog\", \"frog\", \"horse\", \"ship\", \"truck\"]"
      ],
      "execution_count": 4,
      "outputs": []
    },
    {
      "cell_type": "code",
      "metadata": {
        "id": "rnv-dHk8pxH2"
      },
      "source": [
        "X_train = X_train / 255.0\n",
        "X_test = X_test / 255.0"
      ],
      "execution_count": 5,
      "outputs": []
    },
    {
      "cell_type": "code",
      "metadata": {
        "colab": {
          "base_uri": "https://localhost:8080/"
        },
        "id": "9shSUQ6Rpyhp",
        "outputId": "71c92136-9a46-4224-eb3a-52d8205570b9"
      },
      "source": [
        "Y_train = tf.keras.utils.to_categorical(Y_train)\n",
        "Y_test = tf.keras.utils.to_categorical(Y_test)\n",
        "Y_train.shape, Y_test.shape"
      ],
      "execution_count": 6,
      "outputs": [
        {
          "output_type": "execute_result",
          "data": {
            "text/plain": [
              "((50000, 10), (10000, 10))"
            ]
          },
          "metadata": {
            "tags": []
          },
          "execution_count": 6
        }
      ]
    },
    {
      "cell_type": "code",
      "metadata": {
        "colab": {
          "base_uri": "https://localhost:8080/"
        },
        "id": "Xhqh4t9ip18q",
        "outputId": "c422dc51-ddf6-498e-e51f-fccf27d2f892"
      },
      "source": [
        "model = Sequential()\n",
        "model.add(Conv2D(filters=32, kernel_size=3, padding='same', input_shape=(32, 32, 3), activation='relu'))\n",
        "model.add(Conv2D(filters=32, kernel_size=3, padding='same',  activation='relu'))\n",
        "model.add(MaxPooling2D(pool_size=2, strides=2, padding='valid'))\n",
        "model.add(Conv2D(filters=64,kernel_size=3,padding=\"same\", activation=\"relu\"))\n",
        "model.add(Conv2D(filters=64,kernel_size=3,padding=\"same\", activation=\"relu\"))\n",
        "model.add(MaxPooling2D(pool_size=2,strides=2,padding='valid'))\n",
        "model.add(Flatten())\n",
        "model.add(Dropout(0.5))\n",
        "model.add(Dense(units=128, activation='relu'))\n",
        "model.add(Dense(units=10, activation='softmax'))\n",
        "model.summary()"
      ],
      "execution_count": 10,
      "outputs": [
        {
          "output_type": "stream",
          "text": [
            "Model: \"sequential\"\n",
            "_________________________________________________________________\n",
            "Layer (type)                 Output Shape              Param #   \n",
            "=================================================================\n",
            "conv2d (Conv2D)              (None, 32, 32, 32)        896       \n",
            "_________________________________________________________________\n",
            "conv2d_1 (Conv2D)            (None, 32, 32, 32)        9248      \n",
            "_________________________________________________________________\n",
            "max_pooling2d (MaxPooling2D) (None, 16, 16, 32)        0         \n",
            "_________________________________________________________________\n",
            "conv2d_2 (Conv2D)            (None, 16, 16, 64)        18496     \n",
            "_________________________________________________________________\n",
            "conv2d_3 (Conv2D)            (None, 16, 16, 64)        36928     \n",
            "_________________________________________________________________\n",
            "max_pooling2d_1 (MaxPooling2 (None, 8, 8, 64)          0         \n",
            "_________________________________________________________________\n",
            "flatten (Flatten)            (None, 4096)              0         \n",
            "_________________________________________________________________\n",
            "dropout (Dropout)            (None, 4096)              0         \n",
            "_________________________________________________________________\n",
            "dense (Dense)                (None, 128)               524416    \n",
            "_________________________________________________________________\n",
            "dense_1 (Dense)              (None, 10)                1290      \n",
            "=================================================================\n",
            "Total params: 591,274\n",
            "Trainable params: 591,274\n",
            "Non-trainable params: 0\n",
            "_________________________________________________________________\n"
          ],
          "name": "stdout"
        }
      ]
    },
    {
      "cell_type": "code",
      "metadata": {
        "id": "BLewJGH5qjWl"
      },
      "source": [
        "earlyStopping = ReturnBestEarlyStopping(monitor='val_accuracy', \n",
        "                                        patience=50, \n",
        "                                        verbose=1, \n",
        "                                        mode='max', \n",
        "                                        restore_best_weights=True)"
      ],
      "execution_count": 14,
      "outputs": []
    },
    {
      "cell_type": "code",
      "metadata": {
        "id": "LTih2Xpwqlsd"
      },
      "source": [
        "model.compile(loss=tf.keras.losses.CategoricalCrossentropy(),\n",
        "              optimizer=tf.keras.optimizers.Adam(learning_rate=0.001),\n",
        "              metrics=['accuracy'])"
      ],
      "execution_count": 15,
      "outputs": []
    },
    {
      "cell_type": "code",
      "metadata": {
        "colab": {
          "base_uri": "https://localhost:8080/"
        },
        "id": "dVkUYkbzqmxQ",
        "outputId": "ff412656-a1ba-40a4-c173-b9760df21e9b"
      },
      "source": [
        "history = model.fit(x=X_train, \n",
        "                    y=Y_train, \n",
        "                    batch_size=128,\n",
        "                    epochs=50,  \n",
        "                    verbose=1,\n",
        "                    callbacks=[earlyStopping],\n",
        "                    validation_data=(X_test, Y_test))"
      ],
      "execution_count": 16,
      "outputs": [
        {
          "output_type": "stream",
          "text": [
            "Epoch 1/50\n",
            "391/391 [==============================] - 4s 11ms/step - loss: 1.5082 - accuracy: 0.4521 - val_loss: 1.1585 - val_accuracy: 0.5869\n",
            "Epoch 2/50\n",
            "391/391 [==============================] - 4s 10ms/step - loss: 1.1098 - accuracy: 0.6038 - val_loss: 1.0082 - val_accuracy: 0.6444\n",
            "Epoch 3/50\n",
            "391/391 [==============================] - 4s 10ms/step - loss: 0.9496 - accuracy: 0.6617 - val_loss: 0.8609 - val_accuracy: 0.6932\n",
            "Epoch 4/50\n",
            "391/391 [==============================] - 4s 10ms/step - loss: 0.8450 - accuracy: 0.7008 - val_loss: 0.8081 - val_accuracy: 0.7199\n",
            "Epoch 5/50\n",
            "391/391 [==============================] - 4s 10ms/step - loss: 0.7703 - accuracy: 0.7294 - val_loss: 0.7302 - val_accuracy: 0.7454\n",
            "Epoch 6/50\n",
            "391/391 [==============================] - 4s 10ms/step - loss: 0.7029 - accuracy: 0.7513 - val_loss: 0.7071 - val_accuracy: 0.7506\n",
            "Epoch 7/50\n",
            "391/391 [==============================] - 4s 10ms/step - loss: 0.6486 - accuracy: 0.7710 - val_loss: 0.6859 - val_accuracy: 0.7640\n",
            "Epoch 8/50\n",
            "391/391 [==============================] - 4s 10ms/step - loss: 0.6040 - accuracy: 0.7866 - val_loss: 0.6787 - val_accuracy: 0.7645\n",
            "Epoch 9/50\n",
            "391/391 [==============================] - 4s 10ms/step - loss: 0.5603 - accuracy: 0.8008 - val_loss: 0.6600 - val_accuracy: 0.7734\n",
            "Epoch 10/50\n",
            "391/391 [==============================] - 4s 10ms/step - loss: 0.5355 - accuracy: 0.8115 - val_loss: 0.6585 - val_accuracy: 0.7729\n",
            "Epoch 11/50\n",
            "391/391 [==============================] - 4s 10ms/step - loss: 0.4947 - accuracy: 0.8235 - val_loss: 0.6411 - val_accuracy: 0.7834\n",
            "Epoch 12/50\n",
            "391/391 [==============================] - 4s 10ms/step - loss: 0.4695 - accuracy: 0.8320 - val_loss: 0.6548 - val_accuracy: 0.7798\n",
            "Epoch 13/50\n",
            "391/391 [==============================] - 4s 10ms/step - loss: 0.4413 - accuracy: 0.8436 - val_loss: 0.6483 - val_accuracy: 0.7810\n",
            "Epoch 14/50\n",
            "391/391 [==============================] - 4s 10ms/step - loss: 0.4149 - accuracy: 0.8527 - val_loss: 0.6488 - val_accuracy: 0.7899\n",
            "Epoch 15/50\n",
            "391/391 [==============================] - 4s 10ms/step - loss: 0.3942 - accuracy: 0.8598 - val_loss: 0.6508 - val_accuracy: 0.7893\n",
            "Epoch 16/50\n",
            "391/391 [==============================] - 4s 10ms/step - loss: 0.3691 - accuracy: 0.8679 - val_loss: 0.6564 - val_accuracy: 0.7856\n",
            "Epoch 17/50\n",
            "391/391 [==============================] - 4s 10ms/step - loss: 0.3535 - accuracy: 0.8742 - val_loss: 0.6604 - val_accuracy: 0.7868\n",
            "Epoch 18/50\n",
            "391/391 [==============================] - 4s 10ms/step - loss: 0.3339 - accuracy: 0.8819 - val_loss: 0.6716 - val_accuracy: 0.7839\n",
            "Epoch 19/50\n",
            "391/391 [==============================] - 4s 10ms/step - loss: 0.3221 - accuracy: 0.8837 - val_loss: 0.6814 - val_accuracy: 0.7861\n",
            "Epoch 20/50\n",
            "391/391 [==============================] - 4s 10ms/step - loss: 0.3122 - accuracy: 0.8877 - val_loss: 0.6730 - val_accuracy: 0.7906\n",
            "Epoch 21/50\n",
            "391/391 [==============================] - 4s 10ms/step - loss: 0.2976 - accuracy: 0.8936 - val_loss: 0.6924 - val_accuracy: 0.7836\n",
            "Epoch 22/50\n",
            "391/391 [==============================] - 4s 10ms/step - loss: 0.2788 - accuracy: 0.9002 - val_loss: 0.7001 - val_accuracy: 0.7861\n",
            "Epoch 23/50\n",
            "391/391 [==============================] - 4s 10ms/step - loss: 0.2687 - accuracy: 0.9022 - val_loss: 0.6846 - val_accuracy: 0.7869\n",
            "Epoch 24/50\n",
            "391/391 [==============================] - 4s 10ms/step - loss: 0.2658 - accuracy: 0.9044 - val_loss: 0.7056 - val_accuracy: 0.7875\n",
            "Epoch 25/50\n",
            "391/391 [==============================] - 4s 10ms/step - loss: 0.2593 - accuracy: 0.9085 - val_loss: 0.7068 - val_accuracy: 0.7920\n",
            "Epoch 26/50\n",
            "391/391 [==============================] - 4s 10ms/step - loss: 0.2476 - accuracy: 0.9125 - val_loss: 0.7349 - val_accuracy: 0.7900\n",
            "Epoch 27/50\n",
            "391/391 [==============================] - 4s 10ms/step - loss: 0.2409 - accuracy: 0.9137 - val_loss: 0.7561 - val_accuracy: 0.7893\n",
            "Epoch 28/50\n",
            "391/391 [==============================] - 4s 10ms/step - loss: 0.2346 - accuracy: 0.9151 - val_loss: 0.7065 - val_accuracy: 0.7937\n",
            "Epoch 29/50\n",
            "391/391 [==============================] - 4s 10ms/step - loss: 0.2306 - accuracy: 0.9177 - val_loss: 0.7195 - val_accuracy: 0.7958\n",
            "Epoch 30/50\n",
            "391/391 [==============================] - 4s 10ms/step - loss: 0.2209 - accuracy: 0.9204 - val_loss: 0.7865 - val_accuracy: 0.7855\n",
            "Epoch 31/50\n",
            "391/391 [==============================] - 4s 10ms/step - loss: 0.2157 - accuracy: 0.9233 - val_loss: 0.7634 - val_accuracy: 0.7872\n",
            "Epoch 32/50\n",
            "391/391 [==============================] - 4s 10ms/step - loss: 0.2130 - accuracy: 0.9250 - val_loss: 0.7929 - val_accuracy: 0.7768\n",
            "Epoch 33/50\n",
            "391/391 [==============================] - 4s 10ms/step - loss: 0.2128 - accuracy: 0.9236 - val_loss: 0.7747 - val_accuracy: 0.7935\n",
            "Epoch 34/50\n",
            "391/391 [==============================] - 4s 10ms/step - loss: 0.2040 - accuracy: 0.9267 - val_loss: 0.7793 - val_accuracy: 0.7924\n",
            "Epoch 35/50\n",
            "391/391 [==============================] - 4s 10ms/step - loss: 0.1949 - accuracy: 0.9309 - val_loss: 0.7756 - val_accuracy: 0.7913\n",
            "Epoch 36/50\n",
            "391/391 [==============================] - 4s 10ms/step - loss: 0.1955 - accuracy: 0.9302 - val_loss: 0.7892 - val_accuracy: 0.7936\n",
            "Epoch 37/50\n",
            "391/391 [==============================] - 4s 10ms/step - loss: 0.1906 - accuracy: 0.9329 - val_loss: 0.7861 - val_accuracy: 0.7892\n",
            "Epoch 38/50\n",
            "391/391 [==============================] - 4s 10ms/step - loss: 0.1908 - accuracy: 0.9327 - val_loss: 0.7790 - val_accuracy: 0.7938\n",
            "Epoch 39/50\n",
            "391/391 [==============================] - 4s 10ms/step - loss: 0.1880 - accuracy: 0.9327 - val_loss: 0.7889 - val_accuracy: 0.7882\n",
            "Epoch 40/50\n",
            "391/391 [==============================] - 4s 10ms/step - loss: 0.1782 - accuracy: 0.9375 - val_loss: 0.7824 - val_accuracy: 0.7915\n",
            "Epoch 41/50\n",
            "391/391 [==============================] - 4s 10ms/step - loss: 0.1832 - accuracy: 0.9348 - val_loss: 0.7900 - val_accuracy: 0.7922\n",
            "Epoch 42/50\n",
            "391/391 [==============================] - 4s 10ms/step - loss: 0.1743 - accuracy: 0.9382 - val_loss: 0.8110 - val_accuracy: 0.7967\n",
            "Epoch 43/50\n",
            "391/391 [==============================] - 4s 10ms/step - loss: 0.1769 - accuracy: 0.9367 - val_loss: 0.7840 - val_accuracy: 0.7923\n",
            "Epoch 44/50\n",
            "391/391 [==============================] - 4s 10ms/step - loss: 0.1728 - accuracy: 0.9382 - val_loss: 0.7947 - val_accuracy: 0.7969\n",
            "Epoch 45/50\n",
            "391/391 [==============================] - 4s 10ms/step - loss: 0.1685 - accuracy: 0.9395 - val_loss: 0.7997 - val_accuracy: 0.7984\n",
            "Epoch 46/50\n",
            "391/391 [==============================] - 4s 10ms/step - loss: 0.1670 - accuracy: 0.9412 - val_loss: 0.7888 - val_accuracy: 0.7971\n",
            "Epoch 47/50\n",
            "391/391 [==============================] - 4s 10ms/step - loss: 0.1626 - accuracy: 0.9422 - val_loss: 0.8109 - val_accuracy: 0.7965\n",
            "Epoch 48/50\n",
            "391/391 [==============================] - 4s 10ms/step - loss: 0.1604 - accuracy: 0.9446 - val_loss: 0.8294 - val_accuracy: 0.7946\n",
            "Epoch 49/50\n",
            "391/391 [==============================] - 4s 10ms/step - loss: 0.1608 - accuracy: 0.9445 - val_loss: 0.7831 - val_accuracy: 0.8013\n",
            "Epoch 50/50\n",
            "391/391 [==============================] - 4s 10ms/step - loss: 0.1522 - accuracy: 0.9466 - val_loss: 0.8496 - val_accuracy: 0.7952\n",
            "Restoring model weights from the end of the best epoch.\n"
          ],
          "name": "stdout"
        }
      ]
    },
    {
      "cell_type": "code",
      "metadata": {
        "colab": {
          "base_uri": "https://localhost:8080/",
          "height": 376
        },
        "id": "zZ9OQXTLreeV",
        "outputId": "f4993cba-7af4-4695-e47a-32470766048f"
      },
      "source": [
        "plot_metric(history.history,\n",
        "            'accuracy', \n",
        "            title=f'Training and Validation Accuracy', \n",
        "            path='/content', \n",
        "            save=True, \n",
        "            ext='pdf')"
      ],
      "execution_count": 20,
      "outputs": [
        {
          "output_type": "display_data",
          "data": {
            "image/png": "[encoded data removed]",
            "text/plain": [
              "<Figure size 576x396 with 1 Axes>"
            ]
          },
          "metadata": {
            "tags": []
          }
        }
      ]
    },
    {
      "cell_type": "code",
      "metadata": {
        "colab": {
          "base_uri": "https://localhost:8080/",
          "height": 376
        },
        "id": "dnWOTo0Jrq5-",
        "outputId": "8eb0530f-a3ae-4895-9096-39cf3f561783"
      },
      "source": [
        "plot_metric(history.history,\n",
        "            'loss', \n",
        "            title=f'Training and Validation Accuracy', \n",
        "            path='/content', \n",
        "            save=True, \n",
        "            ext='pdf')"
      ],
      "execution_count": 21,
      "outputs": [
        {
          "output_type": "display_data",
          "data": {
            "image/png": "[encoded data removed]",
            "text/plain": [
              "<Figure size 576x396 with 1 Axes>"
            ]
          },
          "metadata": {
            "tags": []
          }
        }
      ]
    }
  ]
}