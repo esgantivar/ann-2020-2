{
  "nbformat": 4,
  "nbformat_minor": 0,
  "metadata": {
    "colab": {
      "name": "ANN - Project Breast Cancer.ipynb",
      "provenance": [],
      "collapsed_sections": []
    },
    "kernelspec": {
      "name": "python3",
      "display_name": "Python 3"
    },
    "accelerator": "GPU"
  },
  "cells": [
    {
      "cell_type": "markdown",
      "metadata": {
        "id": "lm5D-XRxumeS"
      },
      "source": [
        "# CLASIFICACIÓN DE IMÁGENES HISTOPATOLÓGICAS DE CÁNCER DE MAMA USANDO REDES NEURONALES CONVOLUCIONALES\n",
        "\n",
        "## Artificial Neural Networks - 2020-2\n",
        "\n",
        "* Gantiva, S esgantivar@unal.edu.co\n",
        "* Carrillo, E eccarrilloe@unal.edu.co\n",
        "* Garzón, E egarzonv@unal.edu.co\n",
        "* Velásquez, D arvelasqueza@unal.edu.co"
      ]
    },
    {
      "cell_type": "markdown",
      "metadata": {
        "id": "v-YzxgFFts7S"
      },
      "source": [
        "Mount Google Drive"
      ]
    },
    {
      "cell_type": "code",
      "metadata": {
        "id": "zkgAz3yXO9Y7",
        "outputId": "c87d64cd-4b3e-40db-ac30-e23f93fa9457",
        "colab": {
          "base_uri": "https://localhost:8080/"
        }
      },
      "source": [
        "from google.colab import drive\n",
        "drive.mount('/content/drive')"
      ],
      "execution_count": 1,
      "outputs": [
        {
          "output_type": "stream",
          "text": [
            "Mounted at /content/drive\n"
          ],
          "name": "stdout"
        }
      ]
    },
    {
      "cell_type": "markdown",
      "metadata": {
        "id": "g8BUGiDitv8S"
      },
      "source": [
        "Copy h5py datasets"
      ]
    },
    {
      "cell_type": "code",
      "metadata": {
        "id": "-X4_cv7Ot5OS"
      },
      "source": [
        "!cp '/content/drive/Shared drives/Redes Neuronales/Proyecto - RN/datasets/breakhis_40PX_96.hdf5' .\n",
        "!cp '/content/drive/Shared drives/Redes Neuronales/Proyecto - RN/datasets/breakhis_100PX_96.hdf5' .\n",
        "!cp '/content/drive/Shared drives/Redes Neuronales/Proyecto - RN/datasets/breakhis_200PX_96.hdf5' .\n",
        "!cp '/content/drive/Shared drives/Redes Neuronales/Proyecto - RN/datasets/breakhis_400PX_96.hdf5' ."
      ],
      "execution_count": 2,
      "outputs": []
    },
    {
      "cell_type": "markdown",
      "metadata": {
        "id": "hlY6UXDdtynb"
      },
      "source": [
        "Install additional libraries"
      ]
    },
    {
      "cell_type": "code",
      "metadata": {
        "id": "6i4W1o6bQFjp",
        "outputId": "879c3a53-59c8-4cb9-d1cd-d87a5d841757",
        "colab": {
          "base_uri": "https://localhost:8080/"
        }
      },
      "source": [
        "!pip install fuel -q"
      ],
      "execution_count": 3,
      "outputs": [
        {
          "output_type": "stream",
          "text": [
            "\u001b[?25l\r\u001b[K     |█▊                              | 10kB 26.7MB/s eta 0:00:01\r\u001b[K     |███▌                            | 20kB 4.2MB/s eta 0:00:01\r\u001b[K     |█████▎                          | 30kB 5.3MB/s eta 0:00:01\r\u001b[K     |███████                         | 40kB 6.0MB/s eta 0:00:01\r\u001b[K     |████████▉                       | 51kB 4.8MB/s eta 0:00:01\r\u001b[K     |██████████▋                     | 61kB 5.3MB/s eta 0:00:01\r\u001b[K     |████████████▍                   | 71kB 5.8MB/s eta 0:00:01\r\u001b[K     |██████████████▏                 | 81kB 6.3MB/s eta 0:00:01\r\u001b[K     |████████████████                | 92kB 6.7MB/s eta 0:00:01\r\u001b[K     |█████████████████▊              | 102kB 6.5MB/s eta 0:00:01\r\u001b[K     |███████████████████▌            | 112kB 6.5MB/s eta 0:00:01\r\u001b[K     |█████████████████████▎          | 122kB 6.5MB/s eta 0:00:01\r\u001b[K     |███████████████████████         | 133kB 6.5MB/s eta 0:00:01\r\u001b[K     |████████████████████████▉       | 143kB 6.5MB/s eta 0:00:01\r\u001b[K     |██████████████████████████▋     | 153kB 6.5MB/s eta 0:00:01\r\u001b[K     |████████████████████████████▍   | 163kB 6.5MB/s eta 0:00:01\r\u001b[K     |██████████████████████████████▏ | 174kB 6.5MB/s eta 0:00:01\r\u001b[K     |████████████████████████████████| 184kB 6.5MB/s eta 0:00:01\r\u001b[K     |████████████████████████████████| 194kB 6.5MB/s \n",
            "\u001b[?25h  Building wheel for fuel (setup.py) ... \u001b[?25l\u001b[?25hdone\n",
            "  Building wheel for picklable-itertools (setup.py) ... \u001b[?25l\u001b[?25hdone\n"
          ],
          "name": "stdout"
        }
      ]
    },
    {
      "cell_type": "markdown",
      "metadata": {
        "id": "zzwK4bFQuSTJ"
      },
      "source": [
        "Load libraries"
      ]
    },
    {
      "cell_type": "code",
      "metadata": {
        "id": "SU1tuXa8Pb-_"
      },
      "source": [
        "import numpy as np\n",
        "import pandas as pd\n",
        "import tensorflow as tf\n",
        "\n",
        "from tensorflow import keras\n",
        "from tensorflow.keras.models import Sequential, Model, load_model\n",
        "from tensorflow.keras.layers import Activation, Dense, Flatten, BatchNormalization, Conv2D, MaxPool2D, Dropout\n",
        "from tensorflow.keras.optimizers import Adam\n",
        "from tensorflow.keras.callbacks import EarlyStopping\n",
        "from sklearn.metrics import confusion_matrix"
      ],
      "execution_count": 4,
      "outputs": []
    },
    {
      "cell_type": "code",
      "metadata": {
        "id": "zW049WnXQD6k"
      },
      "source": [
        "from fuel.datasets import H5PYDataset"
      ],
      "execution_count": 5,
      "outputs": []
    },
    {
      "cell_type": "code",
      "metadata": {
        "id": "EFV_Y36cd4Vn"
      },
      "source": [
        "import matplotlib.pyplot as plt\n",
        "import itertools"
      ],
      "execution_count": 6,
      "outputs": []
    },
    {
      "cell_type": "code",
      "metadata": {
        "id": "bfKsEnCKbk-k"
      },
      "source": [
        "class ReturnBestEarlyStopping(EarlyStopping):\n",
        "    def __init__(self, **kwargs):\n",
        "        super(ReturnBestEarlyStopping, self).__init__(**kwargs)\n",
        "\n",
        "    def on_train_end(self, logs=None):\n",
        "        if self.stopped_epoch > 0:\n",
        "            if self.verbose > 0:\n",
        "                print(f'\\nEpoch {self.stopped_epoch + 1}: early stopping')\n",
        "        elif self.restore_best_weights:\n",
        "            if self.verbose > 0:\n",
        "                print('Restoring model weights from the end of the best epoch.')\n",
        "            self.model.set_weights(self.best_weights)"
      ],
      "execution_count": 7,
      "outputs": []
    },
    {
      "cell_type": "code",
      "metadata": {
        "id": "PQGbsj_9v6Cz"
      },
      "source": [
        "def plot_metric(history, metric, init=0, title='Training and validation', path='/notebooks/storage', save=False, ext='pdf'):\n",
        "  train_metrics = history[metric][init:]\n",
        "  val_metrics = history['val_'+metric][init:]\n",
        "  epochs = [i for i in range(init + 1, len(train_metrics) + 1 + init)]\n",
        "  plt.plot(epochs, train_metrics, 'bo--')\n",
        "  plt.plot(epochs, val_metrics, 'ro-')\n",
        "  plt.title(title)\n",
        "  plt.xlabel(\"Epochs\")\n",
        "  plt.ylabel(metric)\n",
        "  plt.legend([\"train_\"+metric, 'val_'+metric])\n",
        "  if save:\n",
        "    plt.savefig(f\"{path}/{title}.{ext}\")\n",
        "  plt.show()"
      ],
      "execution_count": 8,
      "outputs": []
    },
    {
      "cell_type": "code",
      "metadata": {
        "id": "hfEVnRCcyYVQ"
      },
      "source": [
        "def save_history(history, name, path='/notebooks/storage/histories'):\n",
        "    '''\n",
        "        history: Generated from training process\n",
        "        name: Name to persist the history on storage\n",
        "    '''\n",
        "    hist_df = pd.DataFrame(history.history) \n",
        "    hist_json_file = f'{path}/{name}.json' \n",
        "    with open(hist_json_file, mode='w') as f:\n",
        "        hist_df.to_json(f)"
      ],
      "execution_count": 9,
      "outputs": []
    },
    {
      "cell_type": "code",
      "metadata": {
        "id": "ALHTGnQjyyIx"
      },
      "source": [
        "def load_history(name, path='/notebooks/storage/histories'):    \n",
        "    '''\n",
        "        name: Name to find and load history\n",
        "    '''\n",
        "    return pd.read_json(f'{path}/{name}.json')"
      ],
      "execution_count": 10,
      "outputs": []
    },
    {
      "cell_type": "code",
      "metadata": {
        "id": "y4UXh-HQzekg"
      },
      "source": [
        "def save_model_utils(model, path='/notebooks/storage/models'):\n",
        "    model.save(f'{path}/{model.name}.h5')\n",
        "    print(f'saved as: {model.name}')"
      ],
      "execution_count": 12,
      "outputs": []
    },
    {
      "cell_type": "code",
      "metadata": {
        "id": "U8XVGtrHze52"
      },
      "source": [
        "def load_model_utils(name, path='/notebooks/storage/models'):\n",
        "    print(f'{path}/{name}.h5')\n",
        "    return load_model(f'{path}/{name}.h5')"
      ],
      "execution_count": 13,
      "outputs": []
    },
    {
      "cell_type": "code",
      "metadata": {
        "id": "LlAGqsF_6kY6"
      },
      "source": [
        "def plot_confusion_matrix(cm, classes,\n",
        "                        normalize=False,\n",
        "                        title='Confusion matrix',\n",
        "                        cmap=plt.cm.Blues,\n",
        "                        save=False,\n",
        "                        path='/content',\n",
        "                        ext='pdf'):\n",
        "    \"\"\"\n",
        "    This function prints and plots the confusion matrix.\n",
        "    Normalization can be applied by setting `normalize=True`.\n",
        "    \"\"\"\n",
        "    plt.imshow(cm, interpolation='nearest', cmap=cmap)\n",
        "    plt.title(title)\n",
        "    plt.colorbar()\n",
        "    tick_marks = np.arange(len(classes))\n",
        "    plt.xticks(tick_marks, classes, rotation=45)\n",
        "    plt.yticks(tick_marks, classes)\n",
        "\n",
        "    if normalize:\n",
        "        cm = cm.astype('float') / cm.sum(axis=1)[:, np.newaxis]\n",
        "        #print(\"Normalized confusion matrix\")\n",
        "\n",
        "    # print(cm)\n",
        "\n",
        "    thresh = cm.max() / 2.\n",
        "    for i, j in itertools.product(range(cm.shape[0]), range(cm.shape[1])):\n",
        "        plt.text(j, i, cm[i, j],\n",
        "            horizontalalignment=\"center\",\n",
        "            color=\"white\" if cm[i, j] > thresh else \"black\")\n",
        "\n",
        "    plt.tight_layout()\n",
        "    plt.ylabel('True label')\n",
        "    plt.xlabel('Predicted label')\n",
        "    if save:\n",
        "      plt.savefig(f\"{path}/{title}.{ext}\")"
      ],
      "execution_count": 14,
      "outputs": []
    },
    {
      "cell_type": "code",
      "metadata": {
        "id": "ToQQbgAWGuX8"
      },
      "source": [
        "lr = 0.0001"
      ],
      "execution_count": null,
      "outputs": []
    },
    {
      "cell_type": "code",
      "metadata": {
        "id": "1tWnS9HVGfQ3",
        "outputId": "ba3a39d4-afc3-47f6-a80d-4b7e2950daef",
        "colab": {
          "base_uri": "https://localhost:8080/"
        }
      },
      "source": [
        "for px in [40]:\n",
        "  model = Sequential(name=f'{px}PX_96_shallow')\n",
        "  model.add(Conv2D(input_shape=(96,96,3),filters=64,kernel_size=(3,3),padding=\"same\", activation=\"relu\"))\n",
        "  model.add(Conv2D(filters=64,kernel_size=(4,4),padding=\"same\", activation=\"relu\"))\n",
        "  model.add(MaxPool2D(pool_size=(2,2),strides=(2,2)))\n",
        "  model.add(Conv2D(filters=128, kernel_size=(3,3), padding=\"same\", activation=\"relu\"))\n",
        "  model.add(Conv2D(filters=128, kernel_size=(3,3), padding=\"same\", activation=\"relu\"))\n",
        "  model.add(MaxPool2D(pool_size=(2,2),strides=(2,2)))\n",
        "  model.add(Dropout(0.5))\n",
        "  model.add(Conv2D(filters=256, kernel_size=(3,3), padding=\"same\", activation=\"relu\"))\n",
        "  model.add(Conv2D(filters=256, kernel_size=(3,3), padding=\"same\", activation=\"relu\"))\n",
        "  model.add(MaxPool2D(pool_size=(2,2),strides=(2,2)))\n",
        "  model.add(Dropout(0.5))\n",
        "  model.add(Flatten())\n",
        "  model.add(Dense(units=4096,activation=\"relu\"))\n",
        "  model.add(Dense(units=4096,activation=\"relu\"))\n",
        "  model.add(Dense(units=2, activation=\"softmax\"))\n",
        "\n",
        "  model.summary()\n",
        "\n",
        "  earlyStopping = ReturnBestEarlyStopping(monitor='val_accuracy', \n",
        "                                          patience=50, \n",
        "                                          verbose=1, \n",
        "                                          mode='max', \n",
        "                                          restore_best_weights=True)\n",
        "  callback_list = [earlyStopping]\n",
        "\n",
        "  model.compile(optimizer=Adam(learning_rate=lr), \n",
        "                loss='categorical_crossentropy', \n",
        "                metrics=['accuracy'])\n",
        "  \n",
        "  x_train = H5PYDataset(f'breakhis_{px}PX_96.hdf5', which_sets=('train',), sources = ['images'], load_in_memory=True).data_sources[0]\n",
        "  y_train = H5PYDataset(f'breakhis_{px}PX_96.hdf5', which_sets=('train',), sources = ['labels'], load_in_memory=True).data_sources[0]\n",
        "  y_train = tf.keras.utils.to_categorical(y_train, 2)\n",
        "  print('train', x_train.shape, y_train.shape)\n",
        "\n",
        "  x_dev = H5PYDataset(f'breakhis_{px}PX_96.hdf5', which_sets=('dev',), sources = ['images'], load_in_memory=True).data_sources[0]\n",
        "  y_dev = H5PYDataset(f'breakhis_{px}PX_96.hdf5', which_sets=('dev',), sources = ['labels'], load_in_memory=True).data_sources[0]\n",
        "  y_dev = tf.keras.utils.to_categorical(y_dev, 2)\n",
        "  print('dev', x_dev.shape, y_dev.shape)\n",
        "\n",
        "  history = model.fit(x_train, \n",
        "                      y_train, \n",
        "                      epochs=50,\n",
        "                      verbose=1,\n",
        "                      batch_size=64, \n",
        "                      callbacks=callback_list,\n",
        "                      validation_data=(x_dev, y_dev))\n",
        "  \n",
        "  save_model_utils(model, path='/content')\n",
        "  save_history(history, f'{px}PX_shallow', path='/content')\n",
        "\n",
        "  x_test = H5PYDataset(f'breakhis_{px}PX_96.hdf5', which_sets=('test',), sources = ['images'], load_in_memory=True).data_sources[0]\n",
        "  y_test = H5PYDataset(f'breakhis_{px}PX_96.hdf5', which_sets=('test',), sources = ['labels'], load_in_memory=True).data_sources[0]\n",
        "  y_true = H5PYDataset(f'breakhis_{px}PX_96.hdf5', which_sets=('test',), sources = ['labels'], load_in_memory=True).data_sources[0]\n",
        "  y_test = tf.keras.utils.to_categorical(y_test, 2)\n",
        "  print('test', x_test.shape, y_test.shape)\n",
        "\n",
        "  score_train = model.evaluate(x_train, y_train, verbose=0)\n",
        "  print('train', score_train)\n",
        "  score_dev = model.evaluate(x_dev, y_dev, verbose=0)\n",
        "  print('dev', score_dev)\n",
        "  score_test = model.evaluate(x_test, y_test, verbose=0)\n",
        "  print('test', score_test)"
      ],
      "execution_count": null,
      "outputs": [
        {
          "output_type": "stream",
          "text": [
            "Model: \"40PX_96_shallow\"\n",
            "_________________________________________________________________\n",
            "Layer (type)                 Output Shape              Param #   \n",
            "=================================================================\n",
            "conv2d_18 (Conv2D)           (None, 96, 96, 64)        1792      \n",
            "_________________________________________________________________\n",
            "conv2d_19 (Conv2D)           (None, 96, 96, 64)        65600     \n",
            "_________________________________________________________________\n",
            "max_pooling2d_9 (MaxPooling2 (None, 48, 48, 64)        0         \n",
            "_________________________________________________________________\n",
            "conv2d_20 (Conv2D)           (None, 48, 48, 128)       73856     \n",
            "_________________________________________________________________\n",
            "conv2d_21 (Conv2D)           (None, 48, 48, 128)       147584    \n",
            "_________________________________________________________________\n",
            "max_pooling2d_10 (MaxPooling (None, 24, 24, 128)       0         \n",
            "_________________________________________________________________\n",
            "dropout_6 (Dropout)          (None, 24, 24, 128)       0         \n",
            "_________________________________________________________________\n",
            "conv2d_22 (Conv2D)           (None, 24, 24, 256)       295168    \n",
            "_________________________________________________________________\n",
            "conv2d_23 (Conv2D)           (None, 24, 24, 256)       590080    \n",
            "_________________________________________________________________\n",
            "max_pooling2d_11 (MaxPooling (None, 12, 12, 256)       0         \n",
            "_________________________________________________________________\n",
            "dropout_7 (Dropout)          (None, 12, 12, 256)       0         \n",
            "_________________________________________________________________\n",
            "flatten_3 (Flatten)          (None, 36864)             0         \n",
            "_________________________________________________________________\n",
            "dense_9 (Dense)              (None, 4096)              150999040 \n",
            "_________________________________________________________________\n",
            "dense_10 (Dense)             (None, 4096)              16781312  \n",
            "_________________________________________________________________\n",
            "dense_11 (Dense)             (None, 2)                 8194      \n",
            "=================================================================\n",
            "Total params: 168,962,626\n",
            "Trainable params: 168,962,626\n",
            "Non-trainable params: 0\n",
            "_________________________________________________________________\n",
            "train (998, 96, 96, 3) (998, 2)\n",
            "dev (399, 96, 96, 3) (399, 2)\n",
            "Epoch 1/50\n",
            " 2/16 [==>...........................] - ETA: 1s - loss: 33.8598 - accuracy: 0.5547WARNING:tensorflow:Callbacks method `on_train_batch_end` is slow compared to the batch time (batch time: 0.0577s vs `on_train_batch_end` time: 0.1272s). Check your callbacks.\n",
            "16/16 [==============================] - 4s 279ms/step - loss: 25.3576 - accuracy: 0.5772 - val_loss: 0.8437 - val_accuracy: 0.2982\n",
            "Epoch 2/50\n",
            "16/16 [==============================] - 3s 202ms/step - loss: 0.7668 - accuracy: 0.5972 - val_loss: 0.6893 - val_accuracy: 0.4862\n",
            "Epoch 3/50\n",
            "16/16 [==============================] - 3s 201ms/step - loss: 0.5959 - accuracy: 0.6814 - val_loss: 0.6034 - val_accuracy: 0.7970\n",
            "Epoch 4/50\n",
            "16/16 [==============================] - 3s 200ms/step - loss: 0.5466 - accuracy: 0.7345 - val_loss: 0.5051 - val_accuracy: 0.8321\n",
            "Epoch 5/50\n",
            "16/16 [==============================] - 3s 177ms/step - loss: 0.5049 - accuracy: 0.7956 - val_loss: 0.4991 - val_accuracy: 0.8020\n",
            "Epoch 6/50\n",
            "16/16 [==============================] - 3s 178ms/step - loss: 0.4762 - accuracy: 0.7986 - val_loss: 0.4758 - val_accuracy: 0.8246\n",
            "Epoch 7/50\n",
            "16/16 [==============================] - 3s 179ms/step - loss: 0.4740 - accuracy: 0.7886 - val_loss: 0.5213 - val_accuracy: 0.7945\n",
            "Epoch 8/50\n",
            "16/16 [==============================] - 3s 181ms/step - loss: 0.4791 - accuracy: 0.7906 - val_loss: 0.5172 - val_accuracy: 0.7945\n",
            "Epoch 9/50\n",
            "16/16 [==============================] - 3s 182ms/step - loss: 0.4772 - accuracy: 0.7936 - val_loss: 0.4675 - val_accuracy: 0.8296\n",
            "Epoch 10/50\n",
            "16/16 [==============================] - 3s 184ms/step - loss: 0.4843 - accuracy: 0.8006 - val_loss: 0.4836 - val_accuracy: 0.8145\n",
            "Epoch 11/50\n",
            "16/16 [==============================] - 3s 185ms/step - loss: 0.4964 - accuracy: 0.7735 - val_loss: 0.4768 - val_accuracy: 0.8195\n",
            "Epoch 12/50\n",
            "16/16 [==============================] - 3s 187ms/step - loss: 0.4551 - accuracy: 0.8146 - val_loss: 0.5027 - val_accuracy: 0.8045\n",
            "Epoch 13/50\n",
            "16/16 [==============================] - 3s 188ms/step - loss: 0.4405 - accuracy: 0.8166 - val_loss: 0.4952 - val_accuracy: 0.8221\n",
            "Epoch 14/50\n",
            "16/16 [==============================] - 3s 213ms/step - loss: 0.4487 - accuracy: 0.8186 - val_loss: 0.4882 - val_accuracy: 0.8396\n",
            "Epoch 15/50\n",
            "16/16 [==============================] - 3s 188ms/step - loss: 0.4309 - accuracy: 0.8226 - val_loss: 0.5212 - val_accuracy: 0.7970\n",
            "Epoch 16/50\n",
            "16/16 [==============================] - 3s 189ms/step - loss: 0.4250 - accuracy: 0.8267 - val_loss: 0.4587 - val_accuracy: 0.8120\n",
            "Epoch 17/50\n",
            "16/16 [==============================] - 3s 186ms/step - loss: 0.4410 - accuracy: 0.8156 - val_loss: 0.5321 - val_accuracy: 0.8070\n",
            "Epoch 18/50\n",
            "16/16 [==============================] - 3s 183ms/step - loss: 0.4192 - accuracy: 0.8206 - val_loss: 0.5315 - val_accuracy: 0.8070\n",
            "Epoch 19/50\n",
            "16/16 [==============================] - 3s 183ms/step - loss: 0.4362 - accuracy: 0.8186 - val_loss: 0.5035 - val_accuracy: 0.8045\n",
            "Epoch 20/50\n",
            "16/16 [==============================] - 3s 181ms/step - loss: 0.4173 - accuracy: 0.8206 - val_loss: 0.5018 - val_accuracy: 0.8145\n",
            "Epoch 21/50\n",
            "16/16 [==============================] - 3s 180ms/step - loss: 0.4014 - accuracy: 0.8307 - val_loss: 0.5570 - val_accuracy: 0.7970\n",
            "Epoch 22/50\n",
            "16/16 [==============================] - 3s 179ms/step - loss: 0.4060 - accuracy: 0.8287 - val_loss: 0.4800 - val_accuracy: 0.7995\n",
            "Epoch 23/50\n",
            "16/16 [==============================] - 3s 179ms/step - loss: 0.3865 - accuracy: 0.8347 - val_loss: 0.4533 - val_accuracy: 0.8296\n",
            "Epoch 24/50\n",
            "16/16 [==============================] - 3s 178ms/step - loss: 0.4723 - accuracy: 0.8016 - val_loss: 0.4936 - val_accuracy: 0.8095\n",
            "Epoch 25/50\n",
            "16/16 [==============================] - 3s 179ms/step - loss: 0.4315 - accuracy: 0.8257 - val_loss: 0.4725 - val_accuracy: 0.8145\n",
            "Epoch 26/50\n",
            "16/16 [==============================] - 3s 178ms/step - loss: 0.4252 - accuracy: 0.8196 - val_loss: 0.4988 - val_accuracy: 0.8020\n",
            "Epoch 27/50\n",
            "16/16 [==============================] - 3s 179ms/step - loss: 0.4282 - accuracy: 0.8226 - val_loss: 0.4706 - val_accuracy: 0.8296\n",
            "Epoch 28/50\n",
            "16/16 [==============================] - 3s 179ms/step - loss: 0.4741 - accuracy: 0.7986 - val_loss: 0.5023 - val_accuracy: 0.8045\n",
            "Epoch 29/50\n",
            "16/16 [==============================] - 3s 179ms/step - loss: 0.4396 - accuracy: 0.8026 - val_loss: 0.4156 - val_accuracy: 0.8221\n",
            "Epoch 30/50\n",
            "16/16 [==============================] - 3s 179ms/step - loss: 0.3918 - accuracy: 0.8367 - val_loss: 0.4756 - val_accuracy: 0.7920\n",
            "Epoch 31/50\n",
            "16/16 [==============================] - 3s 180ms/step - loss: 0.4135 - accuracy: 0.8066 - val_loss: 0.4622 - val_accuracy: 0.8296\n",
            "Epoch 32/50\n",
            "16/16 [==============================] - 3s 182ms/step - loss: 0.4047 - accuracy: 0.8377 - val_loss: 0.4389 - val_accuracy: 0.8170\n",
            "Epoch 33/50\n",
            "16/16 [==============================] - 3s 183ms/step - loss: 0.3865 - accuracy: 0.8417 - val_loss: 0.4483 - val_accuracy: 0.8045\n",
            "Epoch 34/50\n",
            "16/16 [==============================] - 3s 185ms/step - loss: 0.3896 - accuracy: 0.8387 - val_loss: 0.5401 - val_accuracy: 0.7368\n",
            "Epoch 35/50\n",
            "16/16 [==============================] - 3s 184ms/step - loss: 0.3565 - accuracy: 0.8527 - val_loss: 0.4150 - val_accuracy: 0.8195\n",
            "Epoch 36/50\n",
            "16/16 [==============================] - 3s 185ms/step - loss: 0.3536 - accuracy: 0.8567 - val_loss: 0.4684 - val_accuracy: 0.7644\n",
            "Epoch 37/50\n",
            "16/16 [==============================] - 3s 184ms/step - loss: 0.3867 - accuracy: 0.8257 - val_loss: 0.4391 - val_accuracy: 0.8120\n",
            "Epoch 38/50\n",
            "16/16 [==============================] - 3s 185ms/step - loss: 0.3375 - accuracy: 0.8557 - val_loss: 0.4128 - val_accuracy: 0.8296\n",
            "Epoch 39/50\n",
            "16/16 [==============================] - 3s 185ms/step - loss: 0.3539 - accuracy: 0.8527 - val_loss: 0.3942 - val_accuracy: 0.8246\n",
            "Epoch 40/50\n",
            "16/16 [==============================] - 3s 184ms/step - loss: 0.3209 - accuracy: 0.8557 - val_loss: 0.3749 - val_accuracy: 0.8396\n",
            "Epoch 41/50\n",
            "16/16 [==============================] - 3s 208ms/step - loss: 0.3812 - accuracy: 0.8397 - val_loss: 0.4083 - val_accuracy: 0.8421\n",
            "Epoch 42/50\n",
            "16/16 [==============================] - 3s 184ms/step - loss: 0.3441 - accuracy: 0.8597 - val_loss: 0.3713 - val_accuracy: 0.8421\n",
            "Epoch 43/50\n",
            "16/16 [==============================] - 3s 182ms/step - loss: 0.3243 - accuracy: 0.8607 - val_loss: 0.3718 - val_accuracy: 0.8321\n",
            "Epoch 44/50\n",
            "16/16 [==============================] - 3s 183ms/step - loss: 0.3537 - accuracy: 0.8497 - val_loss: 0.4066 - val_accuracy: 0.8296\n",
            "Epoch 45/50\n",
            "16/16 [==============================] - 3s 183ms/step - loss: 0.3247 - accuracy: 0.8617 - val_loss: 0.4281 - val_accuracy: 0.8296\n",
            "Epoch 46/50\n",
            "16/16 [==============================] - 3s 182ms/step - loss: 0.3068 - accuracy: 0.8707 - val_loss: 0.4047 - val_accuracy: 0.8221\n",
            "Epoch 47/50\n",
            "16/16 [==============================] - 3s 182ms/step - loss: 0.3033 - accuracy: 0.8788 - val_loss: 0.4172 - val_accuracy: 0.8095\n",
            "Epoch 48/50\n",
            "16/16 [==============================] - 3s 207ms/step - loss: 0.3867 - accuracy: 0.8347 - val_loss: 0.3990 - val_accuracy: 0.8446\n",
            "Epoch 49/50\n",
            "16/16 [==============================] - 3s 180ms/step - loss: 0.4017 - accuracy: 0.8056 - val_loss: 0.4795 - val_accuracy: 0.7970\n",
            "Epoch 50/50\n",
            "16/16 [==============================] - 3s 180ms/step - loss: 0.3154 - accuracy: 0.8737 - val_loss: 0.3837 - val_accuracy: 0.8396\n",
            "Restoring model weights from the end of the best epoch.\n",
            "saved as: 40PX_96_shallow\n",
            "test (598, 96, 96, 3) (598, 2)\n",
            "train [0.33471864461898804, 0.8947895765304565]\n",
            "dev [0.3989861011505127, 0.8446115255355835]\n",
            "test [0.4351772964000702, 0.8244147300720215]\n"
          ],
          "name": "stdout"
        }
      ]
    },
    {
      "cell_type": "code",
      "metadata": {
        "id": "UPFTun7WMJZn"
      },
      "source": [
        "!mv '/content/40PX_96_shallow.h5' '/content/drive/Shared drives/Redes Neuronales/Proyecto - RN/models'\n",
        "!mv '/content/100PX_96_shallow.h5' '/content/drive/Shared drives/Redes Neuronales/Proyecto - RN/models'\n",
        "!mv '/content/200PX_96_shallow.h5' '/content/drive/Shared drives/Redes Neuronales/Proyecto - RN/models'\n",
        "!mv '/content/400PX_96_shallow.h5' '/content/drive/Shared drives/Redes Neuronales/Proyecto - RN/models'\n",
        "\n",
        "!mv '/content/40PX_shallow.json' '/content/drive/Shared drives/Redes Neuronales/Proyecto - RN/histories'\n",
        "!mv '/content/100PX_shallow.json' '/content/drive/Shared drives/Redes Neuronales/Proyecto - RN/histories'\n",
        "!mv '/content/200PX_shallow.json' '/content/drive/Shared drives/Redes Neuronales/Proyecto - RN/histories'\n",
        "!mv '/content/400PX_shallow.json' '/content/drive/Shared drives/Redes Neuronales/Proyecto - RN/histories'"
      ],
      "execution_count": null,
      "outputs": []
    },
    {
      "cell_type": "markdown",
      "metadata": {
        "id": "JIEhto8_Dxq7"
      },
      "source": [
        "### Evaluate"
      ]
    },
    {
      "cell_type": "code",
      "metadata": {
        "id": "Lue4CdpQPafC"
      },
      "source": [
        "PX = 40"
      ],
      "execution_count": 15,
      "outputs": []
    },
    {
      "cell_type": "code",
      "metadata": {
        "id": "se_Mhe4J0civ",
        "outputId": "d82a69a8-dcd1-4910-cf09-05628ca10724",
        "colab": {
          "base_uri": "https://localhost:8080/"
        }
      },
      "source": [
        "model_load = load_model_utils(f'{PX}PX_96_shallow', path='/content/drive/Shared drives/Redes Neuronales/Proyecto - RN/models')"
      ],
      "execution_count": 16,
      "outputs": [
        {
          "output_type": "stream",
          "text": [
            "/content/drive/Shared drives/Redes Neuronales/Proyecto - RN/models/40PX_96_shallow.h5\n"
          ],
          "name": "stdout"
        }
      ]
    },
    {
      "cell_type": "code",
      "metadata": {
        "id": "Ad8rWBOLECyG",
        "outputId": "8277b1fe-349c-4bb3-e247-9bda12a77670",
        "colab": {
          "base_uri": "https://localhost:8080/"
        }
      },
      "source": [
        "x_test = H5PYDataset(f'breakhis_{PX}PX_96.hdf5', which_sets=('test',), sources = ['images'], load_in_memory=True).data_sources[0]\n",
        "y_test = H5PYDataset(f'breakhis_{PX}PX_96.hdf5', which_sets=('test',), sources = ['labels'], load_in_memory=True).data_sources[0]\n",
        "y_true = H5PYDataset(f'breakhis_{PX}PX_96.hdf5', which_sets=('test',), sources = ['labels'], load_in_memory=True).data_sources[0]\n",
        "y_test = tf.keras.utils.to_categorical(y_test, 2)\n",
        "x_test.shape, y_test.shape, y_true.shape"
      ],
      "execution_count": 17,
      "outputs": [
        {
          "output_type": "execute_result",
          "data": {
            "text/plain": [
              "((598, 96, 96, 3), (598, 2), (598,))"
            ]
          },
          "metadata": {
            "tags": []
          },
          "execution_count": 17
        }
      ]
    },
    {
      "cell_type": "code",
      "metadata": {
        "id": "kxDwCAvNEYh5",
        "outputId": "b2a9aca7-8db9-4c0b-ed13-a09d8905842f",
        "colab": {
          "base_uri": "https://localhost:8080/"
        }
      },
      "source": [
        "y_pred = model_load.predict(x_test)\n",
        "y_pred = np.argmax(y_pred, axis=1)\n",
        "cm = confusion_matrix(y_true=y_true,\n",
        "                      y_pred=y_pred)\n",
        "cm"
      ],
      "execution_count": 18,
      "outputs": [
        {
          "output_type": "execute_result",
          "data": {
            "text/plain": [
              "array([[107,  80],\n",
              "       [ 25, 386]])"
            ]
          },
          "metadata": {
            "tags": []
          },
          "execution_count": 18
        }
      ]
    },
    {
      "cell_type": "code",
      "metadata": {
        "id": "pPMA2IQ0QCyf"
      },
      "source": [
        "ext = 'png'"
      ],
      "execution_count": 19,
      "outputs": []
    },
    {
      "cell_type": "code",
      "metadata": {
        "id": "_TBE6Bm2y7Y4",
        "outputId": "c9232064-209c-43f1-e476-2feb27babb22",
        "colab": {
          "base_uri": "https://localhost:8080/",
          "height": 295
        }
      },
      "source": [
        "plot_metric(load_history(f'{PX}PX_shallow', path='/content/drive/Shared drives/Redes Neuronales/Proyecto - RN/histories'), \n",
        "            'accuracy', \n",
        "            title=f'Training and Validation Accuracy - {PX}PX', \n",
        "            path='/content', \n",
        "            save=True,\n",
        "            ext=ext)"
      ],
      "execution_count": 20,
      "outputs": [
        {
          "output_type": "display_data",
          "data": {
            "image/png": "[encoded data removed]",
            "text/plain": [
              "<Figure size 432x288 with 1 Axes>"
            ]
          },
          "metadata": {
            "tags": [],
            "needs_background": "light"
          }
        }
      ]
    },
    {
      "cell_type": "code",
      "metadata": {
        "id": "7Mg5WPyfzOfm",
        "outputId": "d4976afc-8681-4e83-a34d-0625a4d1823e",
        "colab": {
          "base_uri": "https://localhost:8080/",
          "height": 295
        }
      },
      "source": [
        "plot_metric(load_history(f'{PX}PX_shallow', path='/content/drive/Shared drives/Redes Neuronales/Proyecto - RN/histories'), \n",
        "            'loss', \n",
        "            init=1,\n",
        "            title=f'Training and Validation Loss - {PX}PX', \n",
        "            path='/content', \n",
        "            save=True,\n",
        "            ext=ext)"
      ],
      "execution_count": 21,
      "outputs": [
        {
          "output_type": "display_data",
          "data": {
            "image/png": "[encoded data removed]",
            "text/plain": [
              "<Figure size 432x288 with 1 Axes>"
            ]
          },
          "metadata": {
            "tags": [],
            "needs_background": "light"
          }
        }
      ]
    },
    {
      "cell_type": "code",
      "metadata": {
        "id": "gS0UHKEC4zRH"
      },
      "source": [
        "cm_plot_labels = ['bening','malignant']"
      ],
      "execution_count": 22,
      "outputs": []
    },
    {
      "cell_type": "code",
      "metadata": {
        "id": "-Y6_7p--5JdO",
        "outputId": "83240ce1-3ce5-4796-bffe-084b0f33923a",
        "colab": {
          "base_uri": "https://localhost:8080/",
          "height": 311
        }
      },
      "source": [
        "plot_confusion_matrix(cm=cm, \n",
        "                      classes=cm_plot_labels, \n",
        "                      title=f'Confusion Matrix {PX}PX', \n",
        "                      save=True,\n",
        "                      ext=ext)"
      ],
      "execution_count": 23,
      "outputs": [
        {
          "output_type": "display_data",
          "data": {
            "image/png": "[encoded data removed]",
            "text/plain": [
              "<Figure size 432x288 with 2 Axes>"
            ]
          },
          "metadata": {
            "tags": [],
            "needs_background": "light"
          }
        }
      ]
    }
  ]
}